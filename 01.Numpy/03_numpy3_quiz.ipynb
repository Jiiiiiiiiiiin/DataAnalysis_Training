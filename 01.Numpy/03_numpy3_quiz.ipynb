{
  "nbformat": 4,
  "nbformat_minor": 0,
  "metadata": {
    "colab": {
      "name": "03_numpy3_quiz.ipynb",
      "provenance": [],
      "collapsed_sections": []
    },
    "kernelspec": {
      "name": "python3",
      "display_name": "Python 3"
    },
    "language_info": {
      "name": "python"
    }
  },
  "cells": [
    {
      "cell_type": "markdown",
      "metadata": {
        "id": "T1vIQVlo4eJU"
      },
      "source": [
        "# Numpy Part3"
      ]
    },
    {
      "cell_type": "code",
      "metadata": {
        "id": "-P7n7EGW4bYO"
      },
      "source": [
        "import numpy as np"
      ],
      "execution_count": 1,
      "outputs": []
    },
    {
      "cell_type": "markdown",
      "metadata": {
        "id": "oYDtvWhl4osJ"
      },
      "source": [
        "## 6. Array Operation\n",
        "\n",
        "-Operations btw arrays ( 기본적인 사칙 연산 지원"
      ]
    },
    {
      "cell_type": "code",
      "metadata": {
        "colab": {
          "base_uri": "https://localhost:8080/"
        },
        "id": "p5cwQXNL4kIR",
        "outputId": "0e7ae2f1-030d-434d-f3d2-3a3a6e1f360c"
      },
      "source": [
        "a = np.arange(1,7).reshape(2,3)\n",
        "a"
      ],
      "execution_count": 3,
      "outputs": [
        {
          "output_type": "execute_result",
          "data": {
            "text/plain": [
              "array([[1, 2, 3],\n",
              "       [4, 5, 6]])"
            ]
          },
          "metadata": {
            "tags": []
          },
          "execution_count": 3
        }
      ]
    },
    {
      "cell_type": "code",
      "metadata": {
        "colab": {
          "base_uri": "https://localhost:8080/"
        },
        "id": "ZGfJ2eeH4zgb",
        "outputId": "0383034b-f7a3-4983-f1de-41bcff32184b"
      },
      "source": [
        "a + a"
      ],
      "execution_count": 4,
      "outputs": [
        {
          "output_type": "execute_result",
          "data": {
            "text/plain": [
              "array([[ 2,  4,  6],\n",
              "       [ 8, 10, 12]])"
            ]
          },
          "metadata": {
            "tags": []
          },
          "execution_count": 4
        }
      ]
    },
    {
      "cell_type": "code",
      "metadata": {
        "colab": {
          "base_uri": "https://localhost:8080/"
        },
        "id": "blbg_lYc41U1",
        "outputId": "93d44b78-fd46-40ed-d5a6-715e2e0e2ae3"
      },
      "source": [
        "a * a"
      ],
      "execution_count": 5,
      "outputs": [
        {
          "output_type": "execute_result",
          "data": {
            "text/plain": [
              "array([[ 1,  4,  9],\n",
              "       [16, 25, 36]])"
            ]
          },
          "metadata": {
            "tags": []
          },
          "execution_count": 5
        }
      ]
    },
    {
      "cell_type": "markdown",
      "metadata": {
        "id": "vZjoxW505Eg1"
      },
      "source": [
        "### dot product"
      ]
    },
    {
      "cell_type": "code",
      "metadata": {
        "colab": {
          "base_uri": "https://localhost:8080/"
        },
        "id": "2dTCavyN47Qj",
        "outputId": "93c079ac-6aaa-4a95-e428-d02b6e1d54f0"
      },
      "source": [
        "np.dot(a, a.T)     #(2,3).(3,2) => (2,2)"
      ],
      "execution_count": 6,
      "outputs": [
        {
          "output_type": "execute_result",
          "data": {
            "text/plain": [
              "array([[14, 32],\n",
              "       [32, 77]])"
            ]
          },
          "metadata": {
            "tags": []
          },
          "execution_count": 6
        }
      ]
    },
    {
      "cell_type": "code",
      "metadata": {
        "colab": {
          "base_uri": "https://localhost:8080/"
        },
        "id": "HcZtcawO6KcU",
        "outputId": "fa7405dd-8f7d-4644-a037-3252371e10b6"
      },
      "source": [
        "a.dot(a.T)"
      ],
      "execution_count": 8,
      "outputs": [
        {
          "output_type": "execute_result",
          "data": {
            "text/plain": [
              "array([[14, 32],\n",
              "       [32, 77]])"
            ]
          },
          "metadata": {
            "tags": []
          },
          "execution_count": 8
        }
      ]
    },
    {
      "cell_type": "markdown",
      "metadata": {
        "id": "1PwgeV-26siX"
      },
      "source": [
        "### Broadcasting\n",
        "\n",
        "- Shape 이 다른 배열간 연산 지원"
      ]
    },
    {
      "cell_type": "code",
      "metadata": {
        "colab": {
          "base_uri": "https://localhost:8080/"
        },
        "id": "XmTEWJ236ZLr",
        "outputId": "35d5f3e3-72fc-4295-8963-05c3853dffc7"
      },
      "source": [
        "a"
      ],
      "execution_count": 9,
      "outputs": [
        {
          "output_type": "execute_result",
          "data": {
            "text/plain": [
              "array([[1, 2, 3],\n",
              "       [4, 5, 6]])"
            ]
          },
          "metadata": {
            "tags": []
          },
          "execution_count": 9
        }
      ]
    },
    {
      "cell_type": "code",
      "metadata": {
        "colab": {
          "base_uri": "https://localhost:8080/"
        },
        "id": "6B-vetMs6uwW",
        "outputId": "50df5884-bc81-4c05-b6de-2fe92855744b"
      },
      "source": [
        "a + 3"
      ],
      "execution_count": 10,
      "outputs": [
        {
          "output_type": "execute_result",
          "data": {
            "text/plain": [
              "array([[4, 5, 6],\n",
              "       [7, 8, 9]])"
            ]
          },
          "metadata": {
            "tags": []
          },
          "execution_count": 10
        }
      ]
    },
    {
      "cell_type": "code",
      "metadata": {
        "colab": {
          "base_uri": "https://localhost:8080/"
        },
        "id": "5cz29kTY61qV",
        "outputId": "0cebe9f6-1e09-475f-9541-d1624e89da58"
      },
      "source": [
        "a // 3"
      ],
      "execution_count": 11,
      "outputs": [
        {
          "output_type": "execute_result",
          "data": {
            "text/plain": [
              "array([[0, 0, 1],\n",
              "       [1, 1, 2]])"
            ]
          },
          "metadata": {
            "tags": []
          },
          "execution_count": 11
        }
      ]
    },
    {
      "cell_type": "code",
      "metadata": {
        "colab": {
          "base_uri": "https://localhost:8080/"
        },
        "id": "1yFlyQLr66SC",
        "outputId": "37e1f5b0-74b5-4592-f677-83da07de9fb9"
      },
      "source": [
        "a % 3"
      ],
      "execution_count": 12,
      "outputs": [
        {
          "output_type": "execute_result",
          "data": {
            "text/plain": [
              "array([[1, 2, 0],\n",
              "       [1, 2, 0]])"
            ]
          },
          "metadata": {
            "tags": []
          },
          "execution_count": 12
        }
      ]
    },
    {
      "cell_type": "code",
      "metadata": {
        "id": "7odElDJ36_b6"
      },
      "source": [
        "b = np.array([10,20,30])"
      ],
      "execution_count": 13,
      "outputs": []
    },
    {
      "cell_type": "code",
      "metadata": {
        "colab": {
          "base_uri": "https://localhost:8080/"
        },
        "id": "M65p-kQp7PvF",
        "outputId": "905f1b2f-b437-42fb-fe2d-a7ae6c6a8a15"
      },
      "source": [
        "# 2차원 matrix와 1차원 vector간에도 사용 가능\n",
        "a+b"
      ],
      "execution_count": 14,
      "outputs": [
        {
          "output_type": "execute_result",
          "data": {
            "text/plain": [
              "array([[11, 22, 33],\n",
              "       [14, 25, 36]])"
            ]
          },
          "metadata": {
            "tags": []
          },
          "execution_count": 14
        }
      ]
    },
    {
      "cell_type": "markdown",
      "metadata": {
        "id": "iC2YHM3M7zN6"
      },
      "source": [
        "## 7. Comparison"
      ]
    },
    {
      "cell_type": "code",
      "metadata": {
        "id": "yJl4iC028X9m"
      },
      "source": [
        ""
      ],
      "execution_count": null,
      "outputs": []
    },
    {
      "cell_type": "markdown",
      "metadata": {
        "id": "8VA3elhj73Ll"
      },
      "source": [
        "### all & any\n",
        "\n",
        "- any 하나라도 조건에 만족하면 True\n",
        "\n",
        "- all 모두가 조건을 만족해야 True\n"
      ]
    },
    {
      "cell_type": "code",
      "metadata": {
        "colab": {
          "base_uri": "https://localhost:8080/"
        },
        "id": "rz17fgvC7QiE",
        "outputId": "0041c307-25c0-4980-cb46-ed2636e94f91"
      },
      "source": [
        "a = np.arange(8)\n",
        "a"
      ],
      "execution_count": 18,
      "outputs": [
        {
          "output_type": "execute_result",
          "data": {
            "text/plain": [
              "array([0, 1, 2, 3, 4, 5, 6, 7])"
            ]
          },
          "metadata": {
            "tags": []
          },
          "execution_count": 18
        }
      ]
    },
    {
      "cell_type": "code",
      "metadata": {
        "colab": {
          "base_uri": "https://localhost:8080/"
        },
        "id": "wzE6sA2877U8",
        "outputId": "6a82d0c0-68eb-4e2a-b14d-9176533fd8fc"
      },
      "source": [
        "a>4"
      ],
      "execution_count": 20,
      "outputs": [
        {
          "output_type": "execute_result",
          "data": {
            "text/plain": [
              "array([False, False, False, False, False,  True,  True,  True])"
            ]
          },
          "metadata": {
            "tags": []
          },
          "execution_count": 20
        }
      ]
    },
    {
      "cell_type": "code",
      "metadata": {
        "colab": {
          "base_uri": "https://localhost:8080/"
        },
        "id": "yvlbunik78fX",
        "outputId": "c3b3a92d-d579-44ec-f507-56e9dbeffc10"
      },
      "source": [
        "np.all(a>4), np.any(a>4)"
      ],
      "execution_count": 21,
      "outputs": [
        {
          "output_type": "execute_result",
          "data": {
            "text/plain": [
              "(False, True)"
            ]
          },
          "metadata": {
            "tags": []
          },
          "execution_count": 21
        }
      ]
    },
    {
      "cell_type": "code",
      "metadata": {
        "colab": {
          "base_uri": "https://localhost:8080/"
        },
        "id": "tSZcH87j8Tvp",
        "outputId": "33c79d06-99a5-4d47-ce11-47a638356d73"
      },
      "source": [
        "x = np.array([1,3,0])\n",
        "y = np.array([5,2,1])\n",
        "x>y"
      ],
      "execution_count": 22,
      "outputs": [
        {
          "output_type": "execute_result",
          "data": {
            "text/plain": [
              "array([False,  True, False])"
            ]
          },
          "metadata": {
            "tags": []
          },
          "execution_count": 22
        }
      ]
    },
    {
      "cell_type": "code",
      "metadata": {
        "colab": {
          "base_uri": "https://localhost:8080/"
        },
        "id": "0ew6nRhZ8qIE",
        "outputId": "e6160009-1fd9-40ca-b54e-d765769291b0"
      },
      "source": [
        "np.all(x>y), np.any(x>y)"
      ],
      "execution_count": 23,
      "outputs": [
        {
          "output_type": "execute_result",
          "data": {
            "text/plain": [
              "(False, True)"
            ]
          },
          "metadata": {
            "tags": []
          },
          "execution_count": 23
        }
      ]
    },
    {
      "cell_type": "code",
      "metadata": {
        "colab": {
          "base_uri": "https://localhost:8080/"
        },
        "id": "3XW1CHL48xbq",
        "outputId": "111419c6-2d85-4830-df66-05ff7742ae98"
      },
      "source": [
        "x == y"
      ],
      "execution_count": 24,
      "outputs": [
        {
          "output_type": "execute_result",
          "data": {
            "text/plain": [
              "array([False, False, False])"
            ]
          },
          "metadata": {
            "tags": []
          },
          "execution_count": 24
        }
      ]
    },
    {
      "cell_type": "markdown",
      "metadata": {
        "id": "rHYR403i8-Zt"
      },
      "source": [
        "### logical operation\n",
        "\n",
        "- and\n",
        "- or\n",
        "- not"
      ]
    },
    {
      "cell_type": "code",
      "metadata": {
        "colab": {
          "base_uri": "https://localhost:8080/"
        },
        "id": "Axpd_UEw8yqW",
        "outputId": "a623d649-1676-4c2a-9666-16ed321328a1"
      },
      "source": [
        "a = np.array([1,3,0],float)\n",
        "b = np.logical_and(a>0, a<3)    # 0 < a < 3\n",
        "b"
      ],
      "execution_count": 28,
      "outputs": [
        {
          "output_type": "execute_result",
          "data": {
            "text/plain": [
              "array([ True, False, False])"
            ]
          },
          "metadata": {
            "tags": []
          },
          "execution_count": 28
        }
      ]
    },
    {
      "cell_type": "code",
      "metadata": {
        "colab": {
          "base_uri": "https://localhost:8080/"
        },
        "id": "ZQcO8JTC9PDW",
        "outputId": "0c79b510-764b-49c3-e6ab-03f3df46bd46"
      },
      "source": [
        "np.logical_not(b)"
      ],
      "execution_count": 29,
      "outputs": [
        {
          "output_type": "execute_result",
          "data": {
            "text/plain": [
              "array([False,  True,  True])"
            ]
          },
          "metadata": {
            "tags": []
          },
          "execution_count": 29
        }
      ]
    },
    {
      "cell_type": "code",
      "metadata": {
        "colab": {
          "base_uri": "https://localhost:8080/"
        },
        "id": "1sJnMghM9e32",
        "outputId": "29cc6043-1a7f-4ef2-cb66-a438e67aa044"
      },
      "source": [
        "c = np.logical_not(b)\n",
        "c"
      ],
      "execution_count": 30,
      "outputs": [
        {
          "output_type": "execute_result",
          "data": {
            "text/plain": [
              "array([False,  True,  True])"
            ]
          },
          "metadata": {
            "tags": []
          },
          "execution_count": 30
        }
      ]
    },
    {
      "cell_type": "code",
      "metadata": {
        "colab": {
          "base_uri": "https://localhost:8080/"
        },
        "id": "guyGaXao9pPv",
        "outputId": "86a9afe3-5f04-41cf-e4f1-60cab9392d85"
      },
      "source": [
        "np.logical_or(b,c)"
      ],
      "execution_count": 31,
      "outputs": [
        {
          "output_type": "execute_result",
          "data": {
            "text/plain": [
              "array([ True,  True,  True])"
            ]
          },
          "metadata": {
            "tags": []
          },
          "execution_count": 31
        }
      ]
    },
    {
      "cell_type": "code",
      "metadata": {
        "colab": {
          "base_uri": "https://localhost:8080/"
        },
        "id": "EA8bqlof9rcK",
        "outputId": "b3d1ee75-7967-4eae-aaad-1c036e2f7234"
      },
      "source": [
        "np.logical_xor(b,c)"
      ],
      "execution_count": 32,
      "outputs": [
        {
          "output_type": "execute_result",
          "data": {
            "text/plain": [
              "array([ True,  True,  True])"
            ]
          },
          "metadata": {
            "tags": []
          },
          "execution_count": 32
        }
      ]
    },
    {
      "cell_type": "code",
      "metadata": {
        "colab": {
          "base_uri": "https://localhost:8080/"
        },
        "id": "TgpiUIrO9tqK",
        "outputId": "2f8c60dd-1902-412e-d695-4f069e5a1aa5"
      },
      "source": [
        "np.where(a>1, 10, 0)   # where(condition, True일때의 값, False일때의 값)"
      ],
      "execution_count": 33,
      "outputs": [
        {
          "output_type": "execute_result",
          "data": {
            "text/plain": [
              "array([ 0, 10,  0])"
            ]
          },
          "metadata": {
            "tags": []
          },
          "execution_count": 33
        }
      ]
    },
    {
      "cell_type": "code",
      "metadata": {
        "colab": {
          "base_uri": "https://localhost:8080/"
        },
        "id": "Hhm1YeSJ-JkR",
        "outputId": "68eea42c-e6a7-4264-b6f2-9e5c4572c250"
      },
      "source": [
        "np.where(np.arange(10,20) > 15)   #비워두면 ture의 index값 반환"
      ],
      "execution_count": 34,
      "outputs": [
        {
          "output_type": "execute_result",
          "data": {
            "text/plain": [
              "(array([6, 7, 8, 9]),)"
            ]
          },
          "metadata": {
            "tags": []
          },
          "execution_count": 34
        }
      ]
    },
    {
      "cell_type": "code",
      "metadata": {
        "colab": {
          "base_uri": "https://localhost:8080/"
        },
        "id": "P9vO5o9B-l0F",
        "outputId": "b3341c7f-b7c8-444e-8786-ef6c646ed454"
      },
      "source": [
        "# Infinite, Not a Number\n",
        "# np,Inf, np.Nan\n",
        "# 실수가 됨\n",
        "\n",
        "a = np.array([np.Inf, np.NaN, 1, np.nan, np.inf, np.NAN])\n",
        "a"
      ],
      "execution_count": 39,
      "outputs": [
        {
          "output_type": "execute_result",
          "data": {
            "text/plain": [
              "array([inf, nan,  1., nan, inf, nan])"
            ]
          },
          "metadata": {
            "tags": []
          },
          "execution_count": 39
        }
      ]
    },
    {
      "cell_type": "code",
      "metadata": {
        "colab": {
          "base_uri": "https://localhost:8080/"
        },
        "id": "nm-7iGo7_acE",
        "outputId": "4bbfb047-6d52-443d-be85-6b2c37a4e3eb"
      },
      "source": [
        "np.isnan(a)   # is not a number?"
      ],
      "execution_count": 40,
      "outputs": [
        {
          "output_type": "execute_result",
          "data": {
            "text/plain": [
              "array([False,  True, False,  True, False,  True])"
            ]
          },
          "metadata": {
            "tags": []
          },
          "execution_count": 40
        }
      ]
    },
    {
      "cell_type": "code",
      "metadata": {
        "colab": {
          "base_uri": "https://localhost:8080/"
        },
        "id": "VQhKgnpI_wHx",
        "outputId": "b1c0e387-d6e2-4569-bf89-1746747b6f62"
      },
      "source": [
        "np.isfinite(a)      # is finite number? 실수냐"
      ],
      "execution_count": 41,
      "outputs": [
        {
          "output_type": "execute_result",
          "data": {
            "text/plain": [
              "array([False, False,  True, False, False, False])"
            ]
          },
          "metadata": {
            "tags": []
          },
          "execution_count": 41
        }
      ]
    },
    {
      "cell_type": "code",
      "metadata": {
        "colab": {
          "base_uri": "https://localhost:8080/"
        },
        "id": "3hTVxnnL_2s3",
        "outputId": "28377840-e671-4bf0-c9be-7b527b92cbf8"
      },
      "source": [
        "np.isnan(a).sum()    #a안에 nan이 3개"
      ],
      "execution_count": 43,
      "outputs": [
        {
          "output_type": "execute_result",
          "data": {
            "text/plain": [
              "3"
            ]
          },
          "metadata": {
            "tags": []
          },
          "execution_count": 43
        }
      ]
    },
    {
      "cell_type": "markdown",
      "metadata": {
        "id": "-EPxdEIlERNI"
      },
      "source": [
        "### argmax, argmin\n",
        "\n",
        "- array 내 최대값 또는 최소값의 index 를 리턴\n",
        "- np.argmax(a), np.argmin (a)"
      ]
    },
    {
      "cell_type": "code",
      "metadata": {
        "colab": {
          "base_uri": "https://localhost:8080/"
        },
        "id": "QXGR4nkPALgH",
        "outputId": "db80508f-28b9-47b3-d9ae-d5af51479cb1"
      },
      "source": [
        "a = np.array([1,2,4,5,8,78,23,3])\n",
        "np.argmax(a), np.argmin(a)"
      ],
      "execution_count": 48,
      "outputs": [
        {
          "output_type": "execute_result",
          "data": {
            "text/plain": [
              "(5, 0)"
            ]
          },
          "metadata": {
            "tags": []
          },
          "execution_count": 48
        }
      ]
    },
    {
      "cell_type": "code",
      "metadata": {
        "colab": {
          "base_uri": "https://localhost:8080/"
        },
        "id": "_KpQuwRUEcga",
        "outputId": "ec8c2923-8a31-4c1a-aee1-dd794d2356e7"
      },
      "source": [
        "a = a.reshape(2, -1)\n",
        "np.argmax(a), np.argmin(a)"
      ],
      "execution_count": 53,
      "outputs": [
        {
          "output_type": "execute_result",
          "data": {
            "text/plain": [
              "(5, 0)"
            ]
          },
          "metadata": {
            "tags": []
          },
          "execution_count": 53
        }
      ]
    },
    {
      "cell_type": "code",
      "metadata": {
        "colab": {
          "base_uri": "https://localhost:8080/"
        },
        "id": "9LmG3SKaFAFr",
        "outputId": "e7748fed-1d4c-41e9-9b39-de6a595d8d9d"
      },
      "source": [
        "a"
      ],
      "execution_count": 54,
      "outputs": [
        {
          "output_type": "execute_result",
          "data": {
            "text/plain": [
              "array([[ 1,  2,  4,  5],\n",
              "       [ 8, 78, 23,  3]])"
            ]
          },
          "metadata": {
            "tags": []
          },
          "execution_count": 54
        }
      ]
    },
    {
      "cell_type": "code",
      "metadata": {
        "colab": {
          "base_uri": "https://localhost:8080/"
        },
        "id": "86c7hCa-FIHw",
        "outputId": "7db2177f-f767-425d-9c86-6d439eedbc50"
      },
      "source": [
        "index = 5\n",
        "row, col = index // 4, index % 4\n",
        "row, col"
      ],
      "execution_count": 55,
      "outputs": [
        {
          "output_type": "execute_result",
          "data": {
            "text/plain": [
              "(1, 1)"
            ]
          },
          "metadata": {
            "tags": []
          },
          "execution_count": 55
        }
      ]
    },
    {
      "cell_type": "code",
      "metadata": {
        "colab": {
          "base_uri": "https://localhost:8080/"
        },
        "id": "vHBamKWXFRiI",
        "outputId": "faa93da5-96f2-4d66-9f1d-531525461209"
      },
      "source": [
        "a[row, col]"
      ],
      "execution_count": 57,
      "outputs": [
        {
          "output_type": "execute_result",
          "data": {
            "text/plain": [
              "78"
            ]
          },
          "metadata": {
            "tags": []
          },
          "execution_count": 57
        }
      ]
    },
    {
      "cell_type": "code",
      "metadata": {
        "colab": {
          "base_uri": "https://localhost:8080/"
        },
        "id": "U3bt0PwEExmC",
        "outputId": "65be854b-1904-4cba-9b41-4b33ab454bf3"
      },
      "source": [
        "np.argmax(a, axis=1), np.argmin(a, axis=1)"
      ],
      "execution_count": 50,
      "outputs": [
        {
          "output_type": "execute_result",
          "data": {
            "text/plain": [
              "(array([3, 1]), array([0, 3]))"
            ]
          },
          "metadata": {
            "tags": []
          },
          "execution_count": 50
        }
      ]
    },
    {
      "cell_type": "code",
      "metadata": {
        "colab": {
          "base_uri": "https://localhost:8080/"
        },
        "id": "X-MZlUOCE4Jw",
        "outputId": "6e1f8659-f1a9-4ad9-da4d-2b2b88aa5afe"
      },
      "source": [
        "a"
      ],
      "execution_count": 51,
      "outputs": [
        {
          "output_type": "execute_result",
          "data": {
            "text/plain": [
              "array([[ 1,  2,  4,  5],\n",
              "       [ 8, 78, 23,  3]])"
            ]
          },
          "metadata": {
            "tags": []
          },
          "execution_count": 51
        }
      ]
    },
    {
      "cell_type": "markdown",
      "metadata": {
        "id": "qgQGHD6CFuVm"
      },
      "source": [
        "## 8. Boolean & fancy index"
      ]
    },
    {
      "cell_type": "markdown",
      "metadata": {
        "id": "JjTJUMVWGLrS"
      },
      "source": [
        " ### boolean index\n",
        "\n",
        " - 조건이 True 인 index 의 element 만 추출"
      ]
    },
    {
      "cell_type": "code",
      "metadata": {
        "colab": {
          "base_uri": "https://localhost:8080/"
        },
        "id": "MIum5QqwE4-6",
        "outputId": "9e646d50-a4b8-48a1-892a-c18cba10b0ea"
      },
      "source": [
        "a > 4"
      ],
      "execution_count": 58,
      "outputs": [
        {
          "output_type": "execute_result",
          "data": {
            "text/plain": [
              "array([[False, False, False,  True],\n",
              "       [ True,  True,  True, False]])"
            ]
          },
          "metadata": {
            "tags": []
          },
          "execution_count": 58
        }
      ]
    },
    {
      "cell_type": "code",
      "metadata": {
        "colab": {
          "base_uri": "https://localhost:8080/"
        },
        "id": "TQ4PKLx0FzUr",
        "outputId": "fcff2327-e600-4820-bc86-5ae3627fca82"
      },
      "source": [
        "a[a>4]"
      ],
      "execution_count": 59,
      "outputs": [
        {
          "output_type": "execute_result",
          "data": {
            "text/plain": [
              "array([ 5,  8, 78, 23])"
            ]
          },
          "metadata": {
            "tags": []
          },
          "execution_count": 59
        }
      ]
    },
    {
      "cell_type": "markdown",
      "metadata": {
        "id": "3tDbp5psGgZw"
      },
      "source": [
        "### fancy index\n",
        "\n",
        "- a[b] b 배열의 값을 인덱스로 하여 a 의 값들을 추출함"
      ]
    },
    {
      "cell_type": "code",
      "metadata": {
        "colab": {
          "base_uri": "https://localhost:8080/"
        },
        "id": "AxVF8xhqF2Rj",
        "outputId": "f776db71-0375-47c6-bbea-4b2983c7e3e5"
      },
      "source": [
        "a = np.array([2,4,6,8])\n",
        "b = np.array([1,3,2,0,0,1])\n",
        "a[b]"
      ],
      "execution_count": 60,
      "outputs": [
        {
          "output_type": "execute_result",
          "data": {
            "text/plain": [
              "array([4, 8, 6, 2, 2, 4])"
            ]
          },
          "metadata": {
            "tags": []
          },
          "execution_count": 60
        }
      ]
    },
    {
      "cell_type": "code",
      "metadata": {
        "colab": {
          "base_uri": "https://localhost:8080/"
        },
        "id": "ZBBpFL9JGpKZ",
        "outputId": "0dca95f4-e669-4723-d8c3-74149cdfa1e5"
      },
      "source": [
        "a.take(b)    # take 함수 : bracket index 와 같은 효과"
      ],
      "execution_count": 61,
      "outputs": [
        {
          "output_type": "execute_result",
          "data": {
            "text/plain": [
              "array([4, 8, 6, 2, 2, 4])"
            ]
          },
          "metadata": {
            "tags": []
          },
          "execution_count": 61
        }
      ]
    },
    {
      "cell_type": "code",
      "metadata": {
        "colab": {
          "base_uri": "https://localhost:8080/"
        },
        "id": "8xJm-2TpG6MP",
        "outputId": "92d825ab-6407-49c8-ff21-edc26086552a"
      },
      "source": [
        "a = np.arange(1,13).reshape(3,4)\n",
        "b = np.array([1,2,0,1])    # 행 인덱스\n",
        "c = np.array([2,1,3,0])    # 열 인덱스\n",
        "a[b,c]"
      ],
      "execution_count": 65,
      "outputs": [
        {
          "output_type": "execute_result",
          "data": {
            "text/plain": [
              "array([ 7, 10,  4,  5])"
            ]
          },
          "metadata": {
            "tags": []
          },
          "execution_count": 65
        }
      ]
    },
    {
      "cell_type": "markdown",
      "metadata": {
        "id": "3x3EVD8KHrJS"
      },
      "source": [
        "## 9. 기술 통계"
      ]
    },
    {
      "cell_type": "code",
      "metadata": {
        "id": "Cl77nZ8-HFL8"
      },
      "source": [
        "a = np.random.randint(1, 10000, 1000)"
      ],
      "execution_count": 75,
      "outputs": []
    },
    {
      "cell_type": "code",
      "metadata": {
        "id": "bIvaS2DFJt6b"
      },
      "source": [
        "# 사분위수는 데이터 테이블 또는 데이터 테이블의 일부를 \n",
        "# 거의 균등한 관찰값 수를 포함하는 4개의 그룹으로 나눈 값입니다. \n",
        "# 합계 100%를 4개의 균등한 부분으로 분할합니다. 25%, 50%, 75% 100%.\n",
        "# 제1 사분위수(또는 하위 사분위수) Q1은 f값이 0.25인 값으로 정의됩니다."
      ],
      "execution_count": null,
      "outputs": []
    },
    {
      "cell_type": "code",
      "metadata": {
        "colab": {
          "base_uri": "https://localhost:8080/"
        },
        "id": "pXMUzNaLIYVD",
        "outputId": "196de1e4-310d-48e9-9d12-4fdc01a35c2d"
      },
      "source": [
        "# 사분위수(quartile) np.percentile(x, n)\n",
        "for q in [0,25,50,75,100]:\n",
        "  print(np.percentile(a,q))"
      ],
      "execution_count": 76,
      "outputs": [
        {
          "output_type": "stream",
          "text": [
            "33.0\n",
            "2440.0\n",
            "5103.5\n",
            "7468.0\n",
            "9995.0\n"
          ],
          "name": "stdout"
        }
      ]
    },
    {
      "cell_type": "code",
      "metadata": {
        "id": "r136H3bzIpe5"
      },
      "source": [
        "import matplotlib.pyplot as plt"
      ],
      "execution_count": 78,
      "outputs": []
    },
    {
      "cell_type": "code",
      "metadata": {
        "colab": {
          "base_uri": "https://localhost:8080/",
          "height": 265
        },
        "id": "eCW27ge4JbId",
        "outputId": "6b92e79d-f419-46b7-af6b-ce159014657d"
      },
      "source": [
        "plt.boxplot(a)\n",
        "plt.show()"
      ],
      "execution_count": 79,
      "outputs": [
        {
          "output_type": "display_data",
          "data": {
            "image/png": "[encoded data removed]",
            "text/plain": [
              "<Figure size 432x288 with 1 Axes>"
            ]
          },
          "metadata": {
            "tags": [],
            "needs_background": "light"
          }
        }
      ]
    },
    {
      "cell_type": "markdown",
      "metadata": {
        "id": "FbxlllcTjUzs"
      },
      "source": [
        "### 정렬(Sorting)"
      ]
    },
    {
      "cell_type": "code",
      "metadata": {
        "colab": {
          "base_uri": "https://localhost:8080/"
        },
        "id": "2mE-y8J5jX3z",
        "outputId": "34457cfd-b27f-4d5b-9ad7-9705292a108d"
      },
      "source": [
        "a = np.array([[4,3,5,7],[1,12,11,9],[2,5,1,14]])\n",
        "a"
      ],
      "execution_count": 225,
      "outputs": [
        {
          "output_type": "execute_result",
          "data": {
            "text/plain": [
              "array([[ 4,  3,  5,  7],\n",
              "       [ 1, 12, 11,  9],\n",
              "       [ 2,  5,  1, 14]])"
            ]
          },
          "metadata": {
            "tags": []
          },
          "execution_count": 225
        }
      ]
    },
    {
      "cell_type": "code",
      "metadata": {
        "colab": {
          "base_uri": "https://localhost:8080/"
        },
        "id": "44RcBs8_jjRU",
        "outputId": "05a75bfe-0c5e-496e-d36d-6ae5bd5f7d3b"
      },
      "source": [
        "# axis=1이 default\n",
        "np.sort(a)"
      ],
      "execution_count": 226,
      "outputs": [
        {
          "output_type": "execute_result",
          "data": {
            "text/plain": [
              "array([[ 3,  4,  5,  7],\n",
              "       [ 1,  9, 11, 12],\n",
              "       [ 1,  2,  5, 14]])"
            ]
          },
          "metadata": {
            "tags": []
          },
          "execution_count": 226
        }
      ]
    },
    {
      "cell_type": "code",
      "metadata": {
        "colab": {
          "base_uri": "https://localhost:8080/"
        },
        "id": "pOBN4PvSjnlj",
        "outputId": "2a502ee6-a697-4c49-9178-72f5982900ba"
      },
      "source": [
        "np.sort(a, axis=0)"
      ],
      "execution_count": 227,
      "outputs": [
        {
          "output_type": "execute_result",
          "data": {
            "text/plain": [
              "array([[ 1,  3,  1,  7],\n",
              "       [ 2,  5,  5,  9],\n",
              "       [ 4, 12, 11, 14]])"
            ]
          },
          "metadata": {
            "tags": []
          },
          "execution_count": 227
        }
      ]
    },
    {
      "cell_type": "code",
      "metadata": {
        "colab": {
          "base_uri": "https://localhost:8080/"
        },
        "id": "EyBUw8rQkCVk",
        "outputId": "82bdb239-ba26-465e-a91f-e6187e784431"
      },
      "source": [
        "# argsort() - 소팅된 인덱스를 가져오는 함수\n",
        "a = np.array([42,38,12,25])\n",
        "indices = np.argsort(a)\n",
        "indices"
      ],
      "execution_count": 229,
      "outputs": [
        {
          "output_type": "execute_result",
          "data": {
            "text/plain": [
              "array([2, 3, 1, 0])"
            ]
          },
          "metadata": {
            "tags": []
          },
          "execution_count": 229
        }
      ]
    },
    {
      "cell_type": "code",
      "metadata": {
        "colab": {
          "base_uri": "https://localhost:8080/"
        },
        "id": "yZ8pdQcfkV70",
        "outputId": "0e1908b5-3600-46bd-b794-885f9e984a7e"
      },
      "source": [
        "a[indices]"
      ],
      "execution_count": 230,
      "outputs": [
        {
          "output_type": "execute_result",
          "data": {
            "text/plain": [
              "array([12, 25, 38, 42])"
            ]
          },
          "metadata": {
            "tags": []
          },
          "execution_count": 230
        }
      ]
    },
    {
      "cell_type": "code",
      "metadata": {
        "colab": {
          "base_uri": "https://localhost:8080/"
        },
        "id": "uBvjwYcikbBQ",
        "outputId": "5a2dbbe6-1897-4612-b64c-1cebfb312473"
      },
      "source": [
        "# 내림차순\n",
        "a[indices][::-1]"
      ],
      "execution_count": 231,
      "outputs": [
        {
          "output_type": "execute_result",
          "data": {
            "text/plain": [
              "array([42, 38, 25, 12])"
            ]
          },
          "metadata": {
            "tags": []
          },
          "execution_count": 231
        }
      ]
    },
    {
      "cell_type": "code",
      "metadata": {
        "colab": {
          "base_uri": "https://localhost:8080/"
        },
        "id": "C7IJTJhvjqdz",
        "outputId": "685c6331-4edc-47e8-d52a-8435a7997871"
      },
      "source": [
        "# a.sort() method는 in-place method이다 (자기 자신을 바꿈)\n",
        "a.sort()\n",
        "a"
      ],
      "execution_count": 228,
      "outputs": [
        {
          "output_type": "execute_result",
          "data": {
            "text/plain": [
              "array([[ 3,  4,  5,  7],\n",
              "       [ 1,  9, 11, 12],\n",
              "       [ 1,  2,  5, 14]])"
            ]
          },
          "metadata": {
            "tags": []
          },
          "execution_count": 228
        }
      ]
    },
    {
      "cell_type": "markdown",
      "metadata": {
        "id": "mlNXCp1RJ4Sx"
      },
      "source": [
        "### 연습문제"
      ]
    },
    {
      "cell_type": "code",
      "metadata": {
        "colab": {
          "base_uri": "https://localhost:8080/"
        },
        "id": "HTRcZJysJg3o",
        "outputId": "2d7f14aa-8bcf-4973-f558-82ab53489dbc"
      },
      "source": [
        "1.\n",
        "\n",
        "# import numpy as np\n",
        "np.array([[10,20,30,40],[50,60,70,80]])\n",
        "\n",
        "\n",
        "# 답 np.arange(1,9).reshape(2,4)*10"
      ],
      "execution_count": 81,
      "outputs": [
        {
          "output_type": "execute_result",
          "data": {
            "text/plain": [
              "array([[10, 20, 30, 40],\n",
              "       [50, 60, 70, 80]])"
            ]
          },
          "metadata": {
            "tags": []
          },
          "execution_count": 81
        }
      ]
    },
    {
      "cell_type": "code",
      "metadata": {
        "colab": {
          "base_uri": "https://localhost:8080/"
        },
        "id": "8WMvnR_jKi7e",
        "outputId": "3a164dc1-a76b-4c9f-ae8c-ee5315796e2b"
      },
      "source": [
        "2.\n",
        "\n",
        "m = np.array([[0,1,2,3,4],[5,6,7,8,9],[10,11,12,13,14]])\n",
        "\n",
        "m\n",
        "\n",
        "\n",
        "# m=np.aranage(15).reshape(3,5)"
      ],
      "execution_count": 87,
      "outputs": [
        {
          "output_type": "execute_result",
          "data": {
            "text/plain": [
              "array([[ 0,  1,  2,  3,  4],\n",
              "       [ 5,  6,  7,  8,  9],\n",
              "       [10, 11, 12, 13, 14]])"
            ]
          },
          "metadata": {
            "tags": []
          },
          "execution_count": 87
        }
      ]
    },
    {
      "cell_type": "code",
      "metadata": {
        "colab": {
          "base_uri": "https://localhost:8080/"
        },
        "id": "YoXwIMl_LYCm",
        "outputId": "880d5332-4c03-41fd-ed03-3b93a89184de"
      },
      "source": [
        "m[1,2], m[-1,-1]"
      ],
      "execution_count": 91,
      "outputs": [
        {
          "output_type": "execute_result",
          "data": {
            "text/plain": [
              "(7, 14, array([[10, 11, 12, 13, 14]]))"
            ]
          },
          "metadata": {
            "tags": []
          },
          "execution_count": 91
        }
      ]
    },
    {
      "cell_type": "code",
      "metadata": {
        "colab": {
          "base_uri": "https://localhost:8080/"
        },
        "id": "GMbg_ys-MjkH",
        "outputId": "9ac152c1-83b2-4002-aa98-2c00fa110856"
      },
      "source": [
        "m[1:2,1:3]  # m[1, 1:3]"
      ],
      "execution_count": 100,
      "outputs": [
        {
          "output_type": "execute_result",
          "data": {
            "text/plain": [
              "array([[6, 7]])"
            ]
          },
          "metadata": {
            "tags": []
          },
          "execution_count": 100
        }
      ]
    },
    {
      "cell_type": "code",
      "metadata": {
        "colab": {
          "base_uri": "https://localhost:8080/"
        },
        "id": "bdXlRYiZMvBm",
        "outputId": "185c4aa9-4173-40bf-fb4e-5393c953af3a"
      },
      "source": [
        "m[1:,2:3], [m[1,2],m[2,2]] #m[1:,2]"
      ],
      "execution_count": 102,
      "outputs": [
        {
          "output_type": "execute_result",
          "data": {
            "text/plain": [
              "(array([[ 7],\n",
              "        [12]]), [7, 12])"
            ]
          },
          "metadata": {
            "tags": []
          },
          "execution_count": 102
        }
      ]
    },
    {
      "cell_type": "code",
      "metadata": {
        "colab": {
          "base_uri": "https://localhost:8080/"
        },
        "id": "91f0DougPnvA",
        "outputId": "ce2446ac-2800-407b-ad17-fb3bad2a10da"
      },
      "source": [
        "m[0:2,3:] , [m[0:1,3:],m[1:2,3:]]   #m[:2, 3:]"
      ],
      "execution_count": 106,
      "outputs": [
        {
          "output_type": "execute_result",
          "data": {
            "text/plain": [
              "(array([[3, 4],\n",
              "        [8, 9]]), [array([[3, 4]]), array([[8, 9]])])"
            ]
          },
          "metadata": {
            "tags": []
          },
          "execution_count": 106
        }
      ]
    },
    {
      "cell_type": "code",
      "metadata": {
        "colab": {
          "base_uri": "https://localhost:8080/"
        },
        "id": "sDxVfPHKP9W7",
        "outputId": "2950a71d-7c99-418e-bd60-d0ed76281b2a"
      },
      "source": [
        "3. \n",
        "new_m = m.T      \n",
        "new_m"
      ],
      "execution_count": 107,
      "outputs": [
        {
          "output_type": "execute_result",
          "data": {
            "text/plain": [
              "array([[ 0,  5, 10],\n",
              "       [ 1,  6, 11],\n",
              "       [ 2,  7, 12],\n",
              "       [ 3,  8, 13],\n",
              "       [ 4,  9, 14]])"
            ]
          },
          "metadata": {
            "tags": []
          },
          "execution_count": 107
        }
      ]
    },
    {
      "cell_type": "code",
      "metadata": {
        "colab": {
          "base_uri": "https://localhost:8080/"
        },
        "id": "teAIwHTUQcuW",
        "outputId": "9faa7f21-322d-426d-85d6-357091ae1c2a"
      },
      "source": [
        "f = m.reshape(1,15)           # f=m.flatten()\n",
        "f"
      ],
      "execution_count": 111,
      "outputs": [
        {
          "output_type": "execute_result",
          "data": {
            "text/plain": [
              "array([[ 0,  1,  2,  3,  4,  5,  6,  7,  8,  9, 10, 11, 12, 13, 14]])"
            ]
          },
          "metadata": {
            "tags": []
          },
          "execution_count": 111
        }
      ]
    },
    {
      "cell_type": "code",
      "metadata": {
        "colab": {
          "base_uri": "https://localhost:8080/"
        },
        "id": "-WTsfL2nRenV",
        "outputId": "d0f2c246-b1c5-494c-a212-92f1da422fe0"
      },
      "source": [
        "np.where(f%3==0,f,'')      #f[f%3==0]"
      ],
      "execution_count": 122,
      "outputs": [
        {
          "output_type": "execute_result",
          "data": {
            "text/plain": [
              "array([['0', '', '', '3', '', '', '6', '', '', '9', '', '', '12', '', '']],\n",
              "      dtype='<U21')"
            ]
          },
          "metadata": {
            "tags": []
          },
          "execution_count": 122
        }
      ]
    },
    {
      "cell_type": "code",
      "metadata": {
        "colab": {
          "base_uri": "https://localhost:8080/"
        },
        "id": "3uTja_jQSS0v",
        "outputId": "7a165899-c61a-4d6d-ede2-af59bbc32824"
      },
      "source": [
        "np.where(f%4==1,f,'')      #f[f%4 ==1]"
      ],
      "execution_count": 119,
      "outputs": [
        {
          "output_type": "execute_result",
          "data": {
            "text/plain": [
              "array([['', '1', '', '', '', '5', '', '', '', '9', '', '', '', '13', '']],\n",
              "      dtype='<U21')"
            ]
          },
          "metadata": {
            "tags": []
          },
          "execution_count": 119
        }
      ]
    },
    {
      "cell_type": "code",
      "metadata": {
        "colab": {
          "base_uri": "https://localhost:8080/"
        },
        "id": "dmttCLXcTRKZ",
        "outputId": "2237f7f9-65ab-4fcb-9bc8-b72f62e2c048"
      },
      "source": [
        "f4=np.where(f%4==1,f,'')     #f[np.logical_and(f%3==0m f%4==1)]\n",
        "f3=np.where(f%3==0,f,'')\n",
        "f3, f4"
      ],
      "execution_count": 125,
      "outputs": [
        {
          "output_type": "execute_result",
          "data": {
            "text/plain": [
              "(array([['0', '', '', '3', '', '', '6', '', '', '9', '', '', '12', '', '']],\n",
              "       dtype='<U21'),\n",
              " array([['', '1', '', '', '', '5', '', '', '', '9', '', '', '', '13', '']],\n",
              "       dtype='<U21'))"
            ]
          },
          "metadata": {
            "tags": []
          },
          "execution_count": 125
        }
      ]
    },
    {
      "cell_type": "code",
      "metadata": {
        "colab": {
          "base_uri": "https://localhost:8080/"
        },
        "id": "wC2LsgSmUjta",
        "outputId": "8924ff6b-262f-4deb-c204-9814cc6154e4"
      },
      "source": [
        "f_three= np.where(np.arange(0,15)%3 ==0)\n",
        "f_three"
      ],
      "execution_count": 140,
      "outputs": [
        {
          "output_type": "execute_result",
          "data": {
            "text/plain": [
              "(array([ 0,  3,  6,  9, 12]),)"
            ]
          },
          "metadata": {
            "tags": []
          },
          "execution_count": 140
        }
      ]
    },
    {
      "cell_type": "code",
      "metadata": {
        "colab": {
          "base_uri": "https://localhost:8080/"
        },
        "id": "C-7JDlnnU_yF",
        "outputId": "e9bb9ef4-76fd-480f-b0de-4a00d5fb1597"
      },
      "source": [
        "f_four= np.where(np.arange(0,15)%4==1)\n",
        "f_four"
      ],
      "execution_count": 141,
      "outputs": [
        {
          "output_type": "execute_result",
          "data": {
            "text/plain": [
              "(array([ 1,  5,  9, 13]),)"
            ]
          },
          "metadata": {
            "tags": []
          },
          "execution_count": 141
        }
      ]
    },
    {
      "cell_type": "code",
      "metadata": {
        "colab": {
          "base_uri": "https://localhost:8080/"
        },
        "id": "B-7wbXMPWCki",
        "outputId": "a80d0ca3-8b0d-4440-b480-91716d1af2f6"
      },
      "source": [
        "np.intersect1d(f_three, f_four)"
      ],
      "execution_count": 148,
      "outputs": [
        {
          "output_type": "execute_result",
          "data": {
            "text/plain": [
              "array([9])"
            ]
          },
          "metadata": {
            "tags": []
          },
          "execution_count": 148
        }
      ]
    },
    {
      "cell_type": "code",
      "metadata": {
        "id": "urDqHrGnWuUI"
      },
      "source": [
        "a = np.empty((5,5))                  #np.eye(5,5,k=-1)*3+np.eye(5,5)*2+np.eye(5,5,k=1)\n",
        "b = np.zeros_like(a,int)"
      ],
      "execution_count": 157,
      "outputs": []
    },
    {
      "cell_type": "code",
      "metadata": {
        "id": "iQfS34XHYWuq"
      },
      "source": [
        "two = np.eye(5,5,0,int)*2"
      ],
      "execution_count": 162,
      "outputs": []
    },
    {
      "cell_type": "code",
      "metadata": {
        "id": "0zCrN5lRarPk"
      },
      "source": [
        "one = np.eye(5,5,1,int)\n",
        "three= np.eye(5,5,-1,int)*3"
      ],
      "execution_count": 163,
      "outputs": []
    },
    {
      "cell_type": "code",
      "metadata": {
        "colab": {
          "base_uri": "https://localhost:8080/"
        },
        "id": "bdVZ8PQmbIXw",
        "outputId": "1dbe3b27-3033-49fc-a685-1fbcd5871e6d"
      },
      "source": [
        "three"
      ],
      "execution_count": 164,
      "outputs": [
        {
          "output_type": "execute_result",
          "data": {
            "text/plain": [
              "array([[0, 0, 0, 0, 0],\n",
              "       [3, 0, 0, 0, 0],\n",
              "       [0, 3, 0, 0, 0],\n",
              "       [0, 0, 3, 0, 0],\n",
              "       [0, 0, 0, 3, 0]])"
            ]
          },
          "metadata": {
            "tags": []
          },
          "execution_count": 164
        }
      ]
    },
    {
      "cell_type": "code",
      "metadata": {
        "colab": {
          "base_uri": "https://localhost:8080/"
        },
        "id": "yQ7vIJTrbI8p",
        "outputId": "592be9ac-72bb-4423-a933-1d60237cd520"
      },
      "source": [
        "one+two+three"
      ],
      "execution_count": 165,
      "outputs": [
        {
          "output_type": "execute_result",
          "data": {
            "text/plain": [
              "array([[2, 1, 0, 0, 0],\n",
              "       [3, 2, 1, 0, 0],\n",
              "       [0, 3, 2, 1, 0],\n",
              "       [0, 0, 3, 2, 1],\n",
              "       [0, 0, 0, 3, 2]])"
            ]
          },
          "metadata": {
            "tags": []
          },
          "execution_count": 165
        }
      ]
    },
    {
      "cell_type": "code",
      "metadata": {
        "colab": {
          "base_uri": "https://localhost:8080/"
        },
        "id": "ccZV4ok-bPZ7",
        "outputId": "9dc82213-8b3e-47af-8799-7e07da2af39a"
      },
      "source": [
        "a = np.random.randint(1,11,30)           #np.random.seed(20201)\n",
        "a=a.reshape(5,6)                         #m=np.random.uniform(0,10,30).reshape(5,6).round(4)\n",
        "a "
      ],
      "execution_count": 179,
      "outputs": [
        {
          "output_type": "execute_result",
          "data": {
            "text/plain": [
              "array([[ 5,  9,  8,  1,  2,  8],\n",
              "       [ 5,  7,  1,  8,  3,  1],\n",
              "       [ 9,  1,  5,  6,  3,  6],\n",
              "       [ 5,  1,  7,  6,  6,  3],\n",
              "       [10,  7,  1,  5,  3,  9]])"
            ]
          },
          "metadata": {
            "tags": []
          },
          "execution_count": 179
        }
      ]
    },
    {
      "cell_type": "code",
      "metadata": {
        "colab": {
          "base_uri": "https://localhost:8080/"
        },
        "id": "GtZZMphTbbYW",
        "outputId": "3db355c9-f18b-4b3f-c27d-7d72ebe885a9"
      },
      "source": [
        "np.argmax(a)                #np.max(m)\n"
      ],
      "execution_count": 197,
      "outputs": [
        {
          "output_type": "execute_result",
          "data": {
            "text/plain": [
              "24"
            ]
          },
          "metadata": {
            "tags": []
          },
          "execution_count": 197
        }
      ]
    },
    {
      "cell_type": "code",
      "metadata": {
        "colab": {
          "base_uri": "https://localhost:8080/"
        },
        "id": "RmddoFMPcRZl",
        "outputId": "6449172a-fa0e-4394-de30-5839d1785742"
      },
      "source": [
        "a[4,0]"
      ],
      "execution_count": 198,
      "outputs": [
        {
          "output_type": "execute_result",
          "data": {
            "text/plain": [
              "10"
            ]
          },
          "metadata": {
            "tags": []
          },
          "execution_count": 198
        }
      ]
    },
    {
      "cell_type": "code",
      "metadata": {
        "colab": {
          "base_uri": "https://localhost:8080/"
        },
        "id": "SBXGwzY4gLx6",
        "outputId": "87b12705-3b1b-4ff1-8667-124093a17f0e"
      },
      "source": [
        "a.sum(axis=1)                  #np.sum(m, axis=1)"
      ],
      "execution_count": 201,
      "outputs": [
        {
          "output_type": "execute_result",
          "data": {
            "text/plain": [
              "array([33, 25, 30, 28, 35])"
            ]
          },
          "metadata": {
            "tags": []
          },
          "execution_count": 201
        }
      ]
    },
    {
      "cell_type": "code",
      "metadata": {
        "colab": {
          "base_uri": "https://localhost:8080/"
        },
        "id": "paTp3PQ_dydJ",
        "outputId": "702ec3fb-a439-49fb-dff7-b14e51c7aa99"
      },
      "source": [
        "max = np.argmax(a, axis=1)         #np.max(m, axis=1)\n",
        "max"
      ],
      "execution_count": 193,
      "outputs": [
        {
          "output_type": "execute_result",
          "data": {
            "text/plain": [
              "array([1, 3, 0, 2, 0])"
            ]
          },
          "metadata": {
            "tags": []
          },
          "execution_count": 193
        }
      ]
    },
    {
      "cell_type": "code",
      "metadata": {
        "colab": {
          "base_uri": "https://localhost:8080/"
        },
        "id": "aEePoIddfOa9",
        "outputId": "cb5f0043-c049-4beb-e82c-e9225d0e717c"
      },
      "source": [
        "a[0,1], a[1,3], a[2,0], a[3,2], a[4,0]"
      ],
      "execution_count": 192,
      "outputs": [
        {
          "output_type": "execute_result",
          "data": {
            "text/plain": [
              "(9, 8, 9, 7, 10)"
            ]
          },
          "metadata": {
            "tags": []
          },
          "execution_count": 192
        }
      ]
    },
    {
      "cell_type": "code",
      "metadata": {
        "colab": {
          "base_uri": "https://localhost:8080/"
        },
        "id": "zHVON9G9fe9q",
        "outputId": "c9481908-2569-42ae-bc93-075613aa0d75"
      },
      "source": [
        "np.mean(a, axis=0)                   #np.mean(m, axis=0)"
      ],
      "execution_count": 196,
      "outputs": [
        {
          "output_type": "execute_result",
          "data": {
            "text/plain": [
              "array([6.8, 5. , 4.4, 5.2, 3.4, 5.4])"
            ]
          },
          "metadata": {
            "tags": []
          },
          "execution_count": 196
        }
      ]
    },
    {
      "cell_type": "code",
      "metadata": {
        "colab": {
          "base_uri": "https://localhost:8080/"
        },
        "id": "9MmWFtrnfzZR",
        "outputId": "672efadc-9a99-4b89-8cf2-d77566905654"
      },
      "source": [
        "min = np.argmin(a, axis=0)         #np.min(m, axis=0)\n",
        "min"
      ],
      "execution_count": 203,
      "outputs": [
        {
          "output_type": "execute_result",
          "data": {
            "text/plain": [
              "array([0, 2, 1, 0, 0, 1])"
            ]
          },
          "metadata": {
            "tags": []
          },
          "execution_count": 203
        }
      ]
    },
    {
      "cell_type": "code",
      "metadata": {
        "colab": {
          "base_uri": "https://localhost:8080/"
        },
        "id": "4tEW8rywgtG5",
        "outputId": "afa17a38-76aa-4add-d7f8-b86839e4961d"
      },
      "source": [
        "a[0,0], a[2,1], a[1,2], a[0,3], a[0,4], a[1,5]"
      ],
      "execution_count": 204,
      "outputs": [
        {
          "output_type": "execute_result",
          "data": {
            "text/plain": [
              "(5, 1, 1, 1, 2, 1)"
            ]
          },
          "metadata": {
            "tags": []
          },
          "execution_count": 204
        }
      ]
    },
    {
      "cell_type": "code",
      "metadata": {
        "colab": {
          "base_uri": "https://localhost:8080/"
        },
        "id": "600Ikap3g-OP",
        "outputId": "20372624-1d8b-4a12-ecd6-13723ec5a71d"
      },
      "source": [
        "a = np.array([[ 1, 2, 3, 4],[ 46, 99, 100, 71],[ 81, 59, 90, 100]])  #score=\n",
        "a                                                            score[:, np.srgsort(score[1])[::-1]]"
      ],
      "execution_count": 207,
      "outputs": [
        {
          "output_type": "execute_result",
          "data": {
            "text/plain": [
              "array([[  1,   2,   3,   4],\n",
              "       [ 46,  99, 100,  71],\n",
              "       [ 81,  59,  90, 100]])"
            ]
          },
          "metadata": {
            "tags": []
          },
          "execution_count": 207
        }
      ]
    },
    {
      "cell_type": "code",
      "metadata": {
        "colab": {
          "base_uri": "https://localhost:8080/"
        },
        "id": "t6vBtyMbhWQ2",
        "outputId": "631fa7ce-c0bf-4e01-d4a4-924fd203e558"
      },
      "source": [
        "b=np.array((1,1,1,1)).reshape(4,1)\n",
        "b"
      ],
      "execution_count": 218,
      "outputs": [
        {
          "output_type": "execute_result",
          "data": {
            "text/plain": [
              "array([[1],\n",
              "       [1],\n",
              "       [1],\n",
              "       [1]])"
            ]
          },
          "metadata": {
            "tags": []
          },
          "execution_count": 218
        }
      ]
    },
    {
      "cell_type": "code",
      "metadata": {
        "colab": {
          "base_uri": "https://localhost:8080/"
        },
        "id": "bpq0csiahjrL",
        "outputId": "e18a9ab6-6c18-464d-f454-a687a08744ef"
      },
      "source": [
        "a.dot(b)                  #내림차순 정리 s[::-1]"
      ],
      "execution_count": 219,
      "outputs": [
        {
          "output_type": "execute_result",
          "data": {
            "text/plain": [
              "array([[ 10],\n",
              "       [316],\n",
              "       [330]])"
            ]
          },
          "metadata": {
            "tags": []
          },
          "execution_count": 219
        }
      ]
    },
    {
      "cell_type": "code",
      "metadata": {
        "colab": {
          "base_uri": "https://localhost:8080/"
        },
        "id": "qGQ1vuUfhzwI",
        "outputId": "4bb1ab83-bd16-4ca6-80cd-f9eb49eb858e"
      },
      "source": [
        "np.sort(a,axis=1)        # s= np.argsort(score[1])  s[:, s[::-1]]"
      ],
      "execution_count": 220,
      "outputs": [
        {
          "output_type": "execute_result",
          "data": {
            "text/plain": [
              "array([[  1,   2,   3,   4],\n",
              "       [ 46,  71,  99, 100],\n",
              "       [ 59,  81,  90, 100]])"
            ]
          },
          "metadata": {
            "tags": []
          },
          "execution_count": 220
        }
      ]
    },
    {
      "cell_type": "code",
      "metadata": {
        "colab": {
          "base_uri": "https://localhost:8080/"
        },
        "id": "HDWnSoyIi1OY",
        "outputId": "b9c6ee79-0eb5-4b7e-ab21-9d35c18f8e3e"
      },
      "source": [
        "dice = np.random.randint(1,7,100)\n",
        "dice"
      ],
      "execution_count": 222,
      "outputs": [
        {
          "output_type": "execute_result",
          "data": {
            "text/plain": [
              "array([3, 3, 6, 3, 2, 1, 3, 4, 4, 1, 1, 5, 6, 3, 3, 1, 4, 5, 6, 6, 4, 6,\n",
              "       2, 2, 2, 6, 3, 5, 3, 4, 3, 1, 6, 6, 4, 2, 5, 1, 5, 5, 1, 3, 2, 2,\n",
              "       2, 1, 3, 4, 6, 6, 2, 6, 1, 2, 5, 1, 5, 1, 6, 4, 2, 3, 5, 6, 3, 5,\n",
              "       2, 1, 2, 4, 1, 2, 6, 6, 6, 4, 1, 5, 6, 6, 3, 2, 6, 1, 2, 3, 1, 1,\n",
              "       2, 2, 5, 5, 1, 3, 4, 2, 5, 2, 6, 3])"
            ]
          },
          "metadata": {
            "tags": []
          },
          "execution_count": 222
        }
      ]
    },
    {
      "cell_type": "code",
      "metadata": {
        "colab": {
          "base_uri": "https://localhost:8080/"
        },
        "id": "0_p_lBvZjEJL",
        "outputId": "8b4ce173-0d8a-497c-b8cb-5e8f72bcea84"
      },
      "source": [
        "np.mean(dice)"
      ],
      "execution_count": 223,
      "outputs": [
        {
          "output_type": "execute_result",
          "data": {
            "text/plain": [
              "3.43"
            ]
          },
          "metadata": {
            "tags": []
          },
          "execution_count": 223
        }
      ]
    },
    {
      "cell_type": "code",
      "metadata": {
        "colab": {
          "base_uri": "https://localhost:8080/"
        },
        "id": "XtZSSYmEjJxm",
        "outputId": "55202352-7572-4f0c-e4d4-7b409447c56f"
      },
      "source": [
        "# 정답\n",
        "\n",
        "np.random.seed(2021)\n",
        "dice = np.random.randint(1,7,100)\n",
        "np.mean(dice)"
      ],
      "execution_count": 233,
      "outputs": [
        {
          "output_type": "execute_result",
          "data": {
            "text/plain": [
              "3.7"
            ]
          },
          "metadata": {
            "tags": []
          },
          "execution_count": 233
        }
      ]
    },
    {
      "cell_type": "code",
      "metadata": {
        "colab": {
          "base_uri": "https://localhost:8080/"
        },
        "id": "IA-Exsc2pg03",
        "outputId": "525fdd71-dc72-43f4-9756-8f2598e924aa"
      },
      "source": [
        "np.unique(dice)    #유일하게 사용된 값"
      ],
      "execution_count": 234,
      "outputs": [
        {
          "output_type": "execute_result",
          "data": {
            "text/plain": [
              "array([1, 2, 3, 4, 5, 6])"
            ]
          },
          "metadata": {
            "tags": []
          },
          "execution_count": 234
        }
      ]
    },
    {
      "cell_type": "code",
      "metadata": {
        "id": "owGd55C-pz4L"
      },
      "source": [
        ""
      ],
      "execution_count": null,
      "outputs": []
    }
  ]
}
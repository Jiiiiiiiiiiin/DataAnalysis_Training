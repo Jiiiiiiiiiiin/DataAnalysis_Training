{
  "nbformat": 4,
  "nbformat_minor": 0,
  "metadata": {
    "colab": {
      "name": "01_numpy.ipynb",
      "provenance": [],
      "collapsed_sections": []
    },
    "kernelspec": {
      "name": "python3",
      "display_name": "Python 3"
    },
    "language_info": {
      "name": "python"
    }
  },
  "cells": [
    {
      "cell_type": "markdown",
      "metadata": {
        "id": "a6rt-ButEBYL"
      },
      "source": [
        "# Numpy\n",
        "\n",
        "- Numerical python\n",
        "- import numpy as np (사실상의 표준)**굵은 텍스트**"
      ]
    },
    {
      "cell_type": "code",
      "metadata": {
        "id": "jdIRBFHcEBzS"
      },
      "source": [
        "import numpy as np"
      ],
      "execution_count": 3,
      "outputs": []
    },
    {
      "cell_type": "code",
      "metadata": {
        "colab": {
          "base_uri": "https://localhost:8080/"
        },
        "id": "O7TJ-2faEESZ",
        "outputId": "a8d7b7fd-04d5-4518-8247-4508b7ed25fd"
      },
      "source": [
        "a = [1, 2, 3]\n",
        "a * 3"
      ],
      "execution_count": 4,
      "outputs": [
        {
          "output_type": "execute_result",
          "data": {
            "text/plain": [
              "[1, 2, 3, 1, 2, 3, 1, 2, 3]"
            ]
          },
          "metadata": {
            "tags": []
          },
          "execution_count": 4
        }
      ]
    },
    {
      "cell_type": "code",
      "metadata": {
        "colab": {
          "base_uri": "https://localhost:8080/"
        },
        "id": "_8cnA1gKEHUx",
        "outputId": "8315bfaa-f1cf-4ff2-a28a-79398d9e0615"
      },
      "source": [
        "b = np.array([1,2,3])\n",
        "b * 3"
      ],
      "execution_count": 5,
      "outputs": [
        {
          "output_type": "execute_result",
          "data": {
            "text/plain": [
              "array([3, 6, 9])"
            ]
          },
          "metadata": {
            "tags": []
          },
          "execution_count": 5
        }
      ]
    },
    {
      "cell_type": "markdown",
      "metadata": {
        "id": "NTvFCKW7Dx1M"
      },
      "source": [
        "## 1. Numpy Dimensional array\n",
        "\n",
        "- numpy 는 np.array 함수를 활용하여 배열을 생성함 -> ndarray\n",
        "- numpy 는 하나의 데이터 타입만 배열에 넣을 수 있음\n",
        "- List 와 가장 큰 차이점 , Dynamic 예 , [1, 2, “5”, 4.2]) not supported\n",
        "- C 의 Array 를 사용하여 배열을 생성함"
      ]
    },
    {
      "cell_type": "code",
      "metadata": {
        "colab": {
          "base_uri": "https://localhost:8080/"
        },
        "id": "kd4ZPdekDtRQ",
        "outputId": "9745641c-fbf3-4ad0-cfc8-661925f9b69e"
      },
      "source": [
        "a = np.array([1,4,5,8], float)\n",
        "a"
      ],
      "execution_count": 6,
      "outputs": [
        {
          "output_type": "execute_result",
          "data": {
            "text/plain": [
              "array([1., 4., 5., 8.])"
            ]
          },
          "metadata": {
            "tags": []
          },
          "execution_count": 6
        }
      ]
    },
    {
      "cell_type": "code",
      "metadata": {
        "colab": {
          "base_uri": "https://localhost:8080/"
        },
        "id": "b5lZfl4jD7di",
        "outputId": "dee05abc-0994-4163-f682-976b0cf19e3a"
      },
      "source": [
        "type(a)"
      ],
      "execution_count": 7,
      "outputs": [
        {
          "output_type": "execute_result",
          "data": {
            "text/plain": [
              "numpy.ndarray"
            ]
          },
          "metadata": {
            "tags": []
          },
          "execution_count": 7
        }
      ]
    },
    {
      "cell_type": "code",
      "metadata": {
        "colab": {
          "base_uri": "https://localhost:8080/"
        },
        "id": "rfgBjJ8pD865",
        "outputId": "513ae657-0a8d-4559-e423-390a118b8e8a"
      },
      "source": [
        "a.dtype, a.shape"
      ],
      "execution_count": 8,
      "outputs": [
        {
          "output_type": "execute_result",
          "data": {
            "text/plain": [
              "(dtype('float64'), (4,))"
            ]
          },
          "metadata": {
            "tags": []
          },
          "execution_count": 8
        }
      ]
    },
    {
      "cell_type": "markdown",
      "metadata": {
        "id": "s_gCfUQ_FO00"
      },
      "source": [
        "\n",
        "## 2. Array shape\n",
        "\n",
        "- Vector 1차원\n",
        "  test_array= np.array ([1, 4, 5, 8], dtype=)\n",
        "- Matrix 2차원\n",
        "  matrix = [[1,2,5,8], [2,3,4,9], [4,5,6,7]]\n",
        "  np.array(matrix, int ).shape\n",
        "- Tensor 3차원 이상\n",
        "  tensor = [[[1,2,5,8], [2,3,4,9], [4,5,6,7]],\n",
        "[[1,2,5,8], [2,3,4,9], [4,5,6,7]],\n",
        "[[1,2,5,8], [2,3,4,9], [4,5,6,7]],\n",
        "[[1,2,5,8], [2,3,4,9], [4,5,6,7]]]\n",
        "  np.array\n",
        "(tensor, int ).shape"
      ]
    },
    {
      "cell_type": "code",
      "metadata": {
        "colab": {
          "base_uri": "https://localhost:8080/"
        },
        "id": "WmBEPihdEATL",
        "outputId": "481572fc-8610-4263-d6ae-6d9584ca1f59"
      },
      "source": [
        "# Vector(1차원) \n",
        "# test_array= np.array ([1, 4, 5, 8], dtype=)\n",
        "vec = np.array([1,4,5,8])    #vec = vector\n",
        "vec.shape\n"
      ],
      "execution_count": 9,
      "outputs": [
        {
          "output_type": "execute_result",
          "data": {
            "text/plain": [
              "(4,)"
            ]
          },
          "metadata": {
            "tags": []
          },
          "execution_count": 9
        }
      ]
    },
    {
      "cell_type": "code",
      "metadata": {
        "colab": {
          "base_uri": "https://localhost:8080/"
        },
        "id": "Lcty4rJcFb-5",
        "outputId": "ca8cd3c1-2a38-41a8-b1a1-011841a99c40"
      },
      "source": [
        "# Matrix 2차원\n",
        "# matrix = [[1,2,5,8], [2,3,4,9], [4,5,6,7]]\n",
        "# np.array(matrix, int ).shape\n",
        "matrix = np.array([[1,2,3],[4,5,16]])\n",
        "print(matrix.shape)\n",
        "print(matrix)"
      ],
      "execution_count": 11,
      "outputs": [
        {
          "output_type": "stream",
          "text": [
            "(2, 3)\n",
            "[[ 1  2  3]\n",
            " [ 4  5 16]]\n"
          ],
          "name": "stdout"
        }
      ]
    },
    {
      "cell_type": "code",
      "metadata": {
        "id": "drmSAFT_F5Gx"
      },
      "source": [
        "# Tensor 3차원 이상 np.array(tensor, int ).shape\n",
        "tensor = np.array([[[],[]],[[],[]],[[],[]]])"
      ],
      "execution_count": 12,
      "outputs": []
    },
    {
      "cell_type": "code",
      "metadata": {
        "colab": {
          "base_uri": "https://localhost:8080/"
        },
        "id": "rRklyRrWGU60",
        "outputId": "6b22b03d-32ce-490e-b185-3e4fc1b5c6af"
      },
      "source": [
        "tensor = np.arange(1,25).reshape(2,3,4)\n",
        "print(tensor)"
      ],
      "execution_count": 13,
      "outputs": [
        {
          "output_type": "stream",
          "text": [
            "[[[ 1  2  3  4]\n",
            "  [ 5  6  7  8]\n",
            "  [ 9 10 11 12]]\n",
            "\n",
            " [[13 14 15 16]\n",
            "  [17 18 19 20]\n",
            "  [21 22 23 24]]]\n"
          ],
          "name": "stdout"
        }
      ]
    },
    {
      "cell_type": "code",
      "metadata": {
        "colab": {
          "base_uri": "https://localhost:8080/"
        },
        "id": "eSqv_rt-GeBq",
        "outputId": "81ed1bee-fe4c-411a-926e-f029b4b4b816"
      },
      "source": [
        "tensor.shape"
      ],
      "execution_count": 14,
      "outputs": [
        {
          "output_type": "execute_result",
          "data": {
            "text/plain": [
              "(2, 3, 4)"
            ]
          },
          "metadata": {
            "tags": []
          },
          "execution_count": 14
        }
      ]
    },
    {
      "cell_type": "code",
      "metadata": {
        "colab": {
          "base_uri": "https://localhost:8080/"
        },
        "id": "aCiOHcbBGxFx",
        "outputId": "0d44c464-b0e1-4822-f23a-adc14be993d3"
      },
      "source": [
        "vec.shape, matrix.shape, tensor.shape"
      ],
      "execution_count": 19,
      "outputs": [
        {
          "output_type": "execute_result",
          "data": {
            "text/plain": [
              "((4,), (2, 3), (2, 3, 4))"
            ]
          },
          "metadata": {
            "tags": []
          },
          "execution_count": 19
        }
      ]
    },
    {
      "cell_type": "code",
      "metadata": {
        "colab": {
          "base_uri": "https://localhost:8080/"
        },
        "id": "vCEaKtDOHMmH",
        "outputId": "e7f3c353-0045-4d0d-f4c9-b0c4f402520e"
      },
      "source": [
        "# element 의 갯수 (2차원 이상은 행열평면 곱한 값)\n",
        "vec.size, matrix.size, tensor.size"
      ],
      "execution_count": 20,
      "outputs": [
        {
          "output_type": "execute_result",
          "data": {
            "text/plain": [
              "(4, 6, 24)"
            ]
          },
          "metadata": {
            "tags": []
          },
          "execution_count": 20
        }
      ]
    },
    {
      "cell_type": "code",
      "metadata": {
        "colab": {
          "base_uri": "https://localhost:8080/"
        },
        "id": "MsZiV0DgHeaJ",
        "outputId": "957acd03-89af-4a11-f0eb-4168f944b6f8"
      },
      "source": [
        "# data type\n",
        "# float type\n",
        "# float type\n",
        "\n",
        "\n",
        "a = np.array([1,2,3], dtype=np.float32)    #dtype=는 빼도됨\n",
        "a"
      ],
      "execution_count": 21,
      "outputs": [
        {
          "output_type": "execute_result",
          "data": {
            "text/plain": [
              "array([1., 2., 3.], dtype=float32)"
            ]
          },
          "metadata": {
            "tags": []
          },
          "execution_count": 21
        }
      ]
    },
    {
      "cell_type": "code",
      "metadata": {
        "colab": {
          "base_uri": "https://localhost:8080/"
        },
        "id": "mavL6t-sHsx5",
        "outputId": "b036a12e-014a-470c-a30e-eb33c43f3f8d"
      },
      "source": [
        "b = np.array([1,2,3], dtype=np.int16)\n",
        "b"
      ],
      "execution_count": 22,
      "outputs": [
        {
          "output_type": "execute_result",
          "data": {
            "text/plain": [
              "array([1, 2, 3], dtype=int16)"
            ]
          },
          "metadata": {
            "tags": []
          },
          "execution_count": 22
        }
      ]
    },
    {
      "cell_type": "markdown",
      "metadata": {
        "id": "wG-FRnvMIwT1"
      },
      "source": [
        "### Reshape\n",
        "\n",
        "- Array 의 shape 을 변경함 (element 의 개수는 동일)\n",
        "- Array 의 size 만 같다면 다차원으로 자유로이 변형가능\n",
        "- '-1'은 사이즈가 동일하면 numpy가 알아서 맞춰라는 신호"
      ]
    },
    {
      "cell_type": "code",
      "metadata": {
        "colab": {
          "base_uri": "https://localhost:8080/"
        },
        "id": "k7_gLU5CINIA",
        "outputId": "9d99ac48-b82d-46aa-90b8-62c8a0d81c89"
      },
      "source": [
        "matrix.shape"
      ],
      "execution_count": 23,
      "outputs": [
        {
          "output_type": "execute_result",
          "data": {
            "text/plain": [
              "(2, 3)"
            ]
          },
          "metadata": {
            "tags": []
          },
          "execution_count": 23
        }
      ]
    },
    {
      "cell_type": "code",
      "metadata": {
        "colab": {
          "base_uri": "https://localhost:8080/"
        },
        "id": "JQPPWppxI46j",
        "outputId": "da1f3315-fb41-4f9a-bcca-f71a48375da7"
      },
      "source": [
        "matrix.reshape(6,)"
      ],
      "execution_count": 24,
      "outputs": [
        {
          "output_type": "execute_result",
          "data": {
            "text/plain": [
              "array([ 1,  2,  3,  4,  5, 16])"
            ]
          },
          "metadata": {
            "tags": []
          },
          "execution_count": 24
        }
      ]
    },
    {
      "cell_type": "code",
      "metadata": {
        "colab": {
          "base_uri": "https://localhost:8080/"
        },
        "id": "kghXVCogI76J",
        "outputId": "3bbb4ae0-a299-44b3-9563-b1ea347c7a66"
      },
      "source": [
        "matrix.reshape(3,2)"
      ],
      "execution_count": 25,
      "outputs": [
        {
          "output_type": "execute_result",
          "data": {
            "text/plain": [
              "array([[ 1,  2],\n",
              "       [ 3,  4],\n",
              "       [ 5, 16]])"
            ]
          },
          "metadata": {
            "tags": []
          },
          "execution_count": 25
        }
      ]
    },
    {
      "cell_type": "code",
      "metadata": {
        "colab": {
          "base_uri": "https://localhost:8080/"
        },
        "id": "SiYeDKTiJAjO",
        "outputId": "4f82f811-ba2a-4df0-dc21-9ac665287171"
      },
      "source": [
        "matrix.reshape(-1,)   #사이즈가 동일할때 numpy가 알아서 맞춰줌"
      ],
      "execution_count": 26,
      "outputs": [
        {
          "output_type": "execute_result",
          "data": {
            "text/plain": [
              "array([ 1,  2,  3,  4,  5, 16])"
            ]
          },
          "metadata": {
            "tags": []
          },
          "execution_count": 26
        }
      ]
    },
    {
      "cell_type": "code",
      "metadata": {
        "colab": {
          "base_uri": "https://localhost:8080/"
        },
        "id": "QMtH9zhFJbzK",
        "outputId": "1e68aadd-824e-4beb-ea79-d6a2fbd8f218"
      },
      "source": [
        "matrix.reshape(3,-1).shape"
      ],
      "execution_count": 28,
      "outputs": [
        {
          "output_type": "execute_result",
          "data": {
            "text/plain": [
              "(3, 2)"
            ]
          },
          "metadata": {
            "tags": []
          },
          "execution_count": 28
        }
      ]
    },
    {
      "cell_type": "code",
      "metadata": {
        "colab": {
          "base_uri": "https://localhost:8080/"
        },
        "id": "7uiA4_ScJ_xp",
        "outputId": "26bbde3c-3885-4847-cef8-58c9336fcee0"
      },
      "source": [
        "tensor.reshape(4,-1).shape\n"
      ],
      "execution_count": 32,
      "outputs": [
        {
          "output_type": "execute_result",
          "data": {
            "text/plain": [
              "(4, 6)"
            ]
          },
          "metadata": {
            "tags": []
          },
          "execution_count": 32
        }
      ]
    },
    {
      "cell_type": "code",
      "metadata": {
        "colab": {
          "base_uri": "https://localhost:8080/"
        },
        "id": "7DrJEQwkKP6u",
        "outputId": "7e547ff2-4fc9-4de0-d8dd-f19d015ccdb6"
      },
      "source": [
        "matrix.reshape(-1,)"
      ],
      "execution_count": 38,
      "outputs": [
        {
          "output_type": "execute_result",
          "data": {
            "text/plain": [
              "array([ 1,  2,  3,  4,  5, 16])"
            ]
          },
          "metadata": {
            "tags": []
          },
          "execution_count": 38
        }
      ]
    },
    {
      "cell_type": "code",
      "metadata": {
        "colab": {
          "base_uri": "https://localhost:8080/"
        },
        "id": "CNhGTO2TM7Ts",
        "outputId": "420fe779-2965-4663-a2a8-482c7668bd94"
      },
      "source": [
        "matrix.reshape(1,-1)"
      ],
      "execution_count": 37,
      "outputs": [
        {
          "output_type": "execute_result",
          "data": {
            "text/plain": [
              "array([[ 1,  2,  3,  4,  5, 16]])"
            ]
          },
          "metadata": {
            "tags": []
          },
          "execution_count": 37
        }
      ]
    },
    {
      "cell_type": "code",
      "metadata": {
        "colab": {
          "base_uri": "https://localhost:8080/"
        },
        "id": "Qsi2C1-aM_kj",
        "outputId": "1243a77b-14dd-4e9d-fff4-3a3b258d153b"
      },
      "source": [
        "matrix.reshape(-1,1)"
      ],
      "execution_count": 40,
      "outputs": [
        {
          "output_type": "execute_result",
          "data": {
            "text/plain": [
              "array([[ 1],\n",
              "       [ 2],\n",
              "       [ 3],\n",
              "       [ 4],\n",
              "       [ 5],\n",
              "       [16]])"
            ]
          },
          "metadata": {
            "tags": []
          },
          "execution_count": 40
        }
      ]
    },
    {
      "cell_type": "markdown",
      "metadata": {
        "id": "x1l6Yuk7OB7S"
      },
      "source": [
        "### Flatten\n",
        "\n",
        "- 다차원 array 를 1 차원 array 로 변환"
      ]
    },
    {
      "cell_type": "code",
      "metadata": {
        "colab": {
          "base_uri": "https://localhost:8080/"
        },
        "id": "h5Uxf6e4NKUb",
        "outputId": "45a86255-389a-4d30-da70-41b82ad459b5"
      },
      "source": [
        "tensor.reshape(-1,)"
      ],
      "execution_count": 50,
      "outputs": [
        {
          "output_type": "execute_result",
          "data": {
            "text/plain": [
              "array([ 1,  2,  3,  4,  5,  6,  7,  8,  9, 10, 11, 12, 13, 14, 15, 16, 17,\n",
              "       18, 19, 20, 21, 22, 23, 24])"
            ]
          },
          "metadata": {
            "tags": []
          },
          "execution_count": 50
        }
      ]
    },
    {
      "cell_type": "code",
      "metadata": {
        "colab": {
          "base_uri": "https://localhost:8080/"
        },
        "id": "nEuo3krBOKhN",
        "outputId": "09288f65-dd7f-464c-99cb-43a5f7fc7181"
      },
      "source": [
        "tensor.flatten()"
      ],
      "execution_count": 42,
      "outputs": [
        {
          "output_type": "execute_result",
          "data": {
            "text/plain": [
              "array([ 1,  2,  3,  4,  5,  6,  7,  8,  9, 10, 11, 12, 13, 14, 15, 16, 17,\n",
              "       18, 19, 20, 21, 22, 23, 24])"
            ]
          },
          "metadata": {
            "tags": []
          },
          "execution_count": 42
        }
      ]
    },
    {
      "cell_type": "markdown",
      "metadata": {
        "id": "4zWpf9FMOp7v"
      },
      "source": [
        "x1 x2 x3               w1 w2 w3\n",
        "                               (w=weight)\n",
        "\n",
        "y = WX + b (bias)\n",
        "\n",
        "w1x1 + w2x2 + w3x3\n",
        "\n",
        "dot product\n",
        "(m,n) (n,r)  => (m,r)\n",
        "\n"
      ]
    },
    {
      "cell_type": "markdown",
      "metadata": {
        "id": "6PohrixpQt8P"
      },
      "source": [
        "## 3. Indexing & Slicing"
      ]
    },
    {
      "cell_type": "markdown",
      "metadata": {
        "id": "XkGsk7dNQ2Zl"
      },
      "source": [
        "Indexing"
      ]
    },
    {
      "cell_type": "code",
      "metadata": {
        "colab": {
          "base_uri": "https://localhost:8080/"
        },
        "id": "g4PiW4B_ONUI",
        "outputId": "8d8c53f8-b0fe-4b92-e402-c6e38113732b"
      },
      "source": [
        "matrix"
      ],
      "execution_count": 43,
      "outputs": [
        {
          "output_type": "execute_result",
          "data": {
            "text/plain": [
              "array([[ 1,  2,  3],\n",
              "       [ 4,  5, 16]])"
            ]
          },
          "metadata": {
            "tags": []
          },
          "execution_count": 43
        }
      ]
    },
    {
      "cell_type": "code",
      "metadata": {
        "colab": {
          "base_uri": "https://localhost:8080/"
        },
        "id": "4Ai95Dj2Q43f",
        "outputId": "0702ab4f-8378-426a-922f-8106005f26b6"
      },
      "source": [
        "matrix[0][1]"
      ],
      "execution_count": 44,
      "outputs": [
        {
          "output_type": "execute_result",
          "data": {
            "text/plain": [
              "2"
            ]
          },
          "metadata": {
            "tags": []
          },
          "execution_count": 44
        }
      ]
    },
    {
      "cell_type": "code",
      "metadata": {
        "colab": {
          "base_uri": "https://localhost:8080/"
        },
        "id": "eYvbXXa7Q7xk",
        "outputId": "765201d9-0963-40c0-cb18-d1cb4539b985"
      },
      "source": [
        "matrix[1,2]"
      ],
      "execution_count": 49,
      "outputs": [
        {
          "output_type": "execute_result",
          "data": {
            "text/plain": [
              "16"
            ]
          },
          "metadata": {
            "tags": []
          },
          "execution_count": 49
        }
      ]
    },
    {
      "cell_type": "code",
      "metadata": {
        "colab": {
          "base_uri": "https://localhost:8080/"
        },
        "id": "jmQEZ299Rc0H",
        "outputId": "27895505-c509-4969-836d-8ca316f53eea"
      },
      "source": [
        "tensor"
      ],
      "execution_count": 52,
      "outputs": [
        {
          "output_type": "execute_result",
          "data": {
            "text/plain": [
              "array([[[ 1,  2,  3,  4],\n",
              "        [ 5,  6,  7,  8],\n",
              "        [ 9, 10, 11, 12]],\n",
              "\n",
              "       [[13, 14, 15, 16],\n",
              "        [17, 18, 19, 20],\n",
              "        [21, 22, 23, 24]]])"
            ]
          },
          "metadata": {
            "tags": []
          },
          "execution_count": 52
        }
      ]
    },
    {
      "cell_type": "code",
      "metadata": {
        "colab": {
          "base_uri": "https://localhost:8080/"
        },
        "id": "pjVFDFS_RCIn",
        "outputId": "293d0560-0dfb-4166-f35c-04c427f4414a"
      },
      "source": [
        "tensor[1,1,2]"
      ],
      "execution_count": 51,
      "outputs": [
        {
          "output_type": "execute_result",
          "data": {
            "text/plain": [
              "19"
            ]
          },
          "metadata": {
            "tags": []
          },
          "execution_count": 51
        }
      ]
    },
    {
      "cell_type": "markdown",
      "metadata": {
        "id": "7ydDaxzBRsHy"
      },
      "source": [
        "### Slicing"
      ]
    },
    {
      "cell_type": "code",
      "metadata": {
        "colab": {
          "base_uri": "https://localhost:8080/"
        },
        "id": "k7_c70prRaFP",
        "outputId": "88f446c0-c9ef-485f-90f3-f484521944d7"
      },
      "source": [
        "b = np.arange(16).reshape(4,-1)\n",
        "b"
      ],
      "execution_count": 53,
      "outputs": [
        {
          "output_type": "execute_result",
          "data": {
            "text/plain": [
              "array([[ 0,  1,  2,  3],\n",
              "       [ 4,  5,  6,  7],\n",
              "       [ 8,  9, 10, 11],\n",
              "       [12, 13, 14, 15]])"
            ]
          },
          "metadata": {
            "tags": []
          },
          "execution_count": 53
        }
      ]
    },
    {
      "cell_type": "code",
      "metadata": {
        "colab": {
          "base_uri": "https://localhost:8080/"
        },
        "id": "4oF5IeLcRx9A",
        "outputId": "6e4dc00a-4e39-4356-a5c8-09a7b40dd18e"
      },
      "source": [
        "# 5,6,9,10\n",
        "b[1:3, 1:3]"
      ],
      "execution_count": 54,
      "outputs": [
        {
          "output_type": "execute_result",
          "data": {
            "text/plain": [
              "array([[ 5,  6],\n",
              "       [ 9, 10]])"
            ]
          },
          "metadata": {
            "tags": []
          },
          "execution_count": 54
        }
      ]
    },
    {
      "cell_type": "code",
      "metadata": {
        "colab": {
          "base_uri": "https://localhost:8080/"
        },
        "id": "0McAprDAR-eV",
        "outputId": "133adbc7-2d7f-4c4e-bcf8-01fe36590a19"
      },
      "source": [
        "#5,6,7  9,10,11\n",
        "b[1:3,1:]"
      ],
      "execution_count": 55,
      "outputs": [
        {
          "output_type": "execute_result",
          "data": {
            "text/plain": [
              "array([[ 5,  6,  7],\n",
              "       [ 9, 10, 11]])"
            ]
          },
          "metadata": {
            "tags": []
          },
          "execution_count": 55
        }
      ]
    },
    {
      "cell_type": "code",
      "metadata": {
        "colab": {
          "base_uri": "https://localhost:8080/"
        },
        "id": "aQUovYRjSXPg",
        "outputId": "a7e9ea04-8537-499f-e97d-ef502beb2493"
      },
      "source": [
        "# 1,3,9,11\n",
        "\n",
        "b[::2,1::2]\n"
      ],
      "execution_count": 57,
      "outputs": [
        {
          "output_type": "execute_result",
          "data": {
            "text/plain": [
              "array([[ 1,  3],\n",
              "       [ 9, 11]])"
            ]
          },
          "metadata": {
            "tags": []
          },
          "execution_count": 57
        }
      ]
    },
    {
      "cell_type": "code",
      "metadata": {
        "colab": {
          "base_uri": "https://localhost:8080/"
        },
        "id": "0AWGDgr0Soo1",
        "outputId": "1c51b1a4-205a-4600-b2c6-44887e85fe0d"
      },
      "source": [
        "#2차원 이상은 대문자, 1차원은 소문자\n",
        "# X는 앞에 3열, y는 마지막열\n",
        "\n",
        "X, y = b[:,:-1], b[:,-1] \n",
        "X.shape, y.shape  \n"
      ],
      "execution_count": 59,
      "outputs": [
        {
          "output_type": "execute_result",
          "data": {
            "text/plain": [
              "((4, 3), (4,))"
            ]
          },
          "metadata": {
            "tags": []
          },
          "execution_count": 59
        }
      ]
    },
    {
      "cell_type": "code",
      "metadata": {
        "id": "UcjKqDNZUC85"
      },
      "source": [
        ""
      ],
      "execution_count": null,
      "outputs": []
    }
  ]
}
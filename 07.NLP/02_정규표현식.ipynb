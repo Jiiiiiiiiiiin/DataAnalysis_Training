{
  "nbformat": 4,
  "nbformat_minor": 0,
  "metadata": {
    "colab": {
      "name": "02_정규표현식.ipynb",
      "provenance": [],
      "collapsed_sections": []
    },
    "kernelspec": {
      "name": "python3",
      "display_name": "Python 3"
    },
    "language_info": {
      "name": "python"
    }
  },
  "cells": [
    {
      "cell_type": "markdown",
      "metadata": {
        "id": "dIL4KbyUZ6Gz"
      },
      "source": [
        "# 정규 표현식 regular expression"
      ]
    },
    {
      "cell_type": "markdown",
      "metadata": {
        "id": "68Fl27iuaCxx"
      },
      "source": [
        "## 1. 정규 표현식 문법과 모듈 함수\n",
        "\n",
        "### 1) 정규 표현식 문법\n",
        "* re.compile()에 정규 표현식을 컴파일하고, re.search()를 통해서 해당 정규 표현식이 입력 텍스트와 매치되는지를 확인하면서 각 정규 표현식에 대해서 이해해보도록 하겠습니다. re.search() 함수는 매치된다면 Match Object를 리턴하고, 매치되지 않으면 아무런 값도 출력되지 않습니다."
      ]
    },
    {
      "cell_type": "code",
      "metadata": {
        "id": "xO3Dss8AZ3Nu"
      },
      "source": [
        "re.sub('정규표현식', '바꿀문자', text)\n",
        "\n",
        "re.compile('정규표현식')\n",
        "re.sub('바꿀문자', text)"
      ],
      "execution_count": null,
      "outputs": []
    },
    {
      "cell_type": "code",
      "metadata": {
        "id": "x5BOEYisesG-"
      },
      "source": [
        "import re"
      ],
      "execution_count": 1,
      "outputs": []
    },
    {
      "cell_type": "markdown",
      "metadata": {
        "id": "XAFeMdAVe4Ru"
      },
      "source": [
        "### 2) 정규 표현식 실습\n",
        "\n",
        "* . 기호 : 한 개의 임의의 문자를 나타냅니다. (줄바꿈 문자인 \\n는 제외)"
      ]
    },
    {
      "cell_type": "code",
      "metadata": {
        "id": "08j1dh-MetJJ"
      },
      "source": [
        "re.search('a.c', 'kkk')"
      ],
      "execution_count": 2,
      "outputs": []
    },
    {
      "cell_type": "code",
      "metadata": {
        "colab": {
          "base_uri": "https://localhost:8080/"
        },
        "id": "U7BS1LMdfHMD",
        "outputId": "f8750351-5691-4ebb-ee23-13dccfed4dfc"
      },
      "source": [
        "re.search('a.c', 'abc')"
      ],
      "execution_count": 3,
      "outputs": [
        {
          "output_type": "execute_result",
          "data": {
            "text/plain": [
              "<re.Match object; span=(0, 3), match='abc'>"
            ]
          },
          "metadata": {},
          "execution_count": 3
        }
      ]
    },
    {
      "cell_type": "markdown",
      "metadata": {
        "id": "WqOAFU0FfRde"
      },
      "source": [
        "* ? 기호 : 앞의 문자가 존재할 수도 있고, 존재하지 않을 수도 있습니다. (문자가 0개 또는 1개)"
      ]
    },
    {
      "cell_type": "code",
      "metadata": {
        "id": "7-dGdJWifMCC"
      },
      "source": [
        "r = re.compile('ab?c')\n",
        "r.search('abbc')"
      ],
      "execution_count": 4,
      "outputs": []
    },
    {
      "cell_type": "code",
      "metadata": {
        "colab": {
          "base_uri": "https://localhost:8080/"
        },
        "id": "x1_486pCfoxV",
        "outputId": "530eb737-85fd-4f95-d318-b184a5f42899"
      },
      "source": [
        "r.search('abc')"
      ],
      "execution_count": 5,
      "outputs": [
        {
          "output_type": "execute_result",
          "data": {
            "text/plain": [
              "<re.Match object; span=(0, 3), match='abc'>"
            ]
          },
          "metadata": {},
          "execution_count": 5
        }
      ]
    },
    {
      "cell_type": "code",
      "metadata": {
        "colab": {
          "base_uri": "https://localhost:8080/"
        },
        "id": "v1SbEP9QfqlH",
        "outputId": "a03ff8c5-e452-4c35-c3b1-a897abd3c0f4"
      },
      "source": [
        "r.search('ac')"
      ],
      "execution_count": 6,
      "outputs": [
        {
          "output_type": "execute_result",
          "data": {
            "text/plain": [
              "<re.Match object; span=(0, 2), match='ac'>"
            ]
          },
          "metadata": {},
          "execution_count": 6
        }
      ]
    },
    {
      "cell_type": "markdown",
      "metadata": {
        "id": "vc5laMjyxzi_"
      },
      "source": [
        "* 기호 * :\t앞의 문자가 무한개로 존재할 수도 있고, 존재하지 않을 수도 있습니다. (문자가 0개 이상)"
      ]
    },
    {
      "cell_type": "code",
      "metadata": {
        "id": "gD5WBmPtx76i"
      },
      "source": [
        "import re\n",
        "r=re.compile(\"ab*c\")\n",
        "r.search(\"a\") # 아무런 결과도 출력되지 않는다."
      ],
      "execution_count": 18,
      "outputs": []
    },
    {
      "cell_type": "code",
      "metadata": {
        "colab": {
          "base_uri": "https://localhost:8080/"
        },
        "id": "yTH5-HPZyCbq",
        "outputId": "0390c391-1d97-4338-acfb-66a88e5392d1"
      },
      "source": [
        "r.search(\"ac\")"
      ],
      "execution_count": 19,
      "outputs": [
        {
          "output_type": "execute_result",
          "data": {
            "text/plain": [
              "<re.Match object; span=(0, 2), match='ac'>"
            ]
          },
          "metadata": {},
          "execution_count": 19
        }
      ]
    },
    {
      "cell_type": "code",
      "metadata": {
        "colab": {
          "base_uri": "https://localhost:8080/"
        },
        "id": "Ehc3N46ZyyVc",
        "outputId": "74cb130d-66b7-4c2d-e4be-192f23995482"
      },
      "source": [
        "r.search(\"abc\") "
      ],
      "execution_count": 20,
      "outputs": [
        {
          "output_type": "execute_result",
          "data": {
            "text/plain": [
              "<re.Match object; span=(0, 3), match='abc'>"
            ]
          },
          "metadata": {},
          "execution_count": 20
        }
      ]
    },
    {
      "cell_type": "markdown",
      "metadata": {
        "id": "HVSwW5d8x0KY"
      },
      "source": [
        "* 기호 + : 앞의 문자가 최소 한 개 이상 존재합니다. (문자가 1개 이상)"
      ]
    },
    {
      "cell_type": "code",
      "metadata": {
        "id": "OmBWM9wsx-JV"
      },
      "source": [
        "r = re.compile(\"ab+c\")\n",
        "r.search('ac')"
      ],
      "execution_count": 8,
      "outputs": []
    },
    {
      "cell_type": "code",
      "metadata": {
        "colab": {
          "base_uri": "https://localhost:8080/"
        },
        "id": "u4pZI-RkyJoi",
        "outputId": "b1f3bf64-5f29-4606-8370-7f1b4a094834"
      },
      "source": [
        "r.search('abbbbbbc')"
      ],
      "execution_count": 9,
      "outputs": [
        {
          "output_type": "execute_result",
          "data": {
            "text/plain": [
              "<re.Match object; span=(0, 8), match='abbbbbbc'>"
            ]
          },
          "metadata": {},
          "execution_count": 9
        }
      ]
    },
    {
      "cell_type": "markdown",
      "metadata": {
        "id": "9mQrx4XxyMKI"
      },
      "source": [
        "* 기호 ^ : \t뒤의 문자로 문자열이 시작됩니다."
      ]
    },
    {
      "cell_type": "code",
      "metadata": {
        "id": "La3HJuwPyLfr"
      },
      "source": [
        "re.search('^a', 'bbc')\n"
      ],
      "execution_count": 12,
      "outputs": []
    },
    {
      "cell_type": "code",
      "metadata": {
        "colab": {
          "base_uri": "https://localhost:8080/"
        },
        "id": "W2Z0s4NryV--",
        "outputId": "74a9b92b-a75e-40a9-9e73-48034a370a0d"
      },
      "source": [
        "re.search('^a', 'ab')"
      ],
      "execution_count": 13,
      "outputs": [
        {
          "output_type": "execute_result",
          "data": {
            "text/plain": [
              "<re.Match object; span=(0, 1), match='a'>"
            ]
          },
          "metadata": {},
          "execution_count": 13
        }
      ]
    },
    {
      "cell_type": "markdown",
      "metadata": {
        "id": "khIk-xJJydqe"
      },
      "source": [
        "* 기호 {숫자} : 해당 문자를 숫자만큼 반복"
      ]
    },
    {
      "cell_type": "code",
      "metadata": {
        "id": "WOVU-FUnykYl"
      },
      "source": [
        "import re\n",
        "r=re.compile(\"ab{2}c\")\n",
        "r.search(\"ac\") # 아무런 결과도 출력되지 않는다.\n",
        "r.search(\"abc\") # 아무런 결과도 출력되지 않는다."
      ],
      "execution_count": 14,
      "outputs": []
    },
    {
      "cell_type": "code",
      "metadata": {
        "colab": {
          "base_uri": "https://localhost:8080/"
        },
        "id": "bcPiZ5RcylwV",
        "outputId": "bb13d93a-16c3-40cf-dab6-e2d89f0fc37a"
      },
      "source": [
        "r.search(\"abbc\")"
      ],
      "execution_count": 15,
      "outputs": [
        {
          "output_type": "execute_result",
          "data": {
            "text/plain": [
              "<re.Match object; span=(0, 4), match='abbc'>"
            ]
          },
          "metadata": {},
          "execution_count": 15
        }
      ]
    },
    {
      "cell_type": "markdown",
      "metadata": {
        "id": "C4I4y4wpy4Mq"
      },
      "source": [
        "* 7) {숫자1, 숫자2} 기호 : 해당 문자를 숫1 이상 숫자2 이하만큼 반복"
      ]
    },
    {
      "cell_type": "code",
      "metadata": {
        "id": "ry0MPd9cy8Sp"
      },
      "source": [
        "import re\n",
        "r=re.compile(\"ab{2,8}c\")\n",
        "r.search(\"ac\") # 아무런 결과도 출력되지 않는다.\n",
        "r.search(\"abc\") # 아무런 결과도 출력되지 않는다."
      ],
      "execution_count": 21,
      "outputs": []
    },
    {
      "cell_type": "code",
      "metadata": {
        "colab": {
          "base_uri": "https://localhost:8080/"
        },
        "id": "t0fNRc_Cy-dq",
        "outputId": "682da524-dadf-4590-c178-6079b2e10cbd"
      },
      "source": [
        "r.search(\"abbbbbbbbc\")"
      ],
      "execution_count": 22,
      "outputs": [
        {
          "output_type": "execute_result",
          "data": {
            "text/plain": [
              "<re.Match object; span=(0, 10), match='abbbbbbbbc'>"
            ]
          },
          "metadata": {},
          "execution_count": 22
        }
      ]
    },
    {
      "cell_type": "markdown",
      "metadata": {
        "id": "0su5rPo9zCDV"
      },
      "source": [
        "* 기호 [ ]  : 문자들 중 한 개의 문자와 매치라는 의미 매우중요"
      ]
    },
    {
      "cell_type": "code",
      "metadata": {
        "id": "6Wua8K8GzI5w"
      },
      "source": [
        "import re\n",
        "r=re.compile(\"[abc]\") # [abc]는 [a-c]와 같다.\n",
        "r.search(\"zzz\") # 아무런 결과도 출력되지 않는다."
      ],
      "execution_count": 23,
      "outputs": []
    },
    {
      "cell_type": "code",
      "metadata": {
        "colab": {
          "base_uri": "https://localhost:8080/"
        },
        "id": "9ab6wTakzI_Z",
        "outputId": "653e498d-088c-4dcc-8691-e7c46ee055c5"
      },
      "source": [
        "r.search(\"baac\")      "
      ],
      "execution_count": 24,
      "outputs": [
        {
          "output_type": "execute_result",
          "data": {
            "text/plain": [
              "<re.Match object; span=(0, 1), match='b'>"
            ]
          },
          "metadata": {},
          "execution_count": 24
        }
      ]
    },
    {
      "cell_type": "code",
      "metadata": {
        "id": "OQpv7ohrzY2I"
      },
      "source": [
        "# 소문자\n",
        "re.search('[a-z]', 'ABC')"
      ],
      "execution_count": 30,
      "outputs": []
    },
    {
      "cell_type": "code",
      "metadata": {
        "colab": {
          "base_uri": "https://localhost:8080/"
        },
        "id": "CqtAkf47zoZm",
        "outputId": "9a81ee98-e2b5-424a-cf8c-2184898cc14a"
      },
      "source": [
        "re.search('[a-z]', 'ABc')"
      ],
      "execution_count": 26,
      "outputs": [
        {
          "output_type": "execute_result",
          "data": {
            "text/plain": [
              "<re.Match object; span=(2, 3), match='c'>"
            ]
          },
          "metadata": {},
          "execution_count": 26
        }
      ]
    },
    {
      "cell_type": "code",
      "metadata": {
        "id": "JF7SWj7Q0fSl"
      },
      "source": [
        "# 문자 또는 숫자 두개의 식 같은내용\n",
        "re.search('[0-9A-Za-z]', '$%^&')\n",
        "re.search('\\w', '$%^&')"
      ],
      "execution_count": 33,
      "outputs": []
    },
    {
      "cell_type": "markdown",
      "metadata": {
        "id": "MwrVUHp8zzgD"
      },
      "source": [
        "* [^문자] 기호 : ^ 기호 뒤에 붙은 문자들을 제외한 모든 문자를 매치"
      ]
    },
    {
      "cell_type": "code",
      "metadata": {
        "id": "0mEttQLqzrN-"
      },
      "source": [
        "import re\n",
        "r=re.compile(\"[^abc]\")\n",
        "r.search(\"a\") # 아무런 결과도 출력되지 않는다.\n",
        "r.search(\"ab\") # 아무런 결과도 출력되지 않는다.\n",
        "r.search(\"b\") # 아무런 결과도 출력되지 않는다."
      ],
      "execution_count": 27,
      "outputs": []
    },
    {
      "cell_type": "code",
      "metadata": {
        "colab": {
          "base_uri": "https://localhost:8080/"
        },
        "id": "0nVcdSKfz-9g",
        "outputId": "a2a9088b-3838-4f75-b6a9-91fb75c3ccce"
      },
      "source": [
        "r.search(\"d\")"
      ],
      "execution_count": 28,
      "outputs": [
        {
          "output_type": "execute_result",
          "data": {
            "text/plain": [
              "<re.Match object; span=(0, 1), match='d'>"
            ]
          },
          "metadata": {},
          "execution_count": 28
        }
      ]
    },
    {
      "cell_type": "code",
      "metadata": {
        "colab": {
          "base_uri": "https://localhost:8080/"
        },
        "id": "NPCQtbej0EVF",
        "outputId": "5c0c3478-4bd3-4309-ba73-61a435d6096e"
      },
      "source": [
        "r.search('d1')"
      ],
      "execution_count": 29,
      "outputs": [
        {
          "output_type": "execute_result",
          "data": {
            "text/plain": [
              "<re.Match object; span=(0, 1), match='d'>"
            ]
          },
          "metadata": {},
          "execution_count": 29
        }
      ]
    },
    {
      "cell_type": "code",
      "metadata": {
        "colab": {
          "base_uri": "https://localhost:8080/",
          "height": 35
        },
        "id": "yr5QY_bS0GSU",
        "outputId": "1152d787-939e-4e7f-8f92-9fcbe31b3b59"
      },
      "source": [
        "# 한글과 공백을 제외한 모든 문자를 제거\n",
        "re.sub('[^ㄱ-ㅎㅏ-ㅣ가-힣 ]', '', '^ 기호 뒤에 붙은 문자')"
      ],
      "execution_count": 35,
      "outputs": [
        {
          "output_type": "execute_result",
          "data": {
            "application/vnd.google.colaboratory.intrinsic+json": {
              "type": "string"
            },
            "text/plain": [
              "' 기호 뒤에 붙은 문자'"
            ]
          },
          "metadata": {},
          "execution_count": 35
        }
      ]
    },
    {
      "cell_type": "markdown",
      "metadata": {
        "id": "wRIcCT501kGK"
      },
      "source": [
        "## 2. RE 모듈 함수"
      ]
    },
    {
      "cell_type": "markdown",
      "metadata": {
        "id": "G-vlaxtg1_mf"
      },
      "source": [
        "* search vs match\n",
        "\n",
        "* search()가 정규 표현식 전체에 대해서 문자열이 매치하는지를 본다면, match()는 문자열의 첫 부분부터 정규 표현식과 매치하는지를 확인합니다. 문자열 중간에 찾을 패턴이 있다고 하더라도, match 함수는 문자열의 시작에서 패턴이 일치하지 않으면 찾지 않습니다."
      ]
    },
    {
      "cell_type": "code",
      "metadata": {
        "id": "TrjpEFyY1o5o"
      },
      "source": [
        "re.match('ab. ', 'kkkabc')"
      ],
      "execution_count": 36,
      "outputs": []
    },
    {
      "cell_type": "code",
      "metadata": {
        "id": "Kkp68DKy174w"
      },
      "source": [
        "re.search('ab. ', 'kkkabc')"
      ],
      "execution_count": 37,
      "outputs": []
    },
    {
      "cell_type": "markdown",
      "metadata": {
        "id": "FevkXs0C1_Nv"
      },
      "source": [
        "* re.split()\n",
        "\n",
        "*  정규 표현식을 기준으로 문자열들을 분리하여 리스트로 리턴\n",
        "\n",
        "* split()은 '\\s+'를 포함하고 있다"
      ]
    },
    {
      "cell_type": "code",
      "metadata": {
        "colab": {
          "base_uri": "https://localhost:8080/"
        },
        "id": "fb8LZJ-A2H6c",
        "outputId": "342ea7ef-0b69-452d-9fa3-7dfa2999fdc1"
      },
      "source": [
        "text=\"사과 딸기 수박 메론 바나나\"\n",
        "re.split(\" \",text)"
      ],
      "execution_count": 38,
      "outputs": [
        {
          "output_type": "execute_result",
          "data": {
            "text/plain": [
              "['사과', '딸기', '수박', '메론', '바나나']"
            ]
          },
          "metadata": {},
          "execution_count": 38
        }
      ]
    },
    {
      "cell_type": "code",
      "metadata": {
        "colab": {
          "base_uri": "https://localhost:8080/"
        },
        "id": "P5f3BZ7O2NTO",
        "outputId": "c89ea749-b64c-427e-eceb-80a251b60066"
      },
      "source": [
        "text.split()"
      ],
      "execution_count": 39,
      "outputs": [
        {
          "output_type": "execute_result",
          "data": {
            "text/plain": [
              "['사과', '딸기', '수박', '메론', '바나나']"
            ]
          },
          "metadata": {},
          "execution_count": 39
        }
      ]
    },
    {
      "cell_type": "code",
      "metadata": {
        "colab": {
          "base_uri": "https://localhost:8080/"
        },
        "id": "q7bW2fVi2Taf",
        "outputId": "863fd4fd-dd5d-4416-a62b-2bed8118ab1a"
      },
      "source": [
        "text2=\"\"\"사과     딸기\n",
        " 수박\n",
        "  메론         바나나\"\"\"\n",
        "text2.split()"
      ],
      "execution_count": 41,
      "outputs": [
        {
          "output_type": "execute_result",
          "data": {
            "text/plain": [
              "['사과', '딸기', '수박', '메론', '바나나']"
            ]
          },
          "metadata": {},
          "execution_count": 41
        }
      ]
    },
    {
      "cell_type": "code",
      "metadata": {
        "colab": {
          "base_uri": "https://localhost:8080/"
        },
        "id": "SjYz5xSA2ax4",
        "outputId": "cc81cde8-bc8c-46ae-fba6-abf1ba2ae92c"
      },
      "source": [
        "re.split('\\s+', text2)"
      ],
      "execution_count": 43,
      "outputs": [
        {
          "output_type": "execute_result",
          "data": {
            "text/plain": [
              "['사과', '딸기', '수박', '메론', '바나나']"
            ]
          },
          "metadata": {},
          "execution_count": 43
        }
      ]
    },
    {
      "cell_type": "markdown",
      "metadata": {
        "id": "7vgm1aeu3ATj"
      },
      "source": [
        "* findall()"
      ]
    },
    {
      "cell_type": "code",
      "metadata": {
        "colab": {
          "base_uri": "https://localhost:8080/"
        },
        "id": "Lmw3F5ZY2txm",
        "outputId": "214c3b4c-224b-4327-bc90-81604e491515"
      },
      "source": [
        "text=\"\"\"이름 : 김철수\n",
        "전화번호 : 010 - 1234 - 1234\n",
        "나이 : 30\n",
        "성별 : 남\"\"\"  \n",
        "re.findall(\"\\d+\",text)"
      ],
      "execution_count": 44,
      "outputs": [
        {
          "output_type": "execute_result",
          "data": {
            "text/plain": [
              "['010', '1234', '1234', '30']"
            ]
          },
          "metadata": {},
          "execution_count": 44
        }
      ]
    },
    {
      "cell_type": "code",
      "metadata": {
        "colab": {
          "base_uri": "https://localhost:8080/"
        },
        "id": "BraIZVYG3NeC",
        "outputId": "9e1ffe9d-11b8-4743-a277-dfd3ab10dce4"
      },
      "source": [
        "re.findall(\"\\d+\", \"문자열입니다.\")"
      ],
      "execution_count": 45,
      "outputs": [
        {
          "output_type": "execute_result",
          "data": {
            "text/plain": [
              "[]"
            ]
          },
          "metadata": {},
          "execution_count": 45
        }
      ]
    },
    {
      "cell_type": "markdown",
      "metadata": {
        "id": "z4f3x8h73Obm"
      },
      "source": [
        "* re.sub()\n",
        "\n",
        "* 정규 표현식 패턴과 일치하는 문자열을 찾아 다른 문자열로 대체"
      ]
    },
    {
      "cell_type": "code",
      "metadata": {
        "colab": {
          "base_uri": "https://localhost:8080/",
          "height": 53
        },
        "id": "FTR_Yz6v3gZ9",
        "outputId": "7fa6693f-010d-47d5-a515-b4619bb4deb1"
      },
      "source": [
        "text=\"\"\"Regular expression : A regular expression, regex or regexp[1] \n",
        "(sometimes called a rational expression)[2][3] is, in theoretical computer science and formal language theory, \n",
        "a sequence of characters that define a search pattern.\"\"\"\n",
        "re.sub('[^a-zA-Z]',' ',text)"
      ],
      "execution_count": 47,
      "outputs": [
        {
          "output_type": "execute_result",
          "data": {
            "application/vnd.google.colaboratory.intrinsic+json": {
              "type": "string"
            },
            "text/plain": [
              "'Regular expression   A regular expression  regex or regexp      sometimes called a rational expression        is  in theoretical computer science and formal language theory   a sequence of characters that define a search pattern '"
            ]
          },
          "metadata": {},
          "execution_count": 47
        }
      ]
    },
    {
      "cell_type": "markdown",
      "metadata": {
        "id": "ZwTeytAm4AM9"
      },
      "source": [
        "## 3. 정규표현식 테스트 전처리 예제"
      ]
    },
    {
      "cell_type": "code",
      "metadata": {
        "colab": {
          "base_uri": "https://localhost:8080/"
        },
        "id": "LHlD2XSX4CqV",
        "outputId": "7140941f-4ef7-4460-e82d-d6675d93cd47"
      },
      "source": [
        "text = \"\"\"100 John    PROF\n",
        "101 James   STUD\n",
        "102 Mac   STUD\"\"\"  \n",
        "\n",
        "re.split('\\s+', text)  "
      ],
      "execution_count": 48,
      "outputs": [
        {
          "output_type": "execute_result",
          "data": {
            "text/plain": [
              "['100', 'John', 'PROF', '101', 'James', 'STUD', '102', 'Mac', 'STUD']"
            ]
          },
          "metadata": {},
          "execution_count": 48
        }
      ]
    },
    {
      "cell_type": "code",
      "metadata": {
        "colab": {
          "base_uri": "https://localhost:8080/"
        },
        "id": "LVijIRv04Mut",
        "outputId": "00f8cebd-0c99-4eeb-81fd-2d264a0d2b40"
      },
      "source": [
        "re.findall('\\d+', text)"
      ],
      "execution_count": 49,
      "outputs": [
        {
          "output_type": "execute_result",
          "data": {
            "text/plain": [
              "['100', '101', '102']"
            ]
          },
          "metadata": {},
          "execution_count": 49
        }
      ]
    },
    {
      "cell_type": "code",
      "metadata": {
        "colab": {
          "base_uri": "https://localhost:8080/"
        },
        "id": "NMP3-DQS4QPs",
        "outputId": "118518b4-ab77-43c7-f2ac-ebe5d572575f"
      },
      "source": [
        "re.findall('[A-Z]', text)"
      ],
      "execution_count": 50,
      "outputs": [
        {
          "output_type": "execute_result",
          "data": {
            "text/plain": [
              "['J', 'P', 'R', 'O', 'F', 'J', 'S', 'T', 'U', 'D', 'M', 'S', 'T', 'U', 'D']"
            ]
          },
          "metadata": {},
          "execution_count": 50
        }
      ]
    },
    {
      "cell_type": "code",
      "metadata": {
        "colab": {
          "base_uri": "https://localhost:8080/"
        },
        "id": "bAZbiBy94gyg",
        "outputId": "9009f175-80c4-4aaa-ad07-cece190540e9"
      },
      "source": [
        "re.findall('[A-Z]+', text)"
      ],
      "execution_count": 51,
      "outputs": [
        {
          "output_type": "execute_result",
          "data": {
            "text/plain": [
              "['J', 'PROF', 'J', 'STUD', 'M', 'STUD']"
            ]
          },
          "metadata": {},
          "execution_count": 51
        }
      ]
    },
    {
      "cell_type": "code",
      "metadata": {
        "colab": {
          "base_uri": "https://localhost:8080/"
        },
        "id": "tgEWhr3H4q90",
        "outputId": "ed4e12b8-b136-47d1-93c0-5ffe48ed0c6f"
      },
      "source": [
        "re.findall('[A-Z]{4}', text)"
      ],
      "execution_count": 52,
      "outputs": [
        {
          "output_type": "execute_result",
          "data": {
            "text/plain": [
              "['PROF', 'STUD', 'STUD']"
            ]
          },
          "metadata": {},
          "execution_count": 52
        }
      ]
    },
    {
      "cell_type": "code",
      "metadata": {
        "colab": {
          "base_uri": "https://localhost:8080/"
        },
        "id": "7wA3yn0x4z2I",
        "outputId": "51a2bf94-36dc-4046-9ed8-c02471d89e3b"
      },
      "source": [
        "re.findall('[A-Z][a-z]+', text)"
      ],
      "execution_count": 53,
      "outputs": [
        {
          "output_type": "execute_result",
          "data": {
            "text/plain": [
              "['John', 'James', 'Mac']"
            ]
          },
          "metadata": {},
          "execution_count": 53
        }
      ]
    }
  ]
}
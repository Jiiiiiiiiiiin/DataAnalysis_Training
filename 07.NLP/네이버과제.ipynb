{
 "cells": [
  {
   "cell_type": "code",
   "execution_count": 20,
   "source": [
    "from selenium import webdriver\r\n",
    "from bs4 import BeautifulSoup\r\n",
    "import time\r\n",
    "import pandas as pd\r\n",
    "from urllib.parse import quote"
   ],
   "outputs": [],
   "metadata": {}
  },
  {
   "cell_type": "code",
   "execution_count": 21,
   "source": [
    "chromedriver = '/Workspace/02. DataAnalysis/05.Crawling/chromedriver.exe'\r\n",
    "driver = webdriver.Chrome(chromedriver)"
   ],
   "outputs": [],
   "metadata": {}
  },
  {
   "cell_type": "code",
   "execution_count": 23,
   "source": [
    "base_url = 'https://search.naver.com/search.naver?where=view&sm=tab_jum&query='\r\n",
    "url = base_url + quote('가을장마')"
   ],
   "outputs": [],
   "metadata": {}
  },
  {
   "cell_type": "code",
   "execution_count": 24,
   "source": [
    "driver.get(url)"
   ],
   "outputs": [],
   "metadata": {}
  },
  {
   "cell_type": "code",
   "execution_count": 26,
   "source": [
    "from selenium.webdriver.common.keys import Keys\r\n",
    "\r\n",
    "body = driver.find_element_by_tag_name('body')\r\n",
    "for i in range(40):\r\n",
    "    body.send_keys(Keys.PAGE_DOWN)\r\n",
    "    time.sleep(2)"
   ],
   "outputs": [],
   "metadata": {}
  },
  {
   "cell_type": "code",
   "execution_count": 27,
   "source": [
    "html = driver.page_source\r\n",
    "soup = BeautifulSoup(html, 'html.parser')"
   ],
   "outputs": [],
   "metadata": {}
  },
  {
   "cell_type": "code",
   "execution_count": 28,
   "source": [
    "lis = soup.select('li.bx._svp_item')\r\n",
    "len(lis)"
   ],
   "outputs": [
    {
     "output_type": "execute_result",
     "data": {
      "text/plain": [
       "153"
      ]
     },
     "metadata": {},
     "execution_count": 28
    }
   ],
   "metadata": {}
  },
  {
   "cell_type": "code",
   "execution_count": 29,
   "source": [
    "li = lis[0]\r\n",
    "title = li.select_one('a.api_txt_lines.total_tit._cross_trigger').get_text()\r\n",
    "content = li.select_one('div.api_txt_lines.dsc_txt').get_text()\r\n",
    "date = li.select_one('.sub_time.sub_txt').get_text()\r\n",
    "title, date, content"
   ],
   "outputs": [
    {
     "output_type": "execute_result",
     "data": {
      "text/plain": [
       "('가을장마가 시작되네요...',\n",
       " '6일 전',\n",
       " 'ㅠ 저번달에는 장마로 인해 농부삼촌네 절임공장이 #산사태로 인해 #수해피해를 보면서 이번 #태풍 #오마이스 가 지나고 계속된 #가을장마 소식에 머리가 지끈지끈 합니다.... 올해도 8월 7일부터 1차 배추모종을 담는것부터...')"
      ]
     },
     "metadata": {},
     "execution_count": 29
    }
   ],
   "metadata": {}
  },
  {
   "cell_type": "code",
   "execution_count": 30,
   "source": [
    "title_list, content_list, date_list = [], [], []\r\n",
    "for i, li in enumerate(lis):\r\n",
    "    try:\r\n",
    "        adv = li.select_one('a.link_ad').get_text()\r\n",
    "        if adv.strip() == '광고':\r\n",
    "            continue\r\n",
    "    except:\r\n",
    "        title = li.select_one('a.api_txt_lines.total_tit._cross_trigger').get_text()\r\n",
    "        content = li.select_one('div.api_txt_lines.dsc_txt').get_text()\r\n",
    "        date = li.select_one('.sub_time.sub_txt').get_text()\r\n",
    "\r\n",
    "        title_list.append(title)\r\n",
    "        content_list.append(content)\r\n",
    "        date_list.append(date)"
   ],
   "outputs": [],
   "metadata": {}
  },
  {
   "cell_type": "code",
   "execution_count": 31,
   "source": [
    "df = pd.DataFrame({\r\n",
    "    'title': title_list, 'date' : date_list, 'content' : content_list\r\n",
    "})\r\n",
    "df.head(5)"
   ],
   "outputs": [
    {
     "output_type": "execute_result",
     "data": {
      "text/plain": [
       "                      title         date  \\\n",
       "0            가을장마가 시작되네요...         6일 전   \n",
       "1     가을 장마에 하기 좋은 과학실험키트 5           어제   \n",
       "2     가을장마(feat. 김장 배추 키우기)         6일 전   \n",
       "3  가을장마 시작 - 다육이들 비닐 덮개 씌우기  2021.08.21.   \n",
       "4                     가을 장마  2021.08.22.   \n",
       "\n",
       "                                             content  \n",
       "0  ㅠ 저번달에는 장마로 인해 농부삼촌네 절임공장이 #산사태로 인해 #수해피해를 보면서...  \n",
       "1  가을 장마를 이겨낼 수 있는 #과학실험키트 5가지를 소개합니다. 습기 NO! 매직 ...  \n",
       "2  뭔 가을장마가 이리 긴 것인가... 그렇게 여름에 비 좀 오라고~오라고 할 때는 다...  \n",
       "3  말복 지나고 나니 좀 선선해져서 좋다고 했는데 가을 장마로 가을 수확을 위한 농작물...  \n",
       "4  뒤늦은 장마는 경남 남해안은 특히 더 비를 쏟아부었으니 과연 우리 집 잔디밭에는 웅...  "
      ],
      "text/html": [
       "<div>\n",
       "<style scoped>\n",
       "    .dataframe tbody tr th:only-of-type {\n",
       "        vertical-align: middle;\n",
       "    }\n",
       "\n",
       "    .dataframe tbody tr th {\n",
       "        vertical-align: top;\n",
       "    }\n",
       "\n",
       "    .dataframe thead th {\n",
       "        text-align: right;\n",
       "    }\n",
       "</style>\n",
       "<table border=\"1\" class=\"dataframe\">\n",
       "  <thead>\n",
       "    <tr style=\"text-align: right;\">\n",
       "      <th></th>\n",
       "      <th>title</th>\n",
       "      <th>date</th>\n",
       "      <th>content</th>\n",
       "    </tr>\n",
       "  </thead>\n",
       "  <tbody>\n",
       "    <tr>\n",
       "      <th>0</th>\n",
       "      <td>가을장마가 시작되네요...</td>\n",
       "      <td>6일 전</td>\n",
       "      <td>ㅠ 저번달에는 장마로 인해 농부삼촌네 절임공장이 #산사태로 인해 #수해피해를 보면서...</td>\n",
       "    </tr>\n",
       "    <tr>\n",
       "      <th>1</th>\n",
       "      <td>가을 장마에 하기 좋은 과학실험키트 5</td>\n",
       "      <td>어제</td>\n",
       "      <td>가을 장마를 이겨낼 수 있는 #과학실험키트 5가지를 소개합니다. 습기 NO! 매직 ...</td>\n",
       "    </tr>\n",
       "    <tr>\n",
       "      <th>2</th>\n",
       "      <td>가을장마(feat. 김장 배추 키우기)</td>\n",
       "      <td>6일 전</td>\n",
       "      <td>뭔 가을장마가 이리 긴 것인가... 그렇게 여름에 비 좀 오라고~오라고 할 때는 다...</td>\n",
       "    </tr>\n",
       "    <tr>\n",
       "      <th>3</th>\n",
       "      <td>가을장마 시작 - 다육이들 비닐 덮개 씌우기</td>\n",
       "      <td>2021.08.21.</td>\n",
       "      <td>말복 지나고 나니 좀 선선해져서 좋다고 했는데 가을 장마로 가을 수확을 위한 농작물...</td>\n",
       "    </tr>\n",
       "    <tr>\n",
       "      <th>4</th>\n",
       "      <td>가을 장마</td>\n",
       "      <td>2021.08.22.</td>\n",
       "      <td>뒤늦은 장마는 경남 남해안은 특히 더 비를 쏟아부었으니 과연 우리 집 잔디밭에는 웅...</td>\n",
       "    </tr>\n",
       "  </tbody>\n",
       "</table>\n",
       "</div>"
      ]
     },
     "metadata": {},
     "execution_count": 31
    }
   ],
   "metadata": {}
  },
  {
   "cell_type": "code",
   "execution_count": 32,
   "source": [
    "df.to_csv('data/rain_blog.txt')"
   ],
   "outputs": [],
   "metadata": {}
  },
  {
   "cell_type": "code",
   "execution_count": 33,
   "source": [
    "driver.close()"
   ],
   "outputs": [],
   "metadata": {}
  }
 ],
 "metadata": {
  "orig_nbformat": 4,
  "language_info": {
   "name": "python",
   "version": "3.8.10",
   "mimetype": "text/x-python",
   "codemirror_mode": {
    "name": "ipython",
    "version": 3
   },
   "pygments_lexer": "ipython3",
   "nbconvert_exporter": "python",
   "file_extension": ".py"
  },
  "kernelspec": {
   "name": "python3",
   "display_name": "Python 3.8.10 64-bit ('base': conda)"
  },
  "interpreter": {
   "hash": "c1a05ed345091bee797b668f6f648f413480db32111f45bdb6bea126ffa783e7"
  }
 },
 "nbformat": 4,
 "nbformat_minor": 2
}
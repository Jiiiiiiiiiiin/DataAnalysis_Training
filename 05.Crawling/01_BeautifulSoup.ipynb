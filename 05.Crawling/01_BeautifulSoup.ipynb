{
  "nbformat": 4,
  "nbformat_minor": 0,
  "metadata": {
    "colab": {
      "name": "01_BeautifulSoup.ipynb",
      "provenance": [],
      "collapsed_sections": []
    },
    "kernelspec": {
      "name": "python3",
      "display_name": "Python 3"
    },
    "language_info": {
      "name": "python"
    }
  },
  "cells": [
    {
      "cell_type": "markdown",
      "metadata": {
        "id": "p6GTHTu5S8gQ"
      },
      "source": [
        "# Beautiful Soup 사용법"
      ]
    },
    {
      "cell_type": "markdown",
      "metadata": {
        "id": "tcW2J_dnTHtH"
      },
      "source": [
        "## Local HTML 파일 열기"
      ]
    },
    {
      "cell_type": "code",
      "metadata": {
        "id": "XbcG6_YjW6XN"
      },
      "source": [
        "from bs4 import BeautifulSoup\n",
        "with open('example.html') as fp:\n",
        "  soup = BeautifulSoup(fp, 'html.parser')"
      ],
      "execution_count": 1,
      "outputs": []
    },
    {
      "cell_type": "code",
      "metadata": {
        "colab": {
          "base_uri": "https://localhost:8080/"
        },
        "id": "iHyV4iA1TcsS",
        "outputId": "669fbffc-157e-45e1-e6d1-f2c2bd249b09"
      },
      "source": [
        "soup"
      ],
      "execution_count": 2,
      "outputs": [
        {
          "output_type": "execute_result",
          "data": {
            "text/plain": [
              "<!DOCTYPE html>\n",
              "\n",
              "<html lang=\"en\">\n",
              "<head>\n",
              "<meta charset=\"utf-8\"/>\n",
              "<meta content=\"width=device-width, initial-scale=1.0\" name=\"viewport\"/>\n",
              "<title>Web Crawling Example</title>\n",
              "</head>\n",
              "<body>\n",
              "<div>\n",
              "<p>a</p><p>b</p><p>c</p>\n",
              "</div>\n",
              "<div class=\"ex_class sample\">\n",
              "<p>1</p><p>2</p><p>3</p>\n",
              "</div>\n",
              "<div id=\"ex_id\">\n",
              "<p>X</p><p>Y</p><p>Z</p>\n",
              "</div>\n",
              "<h1>This is a heading.</h1>\n",
              "<p>This is a paragraph.</p>\n",
              "<p>This is another paragraph.</p>\n",
              "<a class=\"a sample\" href=\"www.naver.com\">Naver</a>\n",
              "</body>\n",
              "</html>"
            ]
          },
          "metadata": {
            "tags": []
          },
          "execution_count": 2
        }
      ]
    },
    {
      "cell_type": "markdown",
      "metadata": {
        "id": "08NYGAVVVi_B"
      },
      "source": [
        "### 테그 이용해서 가져오기\n",
        "\n",
        "* find()\n",
        "* find_all()"
      ]
    },
    {
      "cell_type": "code",
      "metadata": {
        "colab": {
          "base_uri": "https://localhost:8080/"
        },
        "id": "BfAnSSuLTd_G",
        "outputId": "aff70965-5b49-4871-f356-432ba361e9e1"
      },
      "source": [
        "# find는 1개만 찾는 메서드\n",
        "first_div = soup.find('div')    \n",
        "first_div"
      ],
      "execution_count": 3,
      "outputs": [
        {
          "output_type": "execute_result",
          "data": {
            "text/plain": [
              "<div>\n",
              "<p>a</p><p>b</p><p>c</p>\n",
              "</div>"
            ]
          },
          "metadata": {
            "tags": []
          },
          "execution_count": 3
        }
      ]
    },
    {
      "cell_type": "code",
      "metadata": {
        "colab": {
          "base_uri": "https://localhost:8080/"
        },
        "id": "DNo8WDgFUQfJ",
        "outputId": "391bb432-9532-4207-e049-a72541925bdc"
      },
      "source": [
        "# find_all - 모두를 찾는 메서드 (list형태로 나옴)\n",
        "all_divs = soup.find_all('div')\n",
        "all_divs"
      ],
      "execution_count": 5,
      "outputs": [
        {
          "output_type": "execute_result",
          "data": {
            "text/plain": [
              "[<div>\n",
              " <p>a</p><p>b</p><p>c</p>\n",
              " </div>, <div class=\"ex_class sample\">\n",
              " <p>1</p><p>2</p><p>3</p>\n",
              " </div>, <div id=\"ex_id\">\n",
              " <p>X</p><p>Y</p><p>Z</p>\n",
              " </div>]"
            ]
          },
          "metadata": {
            "tags": []
          },
          "execution_count": 5
        }
      ]
    },
    {
      "cell_type": "code",
      "metadata": {
        "colab": {
          "base_uri": "https://localhost:8080/"
        },
        "id": "VoWxIfQmUdQ7",
        "outputId": "238f4ce2-1f56-4ea8-b0a8-35be4a86426d"
      },
      "source": [
        "len(all_divs)"
      ],
      "execution_count": 6,
      "outputs": [
        {
          "output_type": "execute_result",
          "data": {
            "text/plain": [
              "3"
            ]
          },
          "metadata": {
            "tags": []
          },
          "execution_count": 6
        }
      ]
    },
    {
      "cell_type": "code",
      "metadata": {
        "colab": {
          "base_uri": "https://localhost:8080/"
        },
        "id": "6lLa0BGUUpg5",
        "outputId": "1e21641f-3eb2-4799-a62f-2b39700d48bf"
      },
      "source": [
        "for div in all_divs:\n",
        "  print(div)\n"
      ],
      "execution_count": 7,
      "outputs": [
        {
          "output_type": "stream",
          "text": [
            "<div>\n",
            "<p>a</p><p>b</p><p>c</p>\n",
            "</div>\n",
            "<div class=\"ex_class sample\">\n",
            "<p>1</p><p>2</p><p>3</p>\n",
            "</div>\n",
            "<div id=\"ex_id\">\n",
            "<p>X</p><p>Y</p><p>Z</p>\n",
            "</div>\n"
          ],
          "name": "stdout"
        }
      ]
    },
    {
      "cell_type": "code",
      "metadata": {
        "colab": {
          "base_uri": "https://localhost:8080/"
        },
        "id": "HCs-w9-bVHX4",
        "outputId": "65915c35-d6d7-48cd-fd3c-1e5fef0d631d"
      },
      "source": [
        "all_ps = soup.find_all('p')\n",
        "len(all_ps)\n",
        "for p in all_ps:\n",
        "  print(p)"
      ],
      "execution_count": 9,
      "outputs": [
        {
          "output_type": "stream",
          "text": [
            "<p>a</p>\n",
            "<p>b</p>\n",
            "<p>c</p>\n",
            "<p>1</p>\n",
            "<p>2</p>\n",
            "<p>3</p>\n",
            "<p>X</p>\n",
            "<p>Y</p>\n",
            "<p>Z</p>\n",
            "<p>This is a paragraph.</p>\n",
            "<p>This is another paragraph.</p>\n"
          ],
          "name": "stdout"
        }
      ]
    },
    {
      "cell_type": "code",
      "metadata": {
        "colab": {
          "base_uri": "https://localhost:8080/"
        },
        "id": "Gj8JVLzkVNsi",
        "outputId": "8cad2588-fb96-4013-dab8-d2e0c8d32cd1"
      },
      "source": [
        "len(all_ps)"
      ],
      "execution_count": 10,
      "outputs": [
        {
          "output_type": "execute_result",
          "data": {
            "text/plain": [
              "11"
            ]
          },
          "metadata": {
            "tags": []
          },
          "execution_count": 10
        }
      ]
    },
    {
      "cell_type": "markdown",
      "metadata": {
        "id": "P8B5B9XTVrr6"
      },
      "source": [
        "### 태그와 속성을 이용해서 가져오기\n",
        "\n",
        "* CSS Selector : select one(하나만 찾기)\n",
        "  * soup.select_one()\n",
        "  * #은 id\n",
        "  * .은 클래스\n",
        "* CSS Selector : 모두 찾기 (list로 결과가 나옴)\n",
        "  * ex_id _divs = soup.select()\n",
        "* 결과 가져오기"
      ]
    },
    {
      "cell_type": "code",
      "metadata": {
        "colab": {
          "base_uri": "https://localhost:8080/"
        },
        "id": "Mkse2AqoVcNR",
        "outputId": "dd54e562-7cfc-41a2-e508-5abac7e0cede"
      },
      "source": [
        "# #은 id\n",
        "ex_id_div = soup.select_one('#ex_id')\n",
        "ex_id_div\n"
      ],
      "execution_count": 11,
      "outputs": [
        {
          "output_type": "execute_result",
          "data": {
            "text/plain": [
              "<div id=\"ex_id\">\n",
              "<p>X</p><p>Y</p><p>Z</p>\n",
              "</div>"
            ]
          },
          "metadata": {
            "tags": []
          },
          "execution_count": 11
        }
      ]
    },
    {
      "cell_type": "code",
      "metadata": {
        "colab": {
          "base_uri": "https://localhost:8080/"
        },
        "id": "LWkDMVWrWWs3",
        "outputId": "83074a5c-2c08-402d-e5a0-926c37e1cd02"
      },
      "source": [
        "# .은 class\n",
        "ex_sample_div = soup.select_one('.ex_class.sample')\n",
        "ex_sample_div"
      ],
      "execution_count": 12,
      "outputs": [
        {
          "output_type": "execute_result",
          "data": {
            "text/plain": [
              "<div class=\"ex_class sample\">\n",
              "<p>1</p><p>2</p><p>3</p>\n",
              "</div>"
            ]
          },
          "metadata": {
            "tags": []
          },
          "execution_count": 12
        }
      ]
    },
    {
      "cell_type": "code",
      "metadata": {
        "colab": {
          "base_uri": "https://localhost:8080/"
        },
        "id": "0fvmpdf0WhAN",
        "outputId": "46bda2e9-cd2f-4980-87bc-4f068011fbe6"
      },
      "source": [
        "# divs 결과는 리스트로\n",
        "ex_id_divs = soup.select('#ex_id')\n",
        "ex_id_divs"
      ],
      "execution_count": 13,
      "outputs": [
        {
          "output_type": "execute_result",
          "data": {
            "text/plain": [
              "[<div id=\"ex_id\">\n",
              " <p>X</p><p>Y</p><p>Z</p>\n",
              " </div>]"
            ]
          },
          "metadata": {
            "tags": []
          },
          "execution_count": 13
        }
      ]
    },
    {
      "cell_type": "code",
      "metadata": {
        "colab": {
          "base_uri": "https://localhost:8080/"
        },
        "id": "d-GbYxUQW9-V",
        "outputId": "7048cdca-8d9f-4132-d119-a11c4f6a3851"
      },
      "source": [
        "# divs 결과는 리스트로 (class)\n",
        "sample_divs = soup.select('.sample')\n",
        "sample_divs"
      ],
      "execution_count": 14,
      "outputs": [
        {
          "output_type": "execute_result",
          "data": {
            "text/plain": [
              "[<div class=\"ex_class sample\">\n",
              " <p>1</p><p>2</p><p>3</p>\n",
              " </div>, <a class=\"a sample\" href=\"www.naver.com\">Naver</a>]"
            ]
          },
          "metadata": {
            "tags": []
          },
          "execution_count": 14
        }
      ]
    },
    {
      "cell_type": "markdown",
      "metadata": {
        "id": "dqmyR7VMYNql"
      },
      "source": [
        "#### 결과 가져오기\n",
        "\n",
        "* 제목 가져오기\n",
        "  * get_text()\n",
        "  * .string\n",
        "\n",
        "* 속성값 가져오기\n",
        "  * href\n",
        "\n",
        "* 내용물 가져오기\n",
        "  * 상위값 먼저 찾고 원하는 내용물이 있는 p를 찾는다"
      ]
    },
    {
      "cell_type": "code",
      "metadata": {
        "colab": {
          "base_uri": "https://localhost:8080/",
          "height": 35
        },
        "id": "5eKRUgfkXTV8",
        "outputId": "57e9200b-557c-4062-ca0c-d88717c17f5e"
      },
      "source": [
        "# 결과 가져오기\n",
        "\n",
        "# <a class = \"a sample\" href = \"www.naver.com\">Naver</a>\n",
        "result = soup.select_one('.a.sample').get_text()\n",
        "result"
      ],
      "execution_count": 15,
      "outputs": [
        {
          "output_type": "execute_result",
          "data": {
            "application/vnd.google.colaboratory.intrinsic+json": {
              "type": "string"
            },
            "text/plain": [
              "'Naver'"
            ]
          },
          "metadata": {
            "tags": []
          },
          "execution_count": 15
        }
      ]
    },
    {
      "cell_type": "code",
      "metadata": {
        "colab": {
          "base_uri": "https://localhost:8080/",
          "height": 35
        },
        "id": "m1agUrnoYFim",
        "outputId": "22653727-bf29-4026-f24b-d4d714c731c0"
      },
      "source": [
        "# get_text() 와 .string 동일\n",
        "result = soup.select_one('.a.sample').string\n",
        "result"
      ],
      "execution_count": 16,
      "outputs": [
        {
          "output_type": "execute_result",
          "data": {
            "application/vnd.google.colaboratory.intrinsic+json": {
              "type": "string"
            },
            "text/plain": [
              "'Naver'"
            ]
          },
          "metadata": {
            "tags": []
          },
          "execution_count": 16
        }
      ]
    },
    {
      "cell_type": "code",
      "metadata": {
        "colab": {
          "base_uri": "https://localhost:8080/",
          "height": 35
        },
        "id": "qt6O_oVbYGwj",
        "outputId": "e376a672-b6e0-49e4-f7cd-d76ed0268c88"
      },
      "source": [
        "#속성값\n",
        "href = soup.select_one('.a.sample')['href']\n",
        "href"
      ],
      "execution_count": 18,
      "outputs": [
        {
          "output_type": "execute_result",
          "data": {
            "application/vnd.google.colaboratory.intrinsic+json": {
              "type": "string"
            },
            "text/plain": [
              "'www.naver.com'"
            ]
          },
          "metadata": {
            "tags": []
          },
          "execution_count": 18
        }
      ]
    },
    {
      "cell_type": "markdown",
      "metadata": {
        "id": "zqb_g0c-Y9zX"
      },
      "source": [
        "##### id = \"ex_id\" 인 div에서 p 내용물 가져오기"
      ]
    },
    {
      "cell_type": "code",
      "metadata": {
        "colab": {
          "base_uri": "https://localhost:8080/"
        },
        "id": "GYxh--rrYaD6",
        "outputId": "90137d7c-64fc-46b3-e1b6-c5bf1e019b7a"
      },
      "source": [
        "'''\n",
        "<div id=\"ex_id\">\n",
        "        <p>X</p><p>Y</p><p>Z</p>\n",
        "    </div>\n",
        "'''\n",
        "ex_id_div = soup.select_one('#ex_id')\n",
        "all_ps = ex_id_div.select('p')\n",
        "for p in all_ps:\n",
        "  print(p.string)"
      ],
      "execution_count": 23,
      "outputs": [
        {
          "output_type": "stream",
          "text": [
            "X\n",
            "Y\n",
            "Z\n"
          ],
          "name": "stdout"
        }
      ]
    }
  ]
}
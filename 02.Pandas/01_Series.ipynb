{
  "nbformat": 4,
  "nbformat_minor": 0,
  "metadata": {
    "colab": {
      "name": "01_Series.ipynb",
      "provenance": [],
      "collapsed_sections": []
    },
    "kernelspec": {
      "name": "python3",
      "display_name": "Python 3"
    },
    "language_info": {
      "name": "python"
    }
  },
  "cells": [
    {
      "cell_type": "markdown",
      "metadata": {
        "id": "gT3_p1EurFzx"
      },
      "source": [
        "# Pandas Series"
      ]
    },
    {
      "cell_type": "code",
      "metadata": {
        "id": "SlfqcKQLrAqk"
      },
      "source": [
        "# 판다스 패키지 임포트\n",
        "import pandas as pd \n",
        "import numpy as np       #넘파이도 같이 따라다님\n"
      ],
      "execution_count": 4,
      "outputs": []
    },
    {
      "cell_type": "markdown",
      "metadata": {
        "id": "2bavPPJFrduf"
      },
      "source": [
        "## 시리즈 생성"
      ]
    },
    {
      "cell_type": "markdown",
      "metadata": {
        "id": "VEa98OAkr8NY"
      },
      "source": [
        "*  Series 클래스는 넘파이에서 제공하는 1차원 배열과 비슷\n",
        "* 각 데이터의 의미를 표시하는 인덱스(index)\n",
        "* 데이터 자체는 값(value)\n",
        "* 시리즈 = 값(value) + 인덱스(index)  값은 넘파이의 값이 들어감.\n",
        "* s = pd.Series(value) value에는 여러가지 종류 들어갈 수 있음 데이터 타입은 ㅇ도일"
      ]
    },
    {
      "cell_type": "code",
      "metadata": {
        "colab": {
          "base_uri": "https://localhost:8080/"
        },
        "id": "fNL7Mq5Trf8h",
        "outputId": "d2171e2a-b9e8-4b11-a159-e51008126b56"
      },
      "source": [
        "s = pd.Series([9904312,3448737,2890451,2465052])\n",
        "s"
      ],
      "execution_count": 5,
      "outputs": [
        {
          "output_type": "execute_result",
          "data": {
            "text/plain": [
              "0    9904312\n",
              "1    3448737\n",
              "2    2890451\n",
              "3    2465052\n",
              "dtype: int64"
            ]
          },
          "metadata": {
            "tags": []
          },
          "execution_count": 5
        }
      ]
    },
    {
      "cell_type": "code",
      "metadata": {
        "colab": {
          "base_uri": "https://localhost:8080/"
        },
        "id": "gY2Lfq0trz7J",
        "outputId": "703f2e31-9ae7-4dae-cf6f-3f6b7841514f"
      },
      "source": [
        "s = pd.Series([9904312,3448737,2890451,2465052],\n",
        "              index = ['서울', '부산', '인천', '대구'], dtype=np.int32)\n",
        "s"
      ],
      "execution_count": 11,
      "outputs": [
        {
          "output_type": "execute_result",
          "data": {
            "text/plain": [
              "서울    9904312\n",
              "부산    3448737\n",
              "인천    2890451\n",
              "대구    2465052\n",
              "dtype: int32"
            ]
          },
          "metadata": {
            "tags": []
          },
          "execution_count": 11
        }
      ]
    },
    {
      "cell_type": "code",
      "metadata": {
        "colab": {
          "base_uri": "https://localhost:8080/"
        },
        "id": "9-62uceDxJZQ",
        "outputId": "aab3fb23-f116-413b-c099-cc883bb515df"
      },
      "source": [
        "# 시리즈의 값 - 넘파이 배열\n",
        "s.values"
      ],
      "execution_count": 12,
      "outputs": [
        {
          "output_type": "execute_result",
          "data": {
            "text/plain": [
              "array([9904312, 3448737, 2890451, 2465052], dtype=int32)"
            ]
          },
          "metadata": {
            "tags": []
          },
          "execution_count": 12
        }
      ]
    },
    {
      "cell_type": "code",
      "metadata": {
        "colab": {
          "base_uri": "https://localhost:8080/"
        },
        "id": "hD_dn-L4xihi",
        "outputId": "5c869faa-dbfa-4766-e52c-0abc594aefc7"
      },
      "source": [
        "# 시리즈의 인덱스\n",
        "s.index"
      ],
      "execution_count": 13,
      "outputs": [
        {
          "output_type": "execute_result",
          "data": {
            "text/plain": [
              "Index(['서울', '부산', '인천', '대구'], dtype='object')"
            ]
          },
          "metadata": {
            "tags": []
          },
          "execution_count": 13
        }
      ]
    },
    {
      "cell_type": "code",
      "metadata": {
        "colab": {
          "base_uri": "https://localhost:8080/"
        },
        "id": "QMSRorCAxvFi",
        "outputId": "52fa3500-128d-4e19-984c-f61325444175"
      },
      "source": [
        "s.name = '인구'\n",
        "s.index.name = '도시'\n",
        "s"
      ],
      "execution_count": 15,
      "outputs": [
        {
          "output_type": "execute_result",
          "data": {
            "text/plain": [
              "도시\n",
              "서울    9904312\n",
              "부산    3448737\n",
              "인천    2890451\n",
              "대구    2465052\n",
              "Name: 인구, dtype: int32"
            ]
          },
          "metadata": {
            "tags": []
          },
          "execution_count": 15
        }
      ]
    },
    {
      "cell_type": "markdown",
      "metadata": {
        "id": "_zYxEnHHyPps"
      },
      "source": [
        "## 시리즈의 연산"
      ]
    },
    {
      "cell_type": "code",
      "metadata": {
        "colab": {
          "base_uri": "https://localhost:8080/"
        },
        "id": "YwR5ZFmIx3F4",
        "outputId": "b2957430-3146-485e-e679-ab6b4285334b"
      },
      "source": [
        "s / 1000000"
      ],
      "execution_count": 16,
      "outputs": [
        {
          "output_type": "execute_result",
          "data": {
            "text/plain": [
              "도시\n",
              "서울    9.904312\n",
              "부산    3.448737\n",
              "인천    2.890451\n",
              "대구    2.465052\n",
              "Name: 인구, dtype: float64"
            ]
          },
          "metadata": {
            "tags": []
          },
          "execution_count": 16
        }
      ]
    },
    {
      "cell_type": "markdown",
      "metadata": {
        "id": "ETZMwYdcybKr"
      },
      "source": [
        "## 시리즈 인덱싱"
      ]
    },
    {
      "cell_type": "code",
      "metadata": {
        "colab": {
          "base_uri": "https://localhost:8080/"
        },
        "id": "8udbb_PsySLM",
        "outputId": "fc24398d-ea39-4f4d-c013-d88903387663"
      },
      "source": [
        "s[1], s['부산'] , s.부산"
      ],
      "execution_count": 28,
      "outputs": [
        {
          "output_type": "execute_result",
          "data": {
            "text/plain": [
              "(3448737, 3448737, 3448737)"
            ]
          },
          "metadata": {
            "tags": []
          },
          "execution_count": 28
        }
      ]
    },
    {
      "cell_type": "code",
      "metadata": {
        "colab": {
          "base_uri": "https://localhost:8080/"
        },
        "id": "sKm3BVnJzEP8",
        "outputId": "6f7a62f8-993d-4c32-8a32-c2b1a901593a"
      },
      "source": [
        "# fancy indexing\n",
        "s[[0,3,1]]"
      ],
      "execution_count": 18,
      "outputs": [
        {
          "output_type": "execute_result",
          "data": {
            "text/plain": [
              "도시\n",
              "서울    9904312\n",
              "대구    2465052\n",
              "부산    3448737\n",
              "Name: 인구, dtype: int32"
            ]
          },
          "metadata": {
            "tags": []
          },
          "execution_count": 18
        }
      ]
    },
    {
      "cell_type": "code",
      "metadata": {
        "colab": {
          "base_uri": "https://localhost:8080/"
        },
        "id": "hH2V15vNzY5L",
        "outputId": "fd5a43e5-dfee-4a33-8563-db02296d6dab"
      },
      "source": [
        "s[['서울', '대구', '부산']]"
      ],
      "execution_count": 19,
      "outputs": [
        {
          "output_type": "execute_result",
          "data": {
            "text/plain": [
              "도시\n",
              "서울    9904312\n",
              "대구    2465052\n",
              "부산    3448737\n",
              "Name: 인구, dtype: int32"
            ]
          },
          "metadata": {
            "tags": []
          },
          "execution_count": 19
        }
      ]
    },
    {
      "cell_type": "code",
      "metadata": {
        "colab": {
          "base_uri": "https://localhost:8080/"
        },
        "id": "TkbJAB4Ezclh",
        "outputId": "87ad0e5c-0220-444d-abf6-207670858c5c"
      },
      "source": [
        "# slicing\n",
        "s[1:3]"
      ],
      "execution_count": 20,
      "outputs": [
        {
          "output_type": "execute_result",
          "data": {
            "text/plain": [
              "도시\n",
              "부산    3448737\n",
              "인천    2890451\n",
              "Name: 인구, dtype: int32"
            ]
          },
          "metadata": {
            "tags": []
          },
          "execution_count": 20
        }
      ]
    },
    {
      "cell_type": "code",
      "metadata": {
        "colab": {
          "base_uri": "https://localhost:8080/"
        },
        "id": "CHHsNNbqzw_j",
        "outputId": "dea7e3d8-5503-4b17-ef06-6b5342cac580"
      },
      "source": [
        "# 인덱스로 슬라이싱의 경우 [a:b] b값은 포함하지 않지만 문자인덱스로 슬라이싱하면 문자인덱스도 포함. 대구!\n",
        "s['부산' : '대구']"
      ],
      "execution_count": 22,
      "outputs": [
        {
          "output_type": "execute_result",
          "data": {
            "text/plain": [
              "도시\n",
              "부산    3448737\n",
              "인천    2890451\n",
              "대구    2465052\n",
              "Name: 인구, dtype: int32"
            ]
          },
          "metadata": {
            "tags": []
          },
          "execution_count": 22
        }
      ]
    },
    {
      "cell_type": "code",
      "metadata": {
        "colab": {
          "base_uri": "https://localhost:8080/",
          "height": 322
        },
        "id": "D1qd2eDkz5zb",
        "outputId": "0ea29112-fcc2-4a54-bd9b-9fb1c3b451c9"
      },
      "source": [
        "# 필터링\n",
        "s[2500000 < s < 3000000]"
      ],
      "execution_count": 23,
      "outputs": [
        {
          "output_type": "error",
          "ename": "ValueError",
          "evalue": "ignored",
          "traceback": [
            "\u001b[0;31m---------------------------------------------------------------------------\u001b[0m",
            "\u001b[0;31mValueError\u001b[0m                                Traceback (most recent call last)",
            "\u001b[0;32m<ipython-input-23-6053e7f02ced>\u001b[0m in \u001b[0;36m<module>\u001b[0;34m()\u001b[0m\n\u001b[1;32m      1\u001b[0m \u001b[0;31m# 필터링\u001b[0m\u001b[0;34m\u001b[0m\u001b[0;34m\u001b[0m\u001b[0;34m\u001b[0m\u001b[0m\n\u001b[0;32m----> 2\u001b[0;31m \u001b[0ms\u001b[0m\u001b[0;34m[\u001b[0m\u001b[0;36m2500000\u001b[0m \u001b[0;34m<\u001b[0m \u001b[0ms\u001b[0m \u001b[0;34m<\u001b[0m \u001b[0;36m3000000\u001b[0m\u001b[0;34m]\u001b[0m\u001b[0;34m\u001b[0m\u001b[0;34m\u001b[0m\u001b[0m\n\u001b[0m",
            "\u001b[0;32m/usr/local/lib/python3.7/dist-packages/pandas/core/generic.py\u001b[0m in \u001b[0;36m__nonzero__\u001b[0;34m(self)\u001b[0m\n\u001b[1;32m   1328\u001b[0m     \u001b[0;32mdef\u001b[0m \u001b[0m__nonzero__\u001b[0m\u001b[0;34m(\u001b[0m\u001b[0mself\u001b[0m\u001b[0;34m)\u001b[0m\u001b[0;34m:\u001b[0m\u001b[0;34m\u001b[0m\u001b[0;34m\u001b[0m\u001b[0m\n\u001b[1;32m   1329\u001b[0m         raise ValueError(\n\u001b[0;32m-> 1330\u001b[0;31m             \u001b[0;34mf\"The truth value of a {type(self).__name__} is ambiguous. \"\u001b[0m\u001b[0;34m\u001b[0m\u001b[0;34m\u001b[0m\u001b[0m\n\u001b[0m\u001b[1;32m   1331\u001b[0m             \u001b[0;34m\"Use a.empty, a.bool(), a.item(), a.any() or a.all().\"\u001b[0m\u001b[0;34m\u001b[0m\u001b[0;34m\u001b[0m\u001b[0m\n\u001b[1;32m   1332\u001b[0m         )\n",
            "\u001b[0;31mValueError\u001b[0m: The truth value of a Series is ambiguous. Use a.empty, a.bool(), a.item(), a.any() or a.all()."
          ]
        }
      ]
    },
    {
      "cell_type": "code",
      "metadata": {
        "colab": {
          "base_uri": "https://localhost:8080/"
        },
        "id": "M-ZRkZ7G0jBV",
        "outputId": "026d8489-0961-436c-cab5-527267431397"
      },
      "source": [
        "s[(2500000 < s) & (s < 3000000)]   # Logical and : s[<s<] 는 작용하지 않고, 나눠서 &로 묶어줘야 함 "
      ],
      "execution_count": 24,
      "outputs": [
        {
          "output_type": "execute_result",
          "data": {
            "text/plain": [
              "도시\n",
              "인천    2890451\n",
              "Name: 인구, dtype: int32"
            ]
          },
          "metadata": {
            "tags": []
          },
          "execution_count": 24
        }
      ]
    },
    {
      "cell_type": "code",
      "metadata": {
        "colab": {
          "base_uri": "https://localhost:8080/"
        },
        "id": "8VPhbLSe0qjK",
        "outputId": "efea508b-c4b8-4af5-ad2b-593fac35a588"
      },
      "source": [
        "s[(25e5 > s) | (s > 4e6)]"
      ],
      "execution_count": 26,
      "outputs": [
        {
          "output_type": "execute_result",
          "data": {
            "text/plain": [
              "도시\n",
              "서울    9904312\n",
              "대구    2465052\n",
              "Name: 인구, dtype: int32"
            ]
          },
          "metadata": {
            "tags": []
          },
          "execution_count": 26
        }
      ]
    },
    {
      "cell_type": "code",
      "metadata": {
        "colab": {
          "base_uri": "https://localhost:8080/"
        },
        "id": "qb4YzF9P1ZZH",
        "outputId": "54d41e56-8ecd-4847-9b22-cc9583091238"
      },
      "source": [
        "s.부산"
      ],
      "execution_count": 27,
      "outputs": [
        {
          "output_type": "execute_result",
          "data": {
            "text/plain": [
              "3448737"
            ]
          },
          "metadata": {
            "tags": []
          },
          "execution_count": 27
        }
      ]
    },
    {
      "cell_type": "markdown",
      "metadata": {
        "id": "z4g7hdLX2Xwd"
      },
      "source": [
        "## 시리즈와 딕셔너리\n",
        "\n",
        "* 시리즈 객체는 라벨 값에 의해 인덱싱이 가능하므로 실질적으로 인덱스 라벨 값을 키(key)로 가지는 딕셔너리 자료형과 같다고 볼 수 있다. 따라서 딕셔너리 자료형에서 제공하는 in 연산도 가능하고 items 메서드를 사용하면 for 루프를 통해 각 원소의 키(key)와 값(value)을 접근할 수도 있다.\n",
        "* \"서울\" in s  # 인덱스 라벨 중에 서울이 있는가\n",
        "* 권장하는 방법은 아님 sorting이 안됨"
      ]
    },
    {
      "cell_type": "code",
      "metadata": {
        "colab": {
          "base_uri": "https://localhost:8080/"
        },
        "id": "EpYLGYnU24LB",
        "outputId": "eec43c4f-9bb8-4b0f-de89-456a9b6422e2"
      },
      "source": [
        "'서울' in s, '대전' in s"
      ],
      "execution_count": 29,
      "outputs": [
        {
          "output_type": "execute_result",
          "data": {
            "text/plain": [
              "(True, False)"
            ]
          },
          "metadata": {
            "tags": []
          },
          "execution_count": 29
        }
      ]
    },
    {
      "cell_type": "code",
      "metadata": {
        "colab": {
          "base_uri": "https://localhost:8080/"
        },
        "id": "1zhZy7m61vNw",
        "outputId": "8f2cd31f-1045-4233-f994-2a208a9e77a0"
      },
      "source": [
        "s2 = pd.Series({\"서울\":9999999, \"부산\":3333333, \"인천\":2666666, \"대전\":1499999})\n",
        "s2"
      ],
      "execution_count": 31,
      "outputs": [
        {
          "output_type": "execute_result",
          "data": {
            "text/plain": [
              "서울    9999999\n",
              "부산    3333333\n",
              "인천    2666666\n",
              "대전    1499999\n",
              "dtype: int64"
            ]
          },
          "metadata": {
            "tags": []
          },
          "execution_count": 31
        }
      ]
    },
    {
      "cell_type": "markdown",
      "metadata": {
        "id": "VQh8Gfm33XQx"
      },
      "source": [
        "## 인덱스 기반 연산"
      ]
    },
    {
      "cell_type": "code",
      "metadata": {
        "colab": {
          "base_uri": "https://localhost:8080/"
        },
        "id": "bBxjnYgR27qf",
        "outputId": "905e9eab-f90c-4467-9341-24b71ae31202"
      },
      "source": [
        "ds = s - s2\n",
        "ds"
      ],
      "execution_count": 32,
      "outputs": [
        {
          "output_type": "execute_result",
          "data": {
            "text/plain": [
              "대구         NaN\n",
              "대전         NaN\n",
              "부산    115404.0\n",
              "서울    -95687.0\n",
              "인천    223785.0\n",
              "dtype: float64"
            ]
          },
          "metadata": {
            "tags": []
          },
          "execution_count": 32
        }
      ]
    },
    {
      "cell_type": "code",
      "metadata": {
        "colab": {
          "base_uri": "https://localhost:8080/"
        },
        "id": "TYQxfnZk3hUQ",
        "outputId": "f4070f3f-3309-4b8d-b327-fd99d5c2a7fd"
      },
      "source": [
        "s.values - s2.values"
      ],
      "execution_count": 33,
      "outputs": [
        {
          "output_type": "execute_result",
          "data": {
            "text/plain": [
              "array([-95687, 115404, 223785, 965053])"
            ]
          },
          "metadata": {
            "tags": []
          },
          "execution_count": 33
        }
      ]
    },
    {
      "cell_type": "code",
      "metadata": {
        "colab": {
          "base_uri": "https://localhost:8080/"
        },
        "id": "YcDPnj4o3yq0",
        "outputId": "565e8a36-d0a5-4749-c029-e6ca6505916e"
      },
      "source": [
        "rs = (s - s2) / s2 * 100\n",
        "rs = rs[rs.notnull()]\n",
        "rs"
      ],
      "execution_count": 34,
      "outputs": [
        {
          "output_type": "execute_result",
          "data": {
            "text/plain": [
              "부산    3.46212\n",
              "서울   -0.95687\n",
              "인천    8.39194\n",
              "dtype: float64"
            ]
          },
          "metadata": {
            "tags": []
          },
          "execution_count": 34
        }
      ]
    },
    {
      "cell_type": "code",
      "metadata": {
        "colab": {
          "base_uri": "https://localhost:8080/"
        },
        "id": "Lvq1Ut504Dem",
        "outputId": "c46de751-5f93-4022-c40f-e4c5897c00c3"
      },
      "source": [
        "rs = (s - s2) / s2 * 100\n",
        "rs"
      ],
      "execution_count": 37,
      "outputs": [
        {
          "output_type": "execute_result",
          "data": {
            "text/plain": [
              "대구        NaN\n",
              "대전        NaN\n",
              "부산    3.46212\n",
              "서울   -0.95687\n",
              "인천    8.39194\n",
              "dtype: float64"
            ]
          },
          "metadata": {
            "tags": []
          },
          "execution_count": 37
        }
      ]
    },
    {
      "cell_type": "code",
      "metadata": {
        "colab": {
          "base_uri": "https://localhost:8080/"
        },
        "id": "z4W9gF1l4Goi",
        "outputId": "e90ccc4c-2b8a-42b6-b136-b233059f6783"
      },
      "source": [
        "rs.notnull()"
      ],
      "execution_count": 38,
      "outputs": [
        {
          "output_type": "execute_result",
          "data": {
            "text/plain": [
              "대구    False\n",
              "대전    False\n",
              "부산     True\n",
              "서울     True\n",
              "인천     True\n",
              "dtype: bool"
            ]
          },
          "metadata": {
            "tags": []
          },
          "execution_count": 38
        }
      ]
    },
    {
      "cell_type": "code",
      "metadata": {
        "colab": {
          "base_uri": "https://localhost:8080/"
        },
        "id": "Yvbixbp14J9b",
        "outputId": "c232f54e-ad40-4bbd-8ac7-a4b84de86bb8"
      },
      "source": [
        "rs = rs[rs.notnull()]\n",
        "rs"
      ],
      "execution_count": 41,
      "outputs": [
        {
          "output_type": "execute_result",
          "data": {
            "text/plain": [
              "부산    1.63000\n",
              "서울   -0.95687\n",
              "인천    8.39194\n",
              "dtype: float64"
            ]
          },
          "metadata": {
            "tags": []
          },
          "execution_count": 41
        }
      ]
    },
    {
      "cell_type": "markdown",
      "metadata": {
        "id": "Hlwo2kw74Sqc"
      },
      "source": [
        "## 데이터의 갱신, 추가, 삭제"
      ]
    },
    {
      "cell_type": "code",
      "metadata": {
        "colab": {
          "base_uri": "https://localhost:8080/"
        },
        "id": "vjTWocHc4hmg",
        "outputId": "7ecd62a0-778a-483b-b6f0-0879e97c3e45"
      },
      "source": [
        "# update\n",
        "rs['부산'] = 1.63\n",
        "rs"
      ],
      "execution_count": 42,
      "outputs": [
        {
          "output_type": "execute_result",
          "data": {
            "text/plain": [
              "부산    1.63000\n",
              "서울   -0.95687\n",
              "인천    8.39194\n",
              "dtype: float64"
            ]
          },
          "metadata": {
            "tags": []
          },
          "execution_count": 42
        }
      ]
    },
    {
      "cell_type": "code",
      "metadata": {
        "colab": {
          "base_uri": "https://localhost:8080/"
        },
        "id": "H-M3t7vN4jcS",
        "outputId": "845f38ae-285d-43f1-c3e5-a11cb1d5165c"
      },
      "source": [
        "# add\n",
        "rs['대구'] = 1.41\n",
        "rs"
      ],
      "execution_count": 43,
      "outputs": [
        {
          "output_type": "execute_result",
          "data": {
            "text/plain": [
              "부산    1.63000\n",
              "서울   -0.95687\n",
              "인천    8.39194\n",
              "대구    1.41000\n",
              "dtype: float64"
            ]
          },
          "metadata": {
            "tags": []
          },
          "execution_count": 43
        }
      ]
    },
    {
      "cell_type": "code",
      "metadata": {
        "colab": {
          "base_uri": "https://localhost:8080/"
        },
        "id": "em8jJmka4z7w",
        "outputId": "89b9d940-f2fd-49d2-8b82-26c7a49f391e"
      },
      "source": [
        "# delete\n",
        "del rs['부산']\n",
        "rs"
      ],
      "execution_count": 44,
      "outputs": [
        {
          "output_type": "execute_result",
          "data": {
            "text/plain": [
              "서울   -0.95687\n",
              "인천    8.39194\n",
              "대구    1.41000\n",
              "dtype: float64"
            ]
          },
          "metadata": {
            "tags": []
          },
          "execution_count": 44
        }
      ]
    }
  ]
}
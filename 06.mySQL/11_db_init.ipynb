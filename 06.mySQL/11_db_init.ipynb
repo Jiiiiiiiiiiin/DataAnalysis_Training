{
  "nbformat": 4,
  "nbformat_minor": 0,
  "metadata": {
    "colab": {
      "name": "11_db_init.ipynb",
      "provenance": [],
      "collapsed_sections": []
    },
    "kernelspec": {
      "name": "python3",
      "display_name": "Python 3"
    },
    "language_info": {
      "name": "python"
    }
  },
  "cells": [
    {
      "cell_type": "markdown",
      "metadata": {
        "id": "CfWIaPeQMhUW"
      },
      "source": [
        "DB 초기화 프로그램"
      ]
    },
    {
      "cell_type": "code",
      "metadata": {
        "colab": {
          "resources": {
            "http://localhost:8080/nbextensions/google.colab/files.js": {
              "data": "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",
              "ok": true,
              "headers": [
                [
                  "content-type",
                  "application/javascript"
                ]
              ],
              "status": 200,
              "status_text": ""
            }
          },
          "base_uri": "https://localhost:8080/",
          "height": 76
        },
        "id": "b4xgPhxxMfka",
        "outputId": "6927bc5e-6798-496c-a093-e285b1197c2b"
      },
      "source": [
        "!pip install pymysql > /dev/null\n",
        "\n",
        "from google.colab import files\n",
        "uploaded = files.upload()\n",
        "filename = list(uploaded.keys())[0]"
      ],
      "execution_count": 15,
      "outputs": [
        {
          "output_type": "display_data",
          "data": {
            "text/html": [
              "\n",
              "     <input type=\"file\" id=\"files-c487f153-6b35-4db8-b80a-256051849a30\" name=\"files[]\" multiple disabled\n",
              "        style=\"border:none\" />\n",
              "     <output id=\"result-c487f153-6b35-4db8-b80a-256051849a30\">\n",
              "      Upload widget is only available when the cell has been executed in the\n",
              "      current browser session. Please rerun this cell to enable.\n",
              "      </output>\n",
              "      <script src=\"/nbextensions/google.colab/files.js\"></script> "
            ],
            "text/plain": [
              "<IPython.core.display.HTML object>"
            ]
          },
          "metadata": {}
        },
        {
          "output_type": "stream",
          "text": [
            "Saving mysql.json to mysql.json\n"
          ],
          "name": "stdout"
        }
      ]
    },
    {
      "cell_type": "code",
      "metadata": {
        "id": "c1XROzWqPJqQ"
      },
      "source": [
        "import json, pymysql\n",
        "with open(filename) as fp:\n",
        "    config_str = fp.read()\n",
        "config = json.loads(config_str)\n",
        "\n",
        "conn = pymysql.connect(**config)    # dictionary unpacking"
      ],
      "execution_count": 17,
      "outputs": []
    },
    {
      "cell_type": "code",
      "metadata": {
        "id": "ILG9uXnyPdb8"
      },
      "source": [
        "import random\n",
        "random.seed(20201)"
      ],
      "execution_count": 18,
      "outputs": []
    },
    {
      "cell_type": "markdown",
      "metadata": {
        "id": "azosTXNRPnz9"
      },
      "source": [
        "product 테이블"
      ]
    },
    {
      "cell_type": "code",
      "metadata": {
        "id": "CGOGzKIdPmyR"
      },
      "source": [
        "# products 테이블 생성 sql\n",
        "sql = \"\"\"\n",
        "    CREATE TABLE if NOT exists products(\n",
        "        pid INT PRIMARY KEY AUTO_INCREMENT,\n",
        "        pname VARCHAR(40) NOT NULL,\n",
        "        pprice INT UNSIGNED NOT NULL,\n",
        "        pcategory VARCHAR(20) NOT NULL,\n",
        "        pcost INT UNSIGNED NOT NULL\n",
        "    ) AUTO_INCREMENT=11;\n",
        "\"\"\""
      ],
      "execution_count": 19,
      "outputs": []
    },
    {
      "cell_type": "code",
      "metadata": {
        "colab": {
          "base_uri": "https://localhost:8080/"
        },
        "id": "YyGfEANUQrjP",
        "outputId": "8d27dc9c-d723-42ef-897b-174e9ab0c148"
      },
      "source": [
        "cur = conn.cursor()\n",
        "cur.execute(sql)"
      ],
      "execution_count": 20,
      "outputs": [
        {
          "output_type": "execute_result",
          "data": {
            "text/plain": [
              "0"
            ]
          },
          "metadata": {},
          "execution_count": 20
        }
      ]
    },
    {
      "cell_type": "code",
      "metadata": {
        "id": "UeDkFZy1Qs2h"
      },
      "source": [
        "camping_goods = ['텐트','타프','천막','침낭','매트','랜턴','취사용품',\n",
        "                 '아이스박스','보조배터리','워터저그']\n",
        "car_goods = ['블랙박스','내비게이션','하이패스','후방카메라','자동차TV',\n",
        "             '카오디오','핸즈프리','헤드유닛','방진매트','윤활방청제']\n",
        "health_goods = ['러닝머신','웨이트기구','복근운동기구','벨트','거꾸리',\n",
        "                '훌라후프','트램펄린','스텝퍼','로잉머신','헬스사이클']\n",
        "category_names = ['캠핑용품','자동차용품','헬스용품']"
      ],
      "execution_count": 21,
      "outputs": []
    },
    {
      "cell_type": "code",
      "metadata": {
        "colab": {
          "base_uri": "https://localhost:8080/"
        },
        "id": "aOk2tFKZQuI6",
        "outputId": "89b184b2-a8a8-4bdf-f63f-24ec4ce86d86"
      },
      "source": [
        "for item in camping_goods:\n",
        "    price = random.randint(100,999) * 100\n",
        "    rate = random.randint(85, 98)\n",
        "    cost = int(round(price * rate / 1000) * 10)\n",
        "    print(item, price, '캠핑', cost)\n"
      ],
      "execution_count": 22,
      "outputs": [
        {
          "output_type": "stream",
          "text": [
            "텐트 15000 캠핑 13050\n",
            "타프 56900 캠핑 53490\n",
            "천막 44900 캠핑 38160\n",
            "침낭 44800 캠핑 40770\n",
            "매트 34800 캠핑 31320\n",
            "랜턴 27200 캠핑 23940\n",
            "취사용품 55800 캠핑 53010\n",
            "아이스박스 97800 캠핑 95840\n",
            "보조배터리 83900 캠핑 79700\n",
            "워터저그 53500 캠핑 52430\n"
          ],
          "name": "stdout"
        }
      ]
    },
    {
      "cell_type": "code",
      "metadata": {
        "id": "2JN9xho0Qv6U"
      },
      "source": [
        "sql = \"insert into products(pname,pprice,pcategory,pcost) values(%s,%s,%s,%s);\"\n",
        "for i, item_list in enumerate([camping_goods, car_goods, health_goods]):\n",
        "    for item in item_list:\n",
        "        price = random.randint(100,999) * 100\n",
        "        rate = random.randint(85, 98)\n",
        "        cost = int(round(price * rate / 1000) * 10)\n",
        "        cur.execute(sql, (item,price,category_names[i],cost))\n",
        "conn.commit()"
      ],
      "execution_count": 23,
      "outputs": []
    },
    {
      "cell_type": "markdown",
      "metadata": {
        "id": "pcAisy2Bdef-"
      },
      "source": [
        "sales 테이블\n",
        "\n",
        "sales( sid , sdate , scompany , spid , sunit"
      ]
    },
    {
      "cell_type": "code",
      "metadata": {
        "id": "lDO9YEGLddpd"
      },
      "source": [
        "sql = \"\"\"\n",
        "    CREATE TABLE if NOT EXISTS sales(\n",
        "        sid INT PRIMARY KEY AUTO_INCREMENT,\n",
        "        sdate DATE NOT NULL,\n",
        "        scompany VARCHAR(20) NOT NULL,\n",
        "        spid INT NOT NULL,\n",
        "        sunit INT NOT NULL,\n",
        "        FOREIGN KEY(spid) REFERENCES products(pid)\n",
        "    ) AUTO_INCREMENT=101;\n",
        "\"\"\""
      ],
      "execution_count": 24,
      "outputs": []
    },
    {
      "cell_type": "code",
      "metadata": {
        "colab": {
          "base_uri": "https://localhost:8080/"
        },
        "id": "MXjKEr4MeBpk",
        "outputId": "849f3e24-38e7-4e10-f06c-400947f1f4d8"
      },
      "source": [
        "cur = conn.cursor()\n",
        "cur.execute(sql)"
      ],
      "execution_count": 25,
      "outputs": [
        {
          "output_type": "execute_result",
          "data": {
            "text/plain": [
              "0"
            ]
          },
          "metadata": {},
          "execution_count": 25
        }
      ]
    },
    {
      "cell_type": "code",
      "metadata": {
        "colab": {
          "base_uri": "https://localhost:8080/"
        },
        "id": "WOMvqjjgeHEO",
        "outputId": "70105827-e2c3-4319-b348-f04bb2015231"
      },
      "source": [
        "calendar = {1:31,2:29,3:31,4:30,5:31,6:30,7:31,8:31,9:30,10:31,11:30,12:31}\n",
        "company_list = ['멀티캠퍼스','한경아카데미','표준협회','생산성본부','테크브루']\n",
        "for i in range(10):\n",
        "    date = f'2020-1-{random.randint(1,31)}'\n",
        "    company = company_list[random.randint(0,4)]\n",
        "    pid = random.randint(11,40)\n",
        "    unit = random.randint(1,20)\n",
        "    print(date,company,pid,unit)"
      ],
      "execution_count": 75,
      "outputs": [
        {
          "output_type": "stream",
          "text": [
            "2020-1-13 생산성본부 39 10\n",
            "2020-1-27 테크브루 23 6\n",
            "2020-1-21 한경아카데미 34 7\n",
            "2020-1-24 멀티캠퍼스 31 11\n",
            "2020-1-22 멀티캠퍼스 19 1\n",
            "2020-1-6 표준협회 12 10\n",
            "2020-1-2 표준협회 18 8\n",
            "2020-1-3 생산성본부 26 5\n",
            "2020-1-20 멀티캠퍼스 27 18\n",
            "2020-1-16 생산성본부 39 14\n"
          ],
          "name": "stdout"
        }
      ]
    },
    {
      "cell_type": "code",
      "metadata": {
        "id": "b-8lHxkkykAq"
      },
      "source": [
        "sql = \"insert into sales values(default,%s,%s,%s,%s);\"\n",
        "for month, day in calendar.items():\n",
        "    for i in range(10):\n",
        "        date = f'2020-{month}-{random.randint(1,day)}'\n",
        "        company = company_list[random.randint(0,4)]\n",
        "        pid = random.randint(11,40)\n",
        "        unit = random.randint(1,20)\n",
        "        cur.execute(sql, (date, company, pid, unit))\n",
        "conn.commit()"
      ],
      "execution_count": 76,
      "outputs": []
    },
    {
      "cell_type": "code",
      "metadata": {
        "id": "NMQ1zZwG-pRM"
      },
      "source": [
        "sql = \"\"\"\n",
        "    CREATE VIEW sales_book as\n",
        "        SELECT sid, sdate, scompany, pid, pname, pcategory, pprice, sunit, pcost,\n",
        "            pprice*sunit AS revenue, (pprice-pcost)*sunit AS profit\n",
        "        FROM sales\n",
        "        JOIN products\n",
        "        ON sales.spid = products.pid\n",
        "        ORDER BY sdate;\n",
        "\"\"\""
      ],
      "execution_count": 77,
      "outputs": []
    },
    {
      "cell_type": "code",
      "metadata": {
        "colab": {
          "base_uri": "https://localhost:8080/"
        },
        "id": "wXE7igo9-uSX",
        "outputId": "f7e00a5a-09ed-4628-b41d-af35d1e9cb8d"
      },
      "source": [
        "cur = conn.cursor()\n",
        "cur.execute(sql)"
      ],
      "execution_count": 78,
      "outputs": [
        {
          "output_type": "execute_result",
          "data": {
            "text/plain": [
              "0"
            ]
          },
          "metadata": {},
          "execution_count": 78
        }
      ]
    },
    {
      "cell_type": "code",
      "metadata": {
        "id": "3fCklMhW-v_i"
      },
      "source": [
        "sql = 'select * from sales_book'\n",
        "cur.execute(sql)\n",
        "results = cur.fetchall()"
      ],
      "execution_count": 79,
      "outputs": []
    },
    {
      "cell_type": "code",
      "metadata": {
        "colab": {
          "base_uri": "https://localhost:8080/",
          "height": 204
        },
        "id": "Oi3pyhQu-1uU",
        "outputId": "903a2e60-61a0-43f7-ad06-b8d25ac278da"
      },
      "source": [
        "import pandas as pd\n",
        "\n",
        "df = pd.DataFrame(results)\n",
        "df.head()"
      ],
      "execution_count": 80,
      "outputs": [
        {
          "output_type": "execute_result",
          "data": {
            "text/html": [
              "<div>\n",
              "<style scoped>\n",
              "    .dataframe tbody tr th:only-of-type {\n",
              "        vertical-align: middle;\n",
              "    }\n",
              "\n",
              "    .dataframe tbody tr th {\n",
              "        vertical-align: top;\n",
              "    }\n",
              "\n",
              "    .dataframe thead th {\n",
              "        text-align: right;\n",
              "    }\n",
              "</style>\n",
              "<table border=\"1\" class=\"dataframe\">\n",
              "  <thead>\n",
              "    <tr style=\"text-align: right;\">\n",
              "      <th></th>\n",
              "      <th>0</th>\n",
              "      <th>1</th>\n",
              "      <th>2</th>\n",
              "      <th>3</th>\n",
              "      <th>4</th>\n",
              "      <th>5</th>\n",
              "      <th>6</th>\n",
              "      <th>7</th>\n",
              "      <th>8</th>\n",
              "      <th>9</th>\n",
              "      <th>10</th>\n",
              "    </tr>\n",
              "  </thead>\n",
              "  <tbody>\n",
              "    <tr>\n",
              "      <th>0</th>\n",
              "      <td>107</td>\n",
              "      <td>2020-01-01</td>\n",
              "      <td>표준협회</td>\n",
              "      <td>11</td>\n",
              "      <td>텐트</td>\n",
              "      <td>캠핑용품</td>\n",
              "      <td>30300</td>\n",
              "      <td>18</td>\n",
              "      <td>27270</td>\n",
              "      <td>545400</td>\n",
              "      <td>54540</td>\n",
              "    </tr>\n",
              "    <tr>\n",
              "      <th>1</th>\n",
              "      <td>103</td>\n",
              "      <td>2020-01-03</td>\n",
              "      <td>한경아카데미</td>\n",
              "      <td>22</td>\n",
              "      <td>내비게이션</td>\n",
              "      <td>자동차용품</td>\n",
              "      <td>48200</td>\n",
              "      <td>9</td>\n",
              "      <td>46270</td>\n",
              "      <td>433800</td>\n",
              "      <td>17370</td>\n",
              "    </tr>\n",
              "    <tr>\n",
              "      <th>2</th>\n",
              "      <td>104</td>\n",
              "      <td>2020-01-04</td>\n",
              "      <td>테크브루</td>\n",
              "      <td>29</td>\n",
              "      <td>방진매트</td>\n",
              "      <td>자동차용품</td>\n",
              "      <td>23800</td>\n",
              "      <td>15</td>\n",
              "      <td>22370</td>\n",
              "      <td>357000</td>\n",
              "      <td>21450</td>\n",
              "    </tr>\n",
              "    <tr>\n",
              "      <th>3</th>\n",
              "      <td>108</td>\n",
              "      <td>2020-01-05</td>\n",
              "      <td>표준협회</td>\n",
              "      <td>16</td>\n",
              "      <td>랜턴</td>\n",
              "      <td>캠핑용품</td>\n",
              "      <td>90400</td>\n",
              "      <td>10</td>\n",
              "      <td>88590</td>\n",
              "      <td>904000</td>\n",
              "      <td>18100</td>\n",
              "    </tr>\n",
              "    <tr>\n",
              "      <th>4</th>\n",
              "      <td>102</td>\n",
              "      <td>2020-01-13</td>\n",
              "      <td>멀티캠퍼스</td>\n",
              "      <td>16</td>\n",
              "      <td>랜턴</td>\n",
              "      <td>캠핑용품</td>\n",
              "      <td>90400</td>\n",
              "      <td>10</td>\n",
              "      <td>88590</td>\n",
              "      <td>904000</td>\n",
              "      <td>18100</td>\n",
              "    </tr>\n",
              "  </tbody>\n",
              "</table>\n",
              "</div>"
            ],
            "text/plain": [
              "    0           1       2   3      4      5      6   7      8       9      10\n",
              "0  107  2020-01-01    표준협회  11     텐트   캠핑용품  30300  18  27270  545400  54540\n",
              "1  103  2020-01-03  한경아카데미  22  내비게이션  자동차용품  48200   9  46270  433800  17370\n",
              "2  104  2020-01-04    테크브루  29   방진매트  자동차용품  23800  15  22370  357000  21450\n",
              "3  108  2020-01-05    표준협회  16     랜턴   캠핑용품  90400  10  88590  904000  18100\n",
              "4  102  2020-01-13   멀티캠퍼스  16     랜턴   캠핑용품  90400  10  88590  904000  18100"
            ]
          },
          "metadata": {},
          "execution_count": 80
        }
      ]
    },
    {
      "cell_type": "code",
      "metadata": {
        "id": "tPeZdaK2-3zt"
      },
      "source": [
        "del df[3]\n",
        "del df[0]"
      ],
      "execution_count": 81,
      "outputs": []
    },
    {
      "cell_type": "code",
      "metadata": {
        "colab": {
          "base_uri": "https://localhost:8080/",
          "height": 204
        },
        "id": "dZwGVBKG-6Tg",
        "outputId": "a2d2a097-a4e4-4e20-e76d-2e2ac86785b5"
      },
      "source": [
        "df.columns = ['판매일자','판매처','상품명','카테고리','단가','수량','원가','매출액','이익']\n",
        "df.head()"
      ],
      "execution_count": 82,
      "outputs": [
        {
          "output_type": "execute_result",
          "data": {
            "text/html": [
              "<div>\n",
              "<style scoped>\n",
              "    .dataframe tbody tr th:only-of-type {\n",
              "        vertical-align: middle;\n",
              "    }\n",
              "\n",
              "    .dataframe tbody tr th {\n",
              "        vertical-align: top;\n",
              "    }\n",
              "\n",
              "    .dataframe thead th {\n",
              "        text-align: right;\n",
              "    }\n",
              "</style>\n",
              "<table border=\"1\" class=\"dataframe\">\n",
              "  <thead>\n",
              "    <tr style=\"text-align: right;\">\n",
              "      <th></th>\n",
              "      <th>판매일자</th>\n",
              "      <th>판매처</th>\n",
              "      <th>상품명</th>\n",
              "      <th>카테고리</th>\n",
              "      <th>단가</th>\n",
              "      <th>수량</th>\n",
              "      <th>원가</th>\n",
              "      <th>매출액</th>\n",
              "      <th>이익</th>\n",
              "    </tr>\n",
              "  </thead>\n",
              "  <tbody>\n",
              "    <tr>\n",
              "      <th>0</th>\n",
              "      <td>2020-01-01</td>\n",
              "      <td>표준협회</td>\n",
              "      <td>텐트</td>\n",
              "      <td>캠핑용품</td>\n",
              "      <td>30300</td>\n",
              "      <td>18</td>\n",
              "      <td>27270</td>\n",
              "      <td>545400</td>\n",
              "      <td>54540</td>\n",
              "    </tr>\n",
              "    <tr>\n",
              "      <th>1</th>\n",
              "      <td>2020-01-03</td>\n",
              "      <td>한경아카데미</td>\n",
              "      <td>내비게이션</td>\n",
              "      <td>자동차용품</td>\n",
              "      <td>48200</td>\n",
              "      <td>9</td>\n",
              "      <td>46270</td>\n",
              "      <td>433800</td>\n",
              "      <td>17370</td>\n",
              "    </tr>\n",
              "    <tr>\n",
              "      <th>2</th>\n",
              "      <td>2020-01-04</td>\n",
              "      <td>테크브루</td>\n",
              "      <td>방진매트</td>\n",
              "      <td>자동차용품</td>\n",
              "      <td>23800</td>\n",
              "      <td>15</td>\n",
              "      <td>22370</td>\n",
              "      <td>357000</td>\n",
              "      <td>21450</td>\n",
              "    </tr>\n",
              "    <tr>\n",
              "      <th>3</th>\n",
              "      <td>2020-01-05</td>\n",
              "      <td>표준협회</td>\n",
              "      <td>랜턴</td>\n",
              "      <td>캠핑용품</td>\n",
              "      <td>90400</td>\n",
              "      <td>10</td>\n",
              "      <td>88590</td>\n",
              "      <td>904000</td>\n",
              "      <td>18100</td>\n",
              "    </tr>\n",
              "    <tr>\n",
              "      <th>4</th>\n",
              "      <td>2020-01-13</td>\n",
              "      <td>멀티캠퍼스</td>\n",
              "      <td>랜턴</td>\n",
              "      <td>캠핑용품</td>\n",
              "      <td>90400</td>\n",
              "      <td>10</td>\n",
              "      <td>88590</td>\n",
              "      <td>904000</td>\n",
              "      <td>18100</td>\n",
              "    </tr>\n",
              "  </tbody>\n",
              "</table>\n",
              "</div>"
            ],
            "text/plain": [
              "         판매일자     판매처    상품명   카테고리     단가  수량     원가     매출액     이익\n",
              "0  2020-01-01    표준협회     텐트   캠핑용품  30300  18  27270  545400  54540\n",
              "1  2020-01-03  한경아카데미  내비게이션  자동차용품  48200   9  46270  433800  17370\n",
              "2  2020-01-04    테크브루   방진매트  자동차용품  23800  15  22370  357000  21450\n",
              "3  2020-01-05    표준협회     랜턴   캠핑용품  90400  10  88590  904000  18100\n",
              "4  2020-01-13   멀티캠퍼스     랜턴   캠핑용품  90400  10  88590  904000  18100"
            ]
          },
          "metadata": {},
          "execution_count": 82
        }
      ]
    },
    {
      "cell_type": "code",
      "metadata": {
        "id": "SnOJPF_P-70p"
      },
      "source": [
        "df.to_csv('sales_book.csv', index=False)"
      ],
      "execution_count": 83,
      "outputs": []
    },
    {
      "cell_type": "code",
      "metadata": {
        "id": "_X6U55gU_Gs_"
      },
      "source": [
        "cur.close()\n",
        "conn.close()"
      ],
      "execution_count": 84,
      "outputs": []
    }
  ]
}
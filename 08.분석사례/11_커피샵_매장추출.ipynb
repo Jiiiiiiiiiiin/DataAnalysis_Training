{
  "nbformat": 4,
  "nbformat_minor": 0,
  "metadata": {
    "colab": {
      "name": "11_커피샵_매장추출.ipynb",
      "provenance": [],
      "collapsed_sections": []
    },
    "kernelspec": {
      "name": "python3",
      "display_name": "Python 3"
    },
    "language_info": {
      "name": "python"
    }
  },
  "cells": [
    {
      "cell_type": "markdown",
      "metadata": {
        "id": "W9TI21A3nKdR"
      },
      "source": [
        "# 커피샵 전처리 - 매장추출 (Part 1)\n",
        "\n",
        "* 상권업종중분류코드 Q12\n",
        "* 상호명 지점명 시도명 시군구 도로명주소\n",
        "\n",
        "* (스타벅스 + 커피빈) / (이디야 + 뺵다방)\n",
        "\n",
        "* 서울데이터 - 스타벅스, 커피빈, 이디야, 빽다방 추출 후 전국 데이터를 추출 후 저장"
      ]
    },
    {
      "cell_type": "code",
      "metadata": {
        "id": "e1yP8-mApxR3"
      },
      "source": [
        "import numpy as np\n",
        "import pandas as pd\n",
        "import warnings \n",
        "warnings.filterwarnings('ignore')"
      ],
      "execution_count": 1,
      "outputs": []
    },
    {
      "cell_type": "code",
      "metadata": {
        "colab": {
          "base_uri": "https://localhost:8080/"
        },
        "id": "sf9PFu0bnGzU",
        "outputId": "dac1a6cd-a108-478e-8ee2-df549f41a5e8"
      },
      "source": [
        "from google.colab import drive\n",
        "drive.mount('/content/mnt')"
      ],
      "execution_count": 2,
      "outputs": [
        {
          "output_type": "stream",
          "name": "stdout",
          "text": [
            "Drive already mounted at /content/mnt; to attempt to forcibly remount, call drive.mount(\"/content/mnt\", force_remount=True).\n"
          ]
        }
      ]
    },
    {
      "cell_type": "code",
      "metadata": {
        "id": "XWIKwIXFnl_J"
      },
      "source": [
        "data_folder = '/content/mnt/MyDrive/data/소상공인시장진흥공단'"
      ],
      "execution_count": 3,
      "outputs": []
    },
    {
      "cell_type": "code",
      "metadata": {
        "colab": {
          "base_uri": "https://localhost:8080/"
        },
        "id": "aQj6MCKJoH6B",
        "outputId": "f33ae574-fe69-4fe1-b67d-cccaccbe94dc"
      },
      "source": [
        "from glob import glob\n",
        "for file in glob(f'{data_folder}/*.csv'):\n",
        "  print(file)"
      ],
      "execution_count": 4,
      "outputs": [
        {
          "output_type": "stream",
          "name": "stdout",
          "text": [
            "/content/mnt/MyDrive/data/소상공인시장진흥공단/소상공인시장진흥공단_상가(상권)정보_강원_202106.csv\n",
            "/content/mnt/MyDrive/data/소상공인시장진흥공단/소상공인시장진흥공단_상가(상권)정보_경남_202106.csv\n",
            "/content/mnt/MyDrive/data/소상공인시장진흥공단/소상공인시장진흥공단_상가(상권)정보_경기_202106.csv\n",
            "/content/mnt/MyDrive/data/소상공인시장진흥공단/소상공인시장진흥공단_상가(상권)정보_경북_202106.csv\n",
            "/content/mnt/MyDrive/data/소상공인시장진흥공단/소상공인시장진흥공단_상가(상권)정보_광주_202106.csv\n",
            "/content/mnt/MyDrive/data/소상공인시장진흥공단/소상공인시장진흥공단_상가(상권)정보_대구_202106.csv\n",
            "/content/mnt/MyDrive/data/소상공인시장진흥공단/소상공인시장진흥공단_상가(상권)정보_대전_202106.csv\n",
            "/content/mnt/MyDrive/data/소상공인시장진흥공단/소상공인시장진흥공단_상가(상권)정보_부산_202106.csv\n",
            "/content/mnt/MyDrive/data/소상공인시장진흥공단/소상공인시장진흥공단_상가(상권)정보_세종_202106.csv\n",
            "/content/mnt/MyDrive/data/소상공인시장진흥공단/소상공인시장진흥공단_상가(상권)정보_서울_202106.csv\n",
            "/content/mnt/MyDrive/data/소상공인시장진흥공단/소상공인시장진흥공단_상가(상권)정보_전남_202106.csv\n",
            "/content/mnt/MyDrive/data/소상공인시장진흥공단/소상공인시장진흥공단_상가(상권)정보_인천_202106.csv\n",
            "/content/mnt/MyDrive/data/소상공인시장진흥공단/소상공인시장진흥공단_상가(상권)정보_울산_202106.csv\n",
            "/content/mnt/MyDrive/data/소상공인시장진흥공단/소상공인시장진흥공단_상가(상권)정보_제주_202106.csv\n",
            "/content/mnt/MyDrive/data/소상공인시장진흥공단/소상공인시장진흥공단_상가(상권)정보_전북_202106.csv\n",
            "/content/mnt/MyDrive/data/소상공인시장진흥공단/소상공인시장진흥공단_상가(상권)정보_충남_202106.csv\n",
            "/content/mnt/MyDrive/data/소상공인시장진흥공단/소상공인시장진흥공단_상가(상권)정보_충북_202106.csv\n",
            "/content/mnt/MyDrive/data/소상공인시장진흥공단/소상공인_매장추출.csv\n"
          ]
        }
      ]
    },
    {
      "cell_type": "code",
      "metadata": {
        "colab": {
          "base_uri": "https://localhost:8080/",
          "height": 471
        },
        "id": "NAMGi1gYoWr6",
        "outputId": "9f44e4ee-a54e-4ebb-d654-a6a968549d16"
      },
      "source": [
        "df_seoul = pd.read_csv(f'{data_folder}/소상공인시장진흥공단_상가(상권)정보_서울_202106.csv', encoding='utf-8')\n",
        "print(df_seoul.shape)\n",
        "df_seoul.head(1)"
      ],
      "execution_count": 61,
      "outputs": [
        {
          "output_type": "stream",
          "name": "stdout",
          "text": [
            "(316078, 39)\n"
          ]
        },
        {
          "output_type": "execute_result",
          "data": {
            "text/html": [
              "<div>\n",
              "<style scoped>\n",
              "    .dataframe tbody tr th:only-of-type {\n",
              "        vertical-align: middle;\n",
              "    }\n",
              "\n",
              "    .dataframe tbody tr th {\n",
              "        vertical-align: top;\n",
              "    }\n",
              "\n",
              "    .dataframe thead th {\n",
              "        text-align: right;\n",
              "    }\n",
              "</style>\n",
              "<table border=\"1\" class=\"dataframe\">\n",
              "  <thead>\n",
              "    <tr style=\"text-align: right;\">\n",
              "      <th></th>\n",
              "      <th>상가업소번호</th>\n",
              "      <th>상호명</th>\n",
              "      <th>지점명</th>\n",
              "      <th>상권업종대분류코드</th>\n",
              "      <th>상권업종대분류명</th>\n",
              "      <th>상권업종중분류코드</th>\n",
              "      <th>상권업종중분류명</th>\n",
              "      <th>상권업종소분류코드</th>\n",
              "      <th>상권업종소분류명</th>\n",
              "      <th>표준산업분류코드</th>\n",
              "      <th>표준산업분류명</th>\n",
              "      <th>시도코드</th>\n",
              "      <th>시도명</th>\n",
              "      <th>시군구코드</th>\n",
              "      <th>시군구명</th>\n",
              "      <th>행정동코드</th>\n",
              "      <th>행정동명</th>\n",
              "      <th>법정동코드</th>\n",
              "      <th>법정동명</th>\n",
              "      <th>지번코드</th>\n",
              "      <th>대지구분코드</th>\n",
              "      <th>대지구분명</th>\n",
              "      <th>지번본번지</th>\n",
              "      <th>지번부번지</th>\n",
              "      <th>지번주소</th>\n",
              "      <th>도로명코드</th>\n",
              "      <th>도로명</th>\n",
              "      <th>건물본번지</th>\n",
              "      <th>건물부번지</th>\n",
              "      <th>건물관리번호</th>\n",
              "      <th>건물명</th>\n",
              "      <th>도로명주소</th>\n",
              "      <th>구우편번호</th>\n",
              "      <th>신우편번호</th>\n",
              "      <th>동정보</th>\n",
              "      <th>층정보</th>\n",
              "      <th>호정보</th>\n",
              "      <th>경도</th>\n",
              "      <th>위도</th>\n",
              "    </tr>\n",
              "  </thead>\n",
              "  <tbody>\n",
              "    <tr>\n",
              "      <th>0</th>\n",
              "      <td>17174175</td>\n",
              "      <td>비지트</td>\n",
              "      <td>NaN</td>\n",
              "      <td>Q</td>\n",
              "      <td>음식</td>\n",
              "      <td>Q01</td>\n",
              "      <td>한식</td>\n",
              "      <td>Q01A01</td>\n",
              "      <td>한식/백반/한정식</td>\n",
              "      <td>I56111</td>\n",
              "      <td>한식 음식점업</td>\n",
              "      <td>11</td>\n",
              "      <td>서울특별시</td>\n",
              "      <td>11650</td>\n",
              "      <td>서초구</td>\n",
              "      <td>1165062100</td>\n",
              "      <td>방배4동</td>\n",
              "      <td>1165010100</td>\n",
              "      <td>방배동</td>\n",
              "      <td>1165010100208540018</td>\n",
              "      <td>1</td>\n",
              "      <td>대지</td>\n",
              "      <td>854</td>\n",
              "      <td>18.0</td>\n",
              "      <td>서울특별시 서초구 방배동 854-18</td>\n",
              "      <td>116504163117</td>\n",
              "      <td>서울특별시 서초구 동광로18길</td>\n",
              "      <td>82</td>\n",
              "      <td>NaN</td>\n",
              "      <td>1165010100108540018009586</td>\n",
              "      <td>상랑의빌딩</td>\n",
              "      <td>서울특별시 서초구 동광로18길 82</td>\n",
              "      <td>137837</td>\n",
              "      <td>6572.0</td>\n",
              "      <td>NaN</td>\n",
              "      <td>1</td>\n",
              "      <td>NaN</td>\n",
              "      <td>126.991394</td>\n",
              "      <td>37.488375</td>\n",
              "    </tr>\n",
              "  </tbody>\n",
              "</table>\n",
              "</div>"
            ],
            "text/plain": [
              "     상가업소번호  상호명  지점명 상권업종대분류코드 상권업종대분류명  ...  동정보 층정보 호정보          경도         위도\n",
              "0  17174175  비지트  NaN         Q       음식  ...  NaN   1 NaN  126.991394  37.488375\n",
              "\n",
              "[1 rows x 39 columns]"
            ]
          },
          "metadata": {},
          "execution_count": 61
        }
      ]
    },
    {
      "cell_type": "code",
      "metadata": {
        "colab": {
          "base_uri": "https://localhost:8080/",
          "height": 670
        },
        "id": "v1XA0YSBp4Nl",
        "outputId": "baaf3636-3a83-4162-b752-a215a372eb6c"
      },
      "source": [
        "df_seoul = df_seoul[df_seoul.상권업종중분류코드 == 'Q12']\n",
        "print(df_seoul.shape)\n",
        "df_seoul.head(2)"
      ],
      "execution_count": 62,
      "outputs": [
        {
          "output_type": "stream",
          "name": "stdout",
          "text": [
            "(20832, 39)\n"
          ]
        },
        {
          "output_type": "execute_result",
          "data": {
            "text/html": [
              "<div>\n",
              "<style scoped>\n",
              "    .dataframe tbody tr th:only-of-type {\n",
              "        vertical-align: middle;\n",
              "    }\n",
              "\n",
              "    .dataframe tbody tr th {\n",
              "        vertical-align: top;\n",
              "    }\n",
              "\n",
              "    .dataframe thead th {\n",
              "        text-align: right;\n",
              "    }\n",
              "</style>\n",
              "<table border=\"1\" class=\"dataframe\">\n",
              "  <thead>\n",
              "    <tr style=\"text-align: right;\">\n",
              "      <th></th>\n",
              "      <th>상가업소번호</th>\n",
              "      <th>상호명</th>\n",
              "      <th>지점명</th>\n",
              "      <th>상권업종대분류코드</th>\n",
              "      <th>상권업종대분류명</th>\n",
              "      <th>상권업종중분류코드</th>\n",
              "      <th>상권업종중분류명</th>\n",
              "      <th>상권업종소분류코드</th>\n",
              "      <th>상권업종소분류명</th>\n",
              "      <th>표준산업분류코드</th>\n",
              "      <th>표준산업분류명</th>\n",
              "      <th>시도코드</th>\n",
              "      <th>시도명</th>\n",
              "      <th>시군구코드</th>\n",
              "      <th>시군구명</th>\n",
              "      <th>행정동코드</th>\n",
              "      <th>행정동명</th>\n",
              "      <th>법정동코드</th>\n",
              "      <th>법정동명</th>\n",
              "      <th>지번코드</th>\n",
              "      <th>대지구분코드</th>\n",
              "      <th>대지구분명</th>\n",
              "      <th>지번본번지</th>\n",
              "      <th>지번부번지</th>\n",
              "      <th>지번주소</th>\n",
              "      <th>도로명코드</th>\n",
              "      <th>도로명</th>\n",
              "      <th>건물본번지</th>\n",
              "      <th>건물부번지</th>\n",
              "      <th>건물관리번호</th>\n",
              "      <th>건물명</th>\n",
              "      <th>도로명주소</th>\n",
              "      <th>구우편번호</th>\n",
              "      <th>신우편번호</th>\n",
              "      <th>동정보</th>\n",
              "      <th>층정보</th>\n",
              "      <th>호정보</th>\n",
              "      <th>경도</th>\n",
              "      <th>위도</th>\n",
              "    </tr>\n",
              "  </thead>\n",
              "  <tbody>\n",
              "    <tr>\n",
              "      <th>28</th>\n",
              "      <td>20659878</td>\n",
              "      <td>커피빈</td>\n",
              "      <td>코리아대학로대명거리점</td>\n",
              "      <td>Q</td>\n",
              "      <td>음식</td>\n",
              "      <td>Q12</td>\n",
              "      <td>커피점/카페</td>\n",
              "      <td>Q12A01</td>\n",
              "      <td>커피전문점/카페/다방</td>\n",
              "      <td>I56220</td>\n",
              "      <td>비알콜 음료점업</td>\n",
              "      <td>11</td>\n",
              "      <td>서울특별시</td>\n",
              "      <td>11110</td>\n",
              "      <td>종로구</td>\n",
              "      <td>1111065000</td>\n",
              "      <td>혜화동</td>\n",
              "      <td>1111017200</td>\n",
              "      <td>명륜4가</td>\n",
              "      <td>1111017200200510000</td>\n",
              "      <td>1</td>\n",
              "      <td>대지</td>\n",
              "      <td>51</td>\n",
              "      <td>NaN</td>\n",
              "      <td>서울특별시 종로구 명륜4가 51</td>\n",
              "      <td>111104100032</td>\n",
              "      <td>서울특별시 종로구 대명길</td>\n",
              "      <td>25</td>\n",
              "      <td>NaN</td>\n",
              "      <td>1111017200100510000032165</td>\n",
              "      <td>NaN</td>\n",
              "      <td>서울특별시 종로구 대명길 25</td>\n",
              "      <td>110524</td>\n",
              "      <td>3078.0</td>\n",
              "      <td>NaN</td>\n",
              "      <td>3</td>\n",
              "      <td>NaN</td>\n",
              "      <td>127.000171</td>\n",
              "      <td>37.583149</td>\n",
              "    </tr>\n",
              "    <tr>\n",
              "      <th>111</th>\n",
              "      <td>20676428</td>\n",
              "      <td>요거프레소</td>\n",
              "      <td>쌍문점</td>\n",
              "      <td>Q</td>\n",
              "      <td>음식</td>\n",
              "      <td>Q12</td>\n",
              "      <td>커피점/카페</td>\n",
              "      <td>Q12A01</td>\n",
              "      <td>커피전문점/카페/다방</td>\n",
              "      <td>I56220</td>\n",
              "      <td>비알콜 음료점업</td>\n",
              "      <td>11</td>\n",
              "      <td>서울특별시</td>\n",
              "      <td>11320</td>\n",
              "      <td>도봉구</td>\n",
              "      <td>1132067000</td>\n",
              "      <td>쌍문2동</td>\n",
              "      <td>1132010500</td>\n",
              "      <td>쌍문동</td>\n",
              "      <td>1132010500200200000</td>\n",
              "      <td>1</td>\n",
              "      <td>대지</td>\n",
              "      <td>20</td>\n",
              "      <td>NaN</td>\n",
              "      <td>서울특별시 도봉구 쌍문동 20</td>\n",
              "      <td>113203109001</td>\n",
              "      <td>서울특별시 도봉구 도당로</td>\n",
              "      <td>7</td>\n",
              "      <td>NaN</td>\n",
              "      <td>1132010500100200000006625</td>\n",
              "      <td>NaN</td>\n",
              "      <td>서울특별시 도봉구 도당로 7</td>\n",
              "      <td>132030</td>\n",
              "      <td>1385.0</td>\n",
              "      <td>NaN</td>\n",
              "      <td>1</td>\n",
              "      <td>NaN</td>\n",
              "      <td>127.034746</td>\n",
              "      <td>37.658728</td>\n",
              "    </tr>\n",
              "  </tbody>\n",
              "</table>\n",
              "</div>"
            ],
            "text/plain": [
              "       상가업소번호    상호명          지점명 상권업종대분류코드  ... 층정보 호정보          경도         위도\n",
              "28   20659878    커피빈  코리아대학로대명거리점         Q  ...   3 NaN  127.000171  37.583149\n",
              "111  20676428  요거프레소          쌍문점         Q  ...   1 NaN  127.034746  37.658728\n",
              "\n",
              "[2 rows x 39 columns]"
            ]
          },
          "metadata": {},
          "execution_count": 62
        }
      ]
    },
    {
      "cell_type": "code",
      "metadata": {
        "colab": {
          "base_uri": "https://localhost:8080/"
        },
        "id": "ptqDzrUn7avI",
        "outputId": "907b2184-1052-4e88-8f7d-006103bfaa6d"
      },
      "source": [
        "df_seoul = df_seoul[df_seoul['상호명'].str.contains(\"이디야|커피빈|빽다방|스타벅스\")]\n",
        "df_seoul.shape"
      ],
      "execution_count": 63,
      "outputs": [
        {
          "output_type": "execute_result",
          "data": {
            "text/plain": [
              "(1212, 39)"
            ]
          },
          "metadata": {},
          "execution_count": 63
        }
      ]
    },
    {
      "cell_type": "code",
      "metadata": {
        "colab": {
          "base_uri": "https://localhost:8080/"
        },
        "id": "q1u6Px5RthR9",
        "outputId": "3d02bd24-54c4-419c-c1bc-cf66f60fb451"
      },
      "source": [
        "df_seoul = df_seoul[['상호명', '지점명', '시도명', '시군구명', '도로명주소']]\n",
        "df_seoul.shape"
      ],
      "execution_count": 64,
      "outputs": [
        {
          "output_type": "execute_result",
          "data": {
            "text/plain": [
              "(1212, 5)"
            ]
          },
          "metadata": {},
          "execution_count": 64
        }
      ]
    },
    {
      "cell_type": "code",
      "metadata": {
        "id": "TI-lChL4uFu_"
      },
      "source": [
        "df_kw = pd.read_csv(f'{data_folder}/소상공인시장진흥공단_상가(상권)정보_강원_202106.csv', encoding='utf-8')\n",
        "df_gg = pd.read_csv(f'{data_folder}/소상공인시장진흥공단_상가(상권)정보_경기_202106.csv', encoding='utf-8')\n",
        "df_kn = pd.read_csv(f'{data_folder}/소상공인시장진흥공단_상가(상권)정보_경남_202106.csv', encoding='utf-8')\n",
        "df_kb = pd.read_csv(f'{data_folder}/소상공인시장진흥공단_상가(상권)정보_경북_202106.csv', encoding='utf-8')\n",
        "df_gj = pd.read_csv(f'{data_folder}/소상공인시장진흥공단_상가(상권)정보_광주_202106.csv', encoding='utf-8')\n",
        "df_dg = pd.read_csv(f'{data_folder}/소상공인시장진흥공단_상가(상권)정보_대구_202106.csv', encoding='utf-8')\n",
        "df_dj = pd.read_csv(f'{data_folder}/소상공인시장진흥공단_상가(상권)정보_대전_202106.csv', encoding='utf-8')\n",
        "df_bs = pd.read_csv(f'{data_folder}/소상공인시장진흥공단_상가(상권)정보_부산_202106.csv', encoding='utf-8')\n",
        "df_sj = pd.read_csv(f'{data_folder}/소상공인시장진흥공단_상가(상권)정보_세종_202106.csv', encoding='utf-8')\n",
        "df_us = pd.read_csv(f'{data_folder}/소상공인시장진흥공단_상가(상권)정보_울산_202106.csv', encoding='utf-8')\n",
        "df_ic = pd.read_csv(f'{data_folder}/소상공인시장진흥공단_상가(상권)정보_인천_202106.csv', encoding='utf-8')\n",
        "df_jn = pd.read_csv(f'{data_folder}/소상공인시장진흥공단_상가(상권)정보_전남_202106.csv', encoding='utf-8')\n",
        "df_jb = pd.read_csv(f'{data_folder}/소상공인시장진흥공단_상가(상권)정보_전북_202106.csv', encoding='utf-8')\n",
        "df_jj = pd.read_csv(f'{data_folder}/소상공인시장진흥공단_상가(상권)정보_제주_202106.csv', encoding='utf-8')\n",
        "df_cn = pd.read_csv(f'{data_folder}/소상공인시장진흥공단_상가(상권)정보_충남_202106.csv', encoding='utf-8')\n",
        "df_cb = pd.read_csv(f'{data_folder}/소상공인시장진흥공단_상가(상권)정보_충북_202106.csv', encoding='utf-8')\n"
      ],
      "execution_count": 65,
      "outputs": []
    },
    {
      "cell_type": "code",
      "metadata": {
        "id": "OHUaS1Q7wCo0"
      },
      "source": [
        "df_kw = df_kw[df_kw.상권업종중분류코드 == 'Q12']\n",
        "df_gg = df_gg[df_gg.상권업종중분류코드 == 'Q12']\n",
        "df_kn = df_kn[df_kn.상권업종중분류코드 == 'Q12']\n",
        "df_kb = df_kb[df_kb.상권업종중분류코드 == 'Q12']\n",
        "df_gj = df_gj[df_gj.상권업종중분류코드 == 'Q12']\n",
        "df_dg = df_dg[df_dg.상권업종중분류코드 == 'Q12']\n",
        "df_dj = df_dj[df_dj.상권업종중분류코드 == 'Q12']\n",
        "df_bs = df_bs[df_bs.상권업종중분류코드 == 'Q12']\n",
        "df_sj = df_sj[df_sj.상권업종중분류코드 == 'Q12']\n",
        "df_us = df_us[df_us.상권업종중분류코드 == 'Q12']\n",
        "df_ic = df_ic[df_ic.상권업종중분류코드 == 'Q12']\n",
        "df_jn = df_jn[df_jn.상권업종중분류코드 == 'Q12']\n",
        "df_jb = df_jb[df_jb.상권업종중분류코드 == 'Q12']\n",
        "df_jj = df_jj[df_jj.상권업종중분류코드 == 'Q12']\n",
        "df_cn = df_cn[df_cn.상권업종중분류코드 == 'Q12']\n",
        "df_cb = df_cb[df_cb.상권업종중분류코드 == 'Q12']"
      ],
      "execution_count": 66,
      "outputs": []
    },
    {
      "cell_type": "code",
      "metadata": {
        "id": "U4d4i9k5wwR5"
      },
      "source": [
        "df_kw = df_kw[df_kw['상호명'].str.contains(\"이디야|커피빈|빽다방|스타벅스\")]\n",
        "df_gg = df_gg[df_gg['상호명'].str.contains(\"이디야|커피빈|빽다방|스타벅스\")]\n",
        "df_kn = df_kn[df_kn['상호명'].str.contains(\"이디야|커피빈|빽다방|스타벅스\")]\n",
        "df_kb = df_kb[df_kb['상호명'].str.contains(\"이디야|커피빈|빽다방|스타벅스\")]\n",
        "df_gj = df_gj[df_gj['상호명'].str.contains(\"이디야|커피빈|빽다방|스타벅스\")]\n",
        "df_dg = df_dg[df_dg['상호명'].str.contains(\"이디야|커피빈|빽다방|스타벅스\")]\n",
        "df_dj = df_dj[df_dj['상호명'].str.contains(\"이디야|커피빈|빽다방|스타벅스\")]\n",
        "df_bs = df_bs[df_bs['상호명'].str.contains(\"이디야|커피빈|빽다방|스타벅스\")]\n",
        "df_sj = df_sj[df_sj['상호명'].str.contains(\"이디야|커피빈|빽다방|스타벅스\")]\n",
        "df_us = df_us[df_us['상호명'].str.contains(\"이디야|커피빈|빽다방|스타벅스\")]\n",
        "df_ic = df_ic[df_ic['상호명'].str.contains(\"이디야|커피빈|빽다방|스타벅스\")]\n",
        "df_jn = df_jn[df_jn['상호명'].str.contains(\"이디야|커피빈|빽다방|스타벅스\")]\n",
        "df_jb = df_jb[df_jb['상호명'].str.contains(\"이디야|커피빈|빽다방|스타벅스\")]\n",
        "df_jj = df_jj[df_jj['상호명'].str.contains(\"이디야|커피빈|빽다방|스타벅스\")]\n",
        "df_cn = df_cn[df_cn['상호명'].str.contains(\"이디야|커피빈|빽다방|스타벅스\")]\n",
        "df_cb = df_cb[df_cb['상호명'].str.contains(\"이디야|커피빈|빽다방|스타벅스\")]"
      ],
      "execution_count": 67,
      "outputs": []
    },
    {
      "cell_type": "code",
      "metadata": {
        "id": "0nm4H1DVyYGv"
      },
      "source": [
        "df_kw = df_kw[['상호명', '지점명', '시도명', '시군구명', '도로명주소']]\n",
        "df_gg = df_gg[['상호명', '지점명', '시도명', '시군구명', '도로명주소']]\n",
        "df_kn = df_kn[['상호명', '지점명', '시도명', '시군구명', '도로명주소']]\n",
        "df_kb = df_kb[['상호명', '지점명', '시도명', '시군구명', '도로명주소']]\n",
        "df_gj = df_gj[['상호명', '지점명', '시도명', '시군구명', '도로명주소']]\n",
        "df_dg = df_dg[['상호명', '지점명', '시도명', '시군구명', '도로명주소']]\n",
        "df_dj = df_dj[['상호명', '지점명', '시도명', '시군구명', '도로명주소']]\n",
        "df_bs = df_bs[['상호명', '지점명', '시도명', '시군구명', '도로명주소']]\n",
        "df_sj = df_sj[['상호명', '지점명', '시도명', '시군구명', '도로명주소']]\n",
        "df_us = df_us[['상호명', '지점명', '시도명', '시군구명', '도로명주소']]\n",
        "df_ic = df_ic[['상호명', '지점명', '시도명', '시군구명', '도로명주소']]\n",
        "df_jn = df_jn[['상호명', '지점명', '시도명', '시군구명', '도로명주소']]\n",
        "df_jb = df_jb[['상호명', '지점명', '시도명', '시군구명', '도로명주소']]\n",
        "df_jj = df_jj[['상호명', '지점명', '시도명', '시군구명', '도로명주소']]\n",
        "df_cn = df_cn[['상호명', '지점명', '시도명', '시군구명', '도로명주소']]\n",
        "df_cb = df_cb[['상호명', '지점명', '시도명', '시군구명', '도로명주소']]"
      ],
      "execution_count": 68,
      "outputs": []
    },
    {
      "cell_type": "code",
      "metadata": {
        "colab": {
          "base_uri": "https://localhost:8080/"
        },
        "id": "zFEJNZtfxxso",
        "outputId": "bf54a2ad-34b1-4e05-ca81-2d7ca3c14e0d"
      },
      "source": [
        "print(df_seoul.shape)\n",
        "print(df_kw.shape)\n",
        "print(df_gg.shape)\n",
        "print(df_kn.shape)\n",
        "print(df_kb.shape)\n",
        "print(df_gj.shape)\n",
        "print(df_dg.shape)\n",
        "print(df_dj.shape)\n",
        "print(df_bs.shape)\n",
        "print(df_sj.shape)\n",
        "print(df_us.shape)\n",
        "print(df_ic.shape)\n",
        "print(df_jb.shape)\n",
        "print(df_jj.shape)\n",
        "print(df_cn.shape)\n",
        "print(df_cb.shape)"
      ],
      "execution_count": 69,
      "outputs": [
        {
          "output_type": "stream",
          "name": "stdout",
          "text": [
            "(1212, 5)\n",
            "(142, 5)\n",
            "(1148, 5)\n",
            "(223, 5)\n",
            "(184, 5)\n",
            "(133, 5)\n",
            "(162, 5)\n",
            "(122, 5)\n",
            "(261, 5)\n",
            "(33, 5)\n",
            "(115, 5)\n",
            "(250, 5)\n",
            "(113, 5)\n",
            "(58, 5)\n",
            "(143, 5)\n",
            "(119, 5)\n"
          ]
        }
      ]
    },
    {
      "cell_type": "code",
      "metadata": {
        "colab": {
          "base_uri": "https://localhost:8080/",
          "height": 110
        },
        "id": "elXFeeSSx4rT",
        "outputId": "66692185-017b-4492-90af-8b504236bdb9"
      },
      "source": [
        "df_cb.head(2)"
      ],
      "execution_count": 70,
      "outputs": [
        {
          "output_type": "execute_result",
          "data": {
            "text/html": [
              "<div>\n",
              "<style scoped>\n",
              "    .dataframe tbody tr th:only-of-type {\n",
              "        vertical-align: middle;\n",
              "    }\n",
              "\n",
              "    .dataframe tbody tr th {\n",
              "        vertical-align: top;\n",
              "    }\n",
              "\n",
              "    .dataframe thead th {\n",
              "        text-align: right;\n",
              "    }\n",
              "</style>\n",
              "<table border=\"1\" class=\"dataframe\">\n",
              "  <thead>\n",
              "    <tr style=\"text-align: right;\">\n",
              "      <th></th>\n",
              "      <th>상호명</th>\n",
              "      <th>지점명</th>\n",
              "      <th>시도명</th>\n",
              "      <th>시군구명</th>\n",
              "      <th>도로명주소</th>\n",
              "    </tr>\n",
              "  </thead>\n",
              "  <tbody>\n",
              "    <tr>\n",
              "      <th>1362</th>\n",
              "      <td>스타벅스청주성화점</td>\n",
              "      <td>청주성화점</td>\n",
              "      <td>충청북도</td>\n",
              "      <td>청주시 서원구</td>\n",
              "      <td>충청북도 청주시 서원구 복대로 5</td>\n",
              "    </tr>\n",
              "    <tr>\n",
              "      <th>3531</th>\n",
              "      <td>이디야커피</td>\n",
              "      <td>충북대소점</td>\n",
              "      <td>충청북도</td>\n",
              "      <td>음성군</td>\n",
              "      <td>충청북도 음성군 대소면 대금로 528</td>\n",
              "    </tr>\n",
              "  </tbody>\n",
              "</table>\n",
              "</div>"
            ],
            "text/plain": [
              "            상호명    지점명   시도명     시군구명                 도로명주소\n",
              "1362  스타벅스청주성화점  청주성화점  충청북도  청주시 서원구    충청북도 청주시 서원구 복대로 5\n",
              "3531      이디야커피  충북대소점  충청북도      음성군  충청북도 음성군 대소면 대금로 528"
            ]
          },
          "metadata": {},
          "execution_count": 70
        }
      ]
    },
    {
      "cell_type": "code",
      "metadata": {
        "colab": {
          "base_uri": "https://localhost:8080/"
        },
        "id": "-YZ47R-SysId",
        "outputId": "5eb6bdf5-a622-4dc8-ff01-c3988c35aa58"
      },
      "source": [
        "result = pd.concat([df_seoul, df_kw, df_gg, df_kn, df_kb, df_gj, df_dg, df_dj, df_bs, df_sj, df_us, df_ic, df_jn, df_jb, df_jj, df_cn, df_cb])\n",
        "print(result.shape)"
      ],
      "execution_count": 71,
      "outputs": [
        {
          "output_type": "stream",
          "name": "stdout",
          "text": [
            "(4542, 5)\n"
          ]
        }
      ]
    },
    {
      "cell_type": "code",
      "metadata": {
        "id": "lUghFzePz1ZU"
      },
      "source": [
        "result.to_csv(f'{data_folder}/소상공인_매장추출.csv', encoding='utf-8', index=False)"
      ],
      "execution_count": 72,
      "outputs": []
    },
    {
      "cell_type": "code",
      "metadata": {
        "colab": {
          "base_uri": "https://localhost:8080/",
          "height": 665
        },
        "id": "J9_Clsr60QPq",
        "outputId": "729c3a0f-1919-4f93-a6ed-8b6a3c2e7764"
      },
      "source": [
        "result.tail(20)"
      ],
      "execution_count": 79,
      "outputs": [
        {
          "output_type": "execute_result",
          "data": {
            "text/html": [
              "<div>\n",
              "<style scoped>\n",
              "    .dataframe tbody tr th:only-of-type {\n",
              "        vertical-align: middle;\n",
              "    }\n",
              "\n",
              "    .dataframe tbody tr th {\n",
              "        vertical-align: top;\n",
              "    }\n",
              "\n",
              "    .dataframe thead th {\n",
              "        text-align: right;\n",
              "    }\n",
              "</style>\n",
              "<table border=\"1\" class=\"dataframe\">\n",
              "  <thead>\n",
              "    <tr style=\"text-align: right;\">\n",
              "      <th></th>\n",
              "      <th>상호명</th>\n",
              "      <th>지점명</th>\n",
              "      <th>시도명</th>\n",
              "      <th>시군구명</th>\n",
              "      <th>도로명주소</th>\n",
              "    </tr>\n",
              "  </thead>\n",
              "  <tbody>\n",
              "    <tr>\n",
              "      <th>75835</th>\n",
              "      <td>이디야커피</td>\n",
              "      <td>충북옥천중앙점</td>\n",
              "      <td>충청북도</td>\n",
              "      <td>옥천군</td>\n",
              "      <td>충청북도 옥천군 옥천읍 삼양로 88</td>\n",
              "    </tr>\n",
              "    <tr>\n",
              "      <th>75882</th>\n",
              "      <td>이디야커피</td>\n",
              "      <td>청주파크자이점</td>\n",
              "      <td>충청북도</td>\n",
              "      <td>청주시 흥덕구</td>\n",
              "      <td>충청북도 청주시 흥덕구 청향로5번길 36</td>\n",
              "    </tr>\n",
              "    <tr>\n",
              "      <th>76842</th>\n",
              "      <td>이디야커피</td>\n",
              "      <td>충주문화점</td>\n",
              "      <td>충청북도</td>\n",
              "      <td>충주시</td>\n",
              "      <td>충청북도 충주시 중원대로 3364</td>\n",
              "    </tr>\n",
              "    <tr>\n",
              "      <th>77366</th>\n",
              "      <td>이디야드림플러스</td>\n",
              "      <td>NaN</td>\n",
              "      <td>충청북도</td>\n",
              "      <td>청주시 흥덕구</td>\n",
              "      <td>충청북도 청주시 흥덕구 2순환로 1233</td>\n",
              "    </tr>\n",
              "    <tr>\n",
              "      <th>77506</th>\n",
              "      <td>커피빈</td>\n",
              "      <td>파비뇽점</td>\n",
              "      <td>충청북도</td>\n",
              "      <td>청주시 흥덕구</td>\n",
              "      <td>충청북도 청주시 흥덕구 월명로 212</td>\n",
              "    </tr>\n",
              "    <tr>\n",
              "      <th>79073</th>\n",
              "      <td>스타벅스</td>\n",
              "      <td>충주연수점</td>\n",
              "      <td>충청북도</td>\n",
              "      <td>충주시</td>\n",
              "      <td>충청북도 충주시 계명대로 227</td>\n",
              "    </tr>\n",
              "    <tr>\n",
              "      <th>79112</th>\n",
              "      <td>이디야커피</td>\n",
              "      <td>제천하소점</td>\n",
              "      <td>충청북도</td>\n",
              "      <td>제천시</td>\n",
              "      <td>충청북도 제천시 용두대로15길 18-3</td>\n",
              "    </tr>\n",
              "    <tr>\n",
              "      <th>79357</th>\n",
              "      <td>스타벅스</td>\n",
              "      <td>충주성서점</td>\n",
              "      <td>충청북도</td>\n",
              "      <td>충주시</td>\n",
              "      <td>충청북도 충주시 예성로 151</td>\n",
              "    </tr>\n",
              "    <tr>\n",
              "      <th>79615</th>\n",
              "      <td>이디야커피</td>\n",
              "      <td>가경중앙점</td>\n",
              "      <td>충청북도</td>\n",
              "      <td>청주시 흥덕구</td>\n",
              "      <td>충청북도 청주시 흥덕구 가경로 127</td>\n",
              "    </tr>\n",
              "    <tr>\n",
              "      <th>80638</th>\n",
              "      <td>이디야커피</td>\n",
              "      <td>충북대점</td>\n",
              "      <td>충청북도</td>\n",
              "      <td>청주시 서원구</td>\n",
              "      <td>충청북도 청주시 서원구 내수동로 116</td>\n",
              "    </tr>\n",
              "    <tr>\n",
              "      <th>80985</th>\n",
              "      <td>이디야커피</td>\n",
              "      <td>NaN</td>\n",
              "      <td>충청북도</td>\n",
              "      <td>증평군</td>\n",
              "      <td>충청북도 증평군 증평읍 충청대로 1756</td>\n",
              "    </tr>\n",
              "    <tr>\n",
              "      <th>81932</th>\n",
              "      <td>빽다방</td>\n",
              "      <td>서원대점</td>\n",
              "      <td>충청북도</td>\n",
              "      <td>청주시 서원구</td>\n",
              "      <td>충청북도 청주시 서원구 서원남로 50-5</td>\n",
              "    </tr>\n",
              "    <tr>\n",
              "      <th>83140</th>\n",
              "      <td>이디야커피</td>\n",
              "      <td>제천왕암점</td>\n",
              "      <td>충청북도</td>\n",
              "      <td>제천시</td>\n",
              "      <td>충청북도 제천시 소새로7길 10</td>\n",
              "    </tr>\n",
              "    <tr>\n",
              "      <th>83160</th>\n",
              "      <td>이디야커피</td>\n",
              "      <td>호암신도시점</td>\n",
              "      <td>충청북도</td>\n",
              "      <td>충주시</td>\n",
              "      <td>충청북도 충주시 호암수청2로 25</td>\n",
              "    </tr>\n",
              "    <tr>\n",
              "      <th>83276</th>\n",
              "      <td>빽다방</td>\n",
              "      <td>진천점</td>\n",
              "      <td>충청북도</td>\n",
              "      <td>진천군</td>\n",
              "      <td>충청북도 진천군 진천읍 상산로 73</td>\n",
              "    </tr>\n",
              "    <tr>\n",
              "      <th>83369</th>\n",
              "      <td>빽다방</td>\n",
              "      <td>청주강서점</td>\n",
              "      <td>충청북도</td>\n",
              "      <td>청주시 흥덕구</td>\n",
              "      <td>충청북도 청주시 흥덕구 강서로 115</td>\n",
              "    </tr>\n",
              "    <tr>\n",
              "      <th>83532</th>\n",
              "      <td>이디야커피</td>\n",
              "      <td>청주용정점</td>\n",
              "      <td>충청북도</td>\n",
              "      <td>청주시 상당구</td>\n",
              "      <td>충청북도 청주시 상당구 용정로 44-1</td>\n",
              "    </tr>\n",
              "    <tr>\n",
              "      <th>83593</th>\n",
              "      <td>이디야커피</td>\n",
              "      <td>충주한스타워점</td>\n",
              "      <td>충청북도</td>\n",
              "      <td>충주시</td>\n",
              "      <td>충청북도 충주시 국원대로 107</td>\n",
              "    </tr>\n",
              "    <tr>\n",
              "      <th>83757</th>\n",
              "      <td>빽다방</td>\n",
              "      <td>NaN</td>\n",
              "      <td>충청북도</td>\n",
              "      <td>증평군</td>\n",
              "      <td>충청북도 증평군 증평읍 중앙로 197</td>\n",
              "    </tr>\n",
              "    <tr>\n",
              "      <th>84354</th>\n",
              "      <td>스타벅스</td>\n",
              "      <td>NaN</td>\n",
              "      <td>충청북도</td>\n",
              "      <td>음성군</td>\n",
              "      <td>충청북도 음성군 원남면 보천로 65</td>\n",
              "    </tr>\n",
              "  </tbody>\n",
              "</table>\n",
              "</div>"
            ],
            "text/plain": [
              "            상호명      지점명   시도명     시군구명                   도로명주소\n",
              "75835     이디야커피  충북옥천중앙점  충청북도      옥천군     충청북도 옥천군 옥천읍 삼양로 88\n",
              "75882     이디야커피  청주파크자이점  충청북도  청주시 흥덕구  충청북도 청주시 흥덕구 청향로5번길 36\n",
              "76842     이디야커피    충주문화점  충청북도      충주시      충청북도 충주시 중원대로 3364\n",
              "77366  이디야드림플러스      NaN  충청북도  청주시 흥덕구  충청북도 청주시 흥덕구 2순환로 1233\n",
              "77506       커피빈     파비뇽점  충청북도  청주시 흥덕구    충청북도 청주시 흥덕구 월명로 212\n",
              "79073      스타벅스    충주연수점  충청북도      충주시       충청북도 충주시 계명대로 227\n",
              "79112     이디야커피    제천하소점  충청북도      제천시   충청북도 제천시 용두대로15길 18-3\n",
              "79357      스타벅스    충주성서점  충청북도      충주시        충청북도 충주시 예성로 151\n",
              "79615     이디야커피    가경중앙점  충청북도  청주시 흥덕구    충청북도 청주시 흥덕구 가경로 127\n",
              "80638     이디야커피     충북대점  충청북도  청주시 서원구   충청북도 청주시 서원구 내수동로 116\n",
              "80985     이디야커피      NaN  충청북도      증평군  충청북도 증평군 증평읍 충청대로 1756\n",
              "81932       빽다방     서원대점  충청북도  청주시 서원구  충청북도 청주시 서원구 서원남로 50-5\n",
              "83140     이디야커피    제천왕암점  충청북도      제천시       충청북도 제천시 소새로7길 10\n",
              "83160     이디야커피   호암신도시점  충청북도      충주시      충청북도 충주시 호암수청2로 25\n",
              "83276       빽다방      진천점  충청북도      진천군     충청북도 진천군 진천읍 상산로 73\n",
              "83369       빽다방    청주강서점  충청북도  청주시 흥덕구    충청북도 청주시 흥덕구 강서로 115\n",
              "83532     이디야커피    청주용정점  충청북도  청주시 상당구   충청북도 청주시 상당구 용정로 44-1\n",
              "83593     이디야커피  충주한스타워점  충청북도      충주시       충청북도 충주시 국원대로 107\n",
              "83757       빽다방      NaN  충청북도      증평군    충청북도 증평군 증평읍 중앙로 197\n",
              "84354      스타벅스      NaN  충청북도      음성군     충청북도 음성군 원남면 보천로 65"
            ]
          },
          "metadata": {},
          "execution_count": 79
        }
      ]
    },
    {
      "cell_type": "code",
      "metadata": {
        "id": "pEqQbQ1g1fAT"
      },
      "source": [
        "!apt-get install -y fonts-nanum > /dev/null\n",
        "!fc-cache -fv > /dev/null\n",
        "!rm -rf ~/.cache/matplotlib > /dev/null\n",
        "# 런타임 다시시작"
      ],
      "execution_count": 18,
      "outputs": []
    },
    {
      "cell_type": "code",
      "metadata": {
        "id": "cP4r1Iu72tfd"
      },
      "source": [
        "import numpy as np\n",
        "import pandas as pd\n",
        "import warnings \n",
        "warnings.filterwarnings('ignore')"
      ],
      "execution_count": 74,
      "outputs": []
    },
    {
      "cell_type": "code",
      "metadata": {
        "id": "b8iWOnhu2uXn"
      },
      "source": [
        "import matplotlib as mpl\n",
        "import matplotlib.pyplot as plt\n",
        "mpl.rcParams['axes.unicode_minus'] = False\n",
        "plt.rc('font', family='NanumBarunGothic')"
      ],
      "execution_count": 75,
      "outputs": []
    },
    {
      "cell_type": "code",
      "metadata": {
        "id": "-yM6Qx4J3uaz"
      },
      "source": [
        ""
      ],
      "execution_count": null,
      "outputs": []
    },
    {
      "cell_type": "code",
      "metadata": {
        "id": "O8iXk_ZGRlNo"
      },
      "source": [
        ""
      ],
      "execution_count": null,
      "outputs": []
    }
  ]
}